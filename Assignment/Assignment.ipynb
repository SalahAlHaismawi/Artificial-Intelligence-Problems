{
 "cells": [
  {
   "cell_type": "markdown",
   "metadata": {},
   "source": [
    "<img src=\"tic3151.png\" style=\"height: 70px; width: 200px\" align=left> \n",
    "<img src=\"logo-MMU.png\" style=\"height: 70px; width: 200px\" align=right> "
   ]
  },
  {
   "cell_type": "markdown",
   "metadata": {},
   "source": [
    "## Assignment \n",
    "\n",
    "### Team members\n",
    "\n",
    "Ahmad Ayaan - 1191302794 \n",
    "\n",
    "Salah Fayeq y. AlHaismawi - 1201303035\n",
    "\n",
    "Aisha Sakinah Binti Saadon - 1191101867\n",
    "\n",
    "Aryssa Amanda Binti Azhar - 1191100575\n",
    "\n",
    "\n",
    "### The assignment contains following questions\n",
    "\n",
    "- A* search using Manhattan distance\n",
    "- Breadth-First Search where a cell is allowed to be visited at most thrice.\n",
    "\n",
    "#### The task is to Plot visual(s) to compare between the time that the agent needs to reach the goal using A* and breadth-first search for 5 different sizes of maze.\n"
   ]
  },
  {
   "cell_type": "markdown",
   "metadata": {},
   "source": [
    "# Import library"
   ]
  },
  {
   "cell_type": "code",
   "execution_count": 1,
   "metadata": {},
   "outputs": [],
   "source": [
    "from pyamaze import maze,agent,COLOR,textLabel\n",
    "from queue import PriorityQueue\n",
    "import matplotlib.pyplot as plt\n",
    "import pandas as pd\n",
    "import datetime\n",
    "import timeit"
   ]
  },
  {
   "cell_type": "markdown",
   "metadata": {},
   "source": [
    "# Create maze with 5 different size"
   ]
  },
  {
   "cell_type": "code",
   "execution_count": 2,
   "metadata": {},
   "outputs": [],
   "source": [
    "# # Sizes of the mazes\n",
    "# maze_sizes = [(10, 10), (15, 15), (20, 20), (25, 25), (30, 30)]\n",
    "\n",
    "# for size in maze_sizes:\n",
    "#     width, height = size\n",
    "\n",
    "#     x, y = 1, 1  # goal position\n",
    "#     m = maze(width, height)\n",
    "\n",
    "#     m.CreateMaze(x,y, saveMaze=True)\n",
    "#     m.run()"
   ]
  },
  {
   "cell_type": "markdown",
   "metadata": {},
   "source": [
    "# a. A* search using Manhattan distance"
   ]
  },
  {
   "cell_type": "code",
   "execution_count": 3,
   "metadata": {},
   "outputs": [],
   "source": [
    "# Declaring the heuristic function as manhattan distance\n",
    "\n",
    "def h(cell1,cell2):\n",
    "    x1,y1=cell1\n",
    "    x2,y2=cell2\n",
    "    return abs(x1-x2) + abs(y1-y2)"
   ]
  },
  {
   "cell_type": "code",
   "execution_count": 4,
   "metadata": {},
   "outputs": [],
   "source": [
    "def aStar(m):\n",
    "    start=(m.rows,m.cols)\n",
    "    g_score={cell:float('inf') for cell in m.grid}\n",
    "    g_score[start]=0\n",
    "    f_score={cell:float('inf') for cell in m.grid}\n",
    "    f_score[start]=h(start,(1,1))\n",
    "\n",
    "    open=PriorityQueue()\n",
    "    open.put((h(start,(1,1)),h(start,(1,1)),start))\n",
    "    aPath={}\n",
    "    searchPath=[]\n",
    "\n",
    "    while not open.empty():\n",
    "        currCell=open.get()[2]\n",
    "        searchPath.append(currCell)\n",
    "      \n",
    "        # if current cell == goal then end\n",
    "        if currCell ==(1,1):\n",
    "            break\n",
    "            \n",
    "        for d in \"ESNW\":\n",
    "            if m.maze_map[currCell][d]==True:\n",
    "                if d==\"E\":\n",
    "                    childCell=(currCell[0], currCell[1]+1)\n",
    "                if d==\"W\":\n",
    "                    childCell=(currCell[0], currCell[1]-1)\n",
    "                if d==\"S\":\n",
    "                    childCell=(currCell[0]+1, currCell[1])\n",
    "                if d==\"N\":\n",
    "                    childCell=(currCell[0]-1, currCell[1])\n",
    "                    \n",
    "                temp_g_score = g_score[currCell] + 1\n",
    "                temp_f_score = temp_g_score + h(childCell, (1,1))\n",
    "\n",
    "                if temp_f_score < f_score[childCell]:\n",
    "                    g_score[childCell] = temp_g_score\n",
    "                    f_score[childCell] = temp_f_score\n",
    "                    open.put((temp_f_score, h(childCell,(1,1)), childCell))\n",
    "                    aPath[childCell] = currCell\n",
    "                \n",
    "    fwdPath={}\n",
    "    cell=(1,1)\n",
    "    \n",
    "    while cell!=start:\n",
    "        fwdPath[aPath[cell]]=cell\n",
    "        cell=aPath[cell]\n",
    "        \n",
    "    return fwdPath,aPath, searchPath"
   ]
  },
  {
   "cell_type": "markdown",
   "metadata": {},
   "source": [
    "### Visualize the aStar path"
   ]
  },
  {
   "cell_type": "code",
   "execution_count": 5,
   "metadata": {},
   "outputs": [
    {
     "data": {
      "text/html": [
       "<div>\n",
       "<style scoped>\n",
       "    .dataframe tbody tr th:only-of-type {\n",
       "        vertical-align: middle;\n",
       "    }\n",
       "\n",
       "    .dataframe tbody tr th {\n",
       "        vertical-align: top;\n",
       "    }\n",
       "\n",
       "    .dataframe thead th {\n",
       "        text-align: right;\n",
       "    }\n",
       "</style>\n",
       "<table border=\"1\" class=\"dataframe\">\n",
       "  <thead>\n",
       "    <tr style=\"text-align: right;\">\n",
       "      <th></th>\n",
       "      <th>Maze</th>\n",
       "      <th>Maze Size</th>\n",
       "      <th>Search Time</th>\n",
       "      <th>Path Length</th>\n",
       "    </tr>\n",
       "  </thead>\n",
       "  <tbody>\n",
       "    <tr>\n",
       "      <th>0</th>\n",
       "      <td>maze--2023-05-17--10-14-16.csv</td>\n",
       "      <td>(10, 10)</td>\n",
       "      <td>0.001009</td>\n",
       "      <td>58</td>\n",
       "    </tr>\n",
       "    <tr>\n",
       "      <th>1</th>\n",
       "      <td>maze--2023-05-17--10-14-18.csv</td>\n",
       "      <td>(15, 15)</td>\n",
       "      <td>0.001644</td>\n",
       "      <td>104</td>\n",
       "    </tr>\n",
       "    <tr>\n",
       "      <th>2</th>\n",
       "      <td>maze--2023-05-17--10-14-20.csv</td>\n",
       "      <td>(20, 20)</td>\n",
       "      <td>0.003697</td>\n",
       "      <td>266</td>\n",
       "    </tr>\n",
       "    <tr>\n",
       "      <th>3</th>\n",
       "      <td>maze--2023-05-17--10-14-21.csv</td>\n",
       "      <td>(25, 25)</td>\n",
       "      <td>0.003349</td>\n",
       "      <td>164</td>\n",
       "    </tr>\n",
       "    <tr>\n",
       "      <th>4</th>\n",
       "      <td>maze--2023-05-17--10-14-23.csv</td>\n",
       "      <td>(30, 30)</td>\n",
       "      <td>0.007217</td>\n",
       "      <td>270</td>\n",
       "    </tr>\n",
       "  </tbody>\n",
       "</table>\n",
       "</div>"
      ],
      "text/plain": [
       "                             Maze Maze Size  Search Time  Path Length\n",
       "0  maze--2023-05-17--10-14-16.csv  (10, 10)     0.001009           58\n",
       "1  maze--2023-05-17--10-14-18.csv  (15, 15)     0.001644          104\n",
       "2  maze--2023-05-17--10-14-20.csv  (20, 20)     0.003697          266\n",
       "3  maze--2023-05-17--10-14-21.csv  (25, 25)     0.003349          164\n",
       "4  maze--2023-05-17--10-14-23.csv  (30, 30)     0.007217          270"
      ]
     },
     "execution_count": 5,
     "metadata": {},
     "output_type": "execute_result"
    }
   ],
   "source": [
    "maze_files = ['maze--2023-05-17--10-14-16.csv', 'maze--2023-05-17--10-14-18.csv', \n",
    "             'maze--2023-05-17--10-14-20.csv', 'maze--2023-05-17--10-14-21.csv', \n",
    "             'maze--2023-05-17--10-14-23.csv']\n",
    "\n",
    "# Define the maze sizes\n",
    "maze_sizes = [(10, 10), (15, 15), (20, 20), (25, 25), (30, 30)]\n",
    "\n",
    "# Create empty lists to store the search times and maze names\n",
    "search_times = []\n",
    "maze_names = []\n",
    "maze_sizes_list = []\n",
    "path_lengths = []\n",
    "\n",
    "for maze_file, maze_size in zip(maze_files, maze_sizes):\n",
    "    # Create the maze and load maze from a file\n",
    "    m = maze()\n",
    "    m.CreateMaze(loadMaze= maze_file)\n",
    "\n",
    "    # Measure the execution time using timeit\n",
    "    execution_time = timeit.timeit(lambda: aStar(m), number=1)\n",
    "    execution_time = round(execution_time, 6)\n",
    "    \n",
    "    # Add the search time and maze name to the lists\n",
    "    maze_names.append(maze_file)\n",
    "    maze_sizes_list.append(maze_size)\n",
    "    search_times.append(execution_time)\n",
    "    \n",
    "    # Create agents for demo purposes\n",
    "    a = agent(m, footprints=True)\n",
    "    b = agent(m, footprints=True, color=COLOR.yellow, filled=True)\n",
    "\n",
    "    # Trace and print the search path\n",
    "    path = aStar(m)\n",
    "    m.tracePath({b: path[2]}, showMarked=True)\n",
    "\n",
    "    # Trace and print the forward path\n",
    "    m.tracePath({a: path[0]})\n",
    "    l = textLabel(m, \"A star Path Length\", len(path[0]) + 1)\n",
    "    \n",
    "    # Add the path length to the list\n",
    "    path_lengths.append(len(path[0]))\n",
    "\n",
    "# Create a DataFrame from the search times and maze names\n",
    "df_AStar = pd.DataFrame({'Maze': maze_names, 'Maze Size': maze_sizes_list, 'Search Time': search_times, 'Path Length': path_lengths})\n",
    "df_AStar"
   ]
  },
  {
   "cell_type": "code",
   "execution_count": 6,
   "metadata": {},
   "outputs": [
    {
     "data": {
      "image/png": "[encoded data removed]",
      "text/plain": [
       "<Figure size 432x288 with 1 Axes>"
      ]
     },
     "metadata": {
      "needs_background": "light"
     },
     "output_type": "display_data"
    }
   ],
   "source": [
    "# Plot the graph\n",
    "df_AStar.plot(x='Maze Size', y='Search Time', kind='line', marker='o')\n",
    "\n",
    "# Set the labels and title\n",
    "plt.xlabel('Maze')\n",
    "plt.ylabel('Search Time (seconds)')\n",
    "plt.title('A* Search Time for Different Mazes')\n",
    "\n",
    "# Rotate the x-axis labels for better visibility\n",
    "plt.xticks(rotation=45)\n",
    "\n",
    "# Show the plot\n",
    "plt.show()"
   ]
  },
  {
   "cell_type": "markdown",
   "metadata": {},
   "source": [
    "# b. Breadth-First Search where a cell is allowed to be visited at most thrice."
   ]
  },
  {
   "cell_type": "code",
   "execution_count": 7,
   "metadata": {},
   "outputs": [],
   "source": [
    "def BFS(m):\n",
    "    #initialization    \n",
    "    start=(m.rows,m.cols)\n",
    "    explored=[start]\n",
    "    frontier=[start]\n",
    "    \n",
    "    # Dictionary to keep track of visited cells and their visit count\n",
    "    visitedCount = {start: 1} \n",
    "\n",
    "    bfsPath={}\n",
    "    searchPath=[]\n",
    "    \n",
    "    # continue loop as long as frontier !=0\n",
    "    while len(frontier)>0:\n",
    "        currCell = frontier.pop(0)\n",
    "        searchPath.append(currCell)\n",
    "       \n",
    "        \n",
    "        # if current cell == goal then end\n",
    "        if currCell ==(1,1):\n",
    "            break\n",
    "        \n",
    "        # this loop is to look into all 4 directions.\n",
    "        for d in \"ESNW\":\n",
    "            if m.maze_map[currCell][d]==True:\n",
    "                if d==\"E\":\n",
    "                    childCell=(currCell[0], currCell[1]+1)\n",
    "                elif d==\"W\":\n",
    "                    childCell=(currCell[0], currCell[1]-1)\n",
    "                elif d==\"S\":\n",
    "                    childCell=(currCell[0]+1, currCell[1])\n",
    "                elif d==\"N\":\n",
    "                    childCell=(currCell[0]-1, currCell[1])\n",
    "                \n",
    "\n",
    "                \n",
    "                if childCell not in visitedCount:\n",
    "                    visitedCount[childCell] = 1\n",
    "                else:\n",
    "                    visitedCount[childCell] += 1\n",
    "\n",
    "                if childCell in explored and visitedCount[childCell] >= 3:\n",
    "                    continue\n",
    "                    \n",
    "                explored.append(childCell)\n",
    "                frontier.append(childCell)\n",
    "                bfsPath[childCell]=currCell\n",
    "\n",
    "                if(childCell ==(1,1)):\n",
    "                    break\n",
    "\n",
    "    fwdPath={}\n",
    "    cell=(1,1)\n",
    "    \n",
    "    \n",
    "    while cell != start:  \n",
    "        fwdPath[bfsPath[cell]] = cell  \n",
    "        cell = bfsPath[cell] \n",
    "    \n",
    "    return fwdPath, bfsPath, searchPath"
   ]
  },
  {
   "cell_type": "code",
   "execution_count": 8,
   "metadata": {},
   "outputs": [
    {
     "data": {
      "text/html": [
       "<div>\n",
       "<style scoped>\n",
       "    .dataframe tbody tr th:only-of-type {\n",
       "        vertical-align: middle;\n",
       "    }\n",
       "\n",
       "    .dataframe tbody tr th {\n",
       "        vertical-align: top;\n",
       "    }\n",
       "\n",
       "    .dataframe thead th {\n",
       "        text-align: right;\n",
       "    }\n",
       "</style>\n",
       "<table border=\"1\" class=\"dataframe\">\n",
       "  <thead>\n",
       "    <tr style=\"text-align: right;\">\n",
       "      <th></th>\n",
       "      <th>Maze</th>\n",
       "      <th>Maze Size</th>\n",
       "      <th>Search Time</th>\n",
       "      <th>Path Length</th>\n",
       "    </tr>\n",
       "  </thead>\n",
       "  <tbody>\n",
       "    <tr>\n",
       "      <th>0</th>\n",
       "      <td>maze--2023-05-17--10-14-16.csv</td>\n",
       "      <td>(10, 10)</td>\n",
       "      <td>0.001534</td>\n",
       "      <td>58</td>\n",
       "    </tr>\n",
       "    <tr>\n",
       "      <th>1</th>\n",
       "      <td>maze--2023-05-17--10-14-18.csv</td>\n",
       "      <td>(15, 15)</td>\n",
       "      <td>0.005819</td>\n",
       "      <td>104</td>\n",
       "    </tr>\n",
       "    <tr>\n",
       "      <th>2</th>\n",
       "      <td>maze--2023-05-17--10-14-20.csv</td>\n",
       "      <td>(20, 20)</td>\n",
       "      <td>0.017561</td>\n",
       "      <td>266</td>\n",
       "    </tr>\n",
       "    <tr>\n",
       "      <th>3</th>\n",
       "      <td>maze--2023-05-17--10-14-21.csv</td>\n",
       "      <td>(25, 25)</td>\n",
       "      <td>0.033229</td>\n",
       "      <td>164</td>\n",
       "    </tr>\n",
       "    <tr>\n",
       "      <th>4</th>\n",
       "      <td>maze--2023-05-17--10-14-23.csv</td>\n",
       "      <td>(30, 30)</td>\n",
       "      <td>0.091769</td>\n",
       "      <td>270</td>\n",
       "    </tr>\n",
       "  </tbody>\n",
       "</table>\n",
       "</div>"
      ],
      "text/plain": [
       "                             Maze Maze Size  Search Time  Path Length\n",
       "0  maze--2023-05-17--10-14-16.csv  (10, 10)     0.001534           58\n",
       "1  maze--2023-05-17--10-14-18.csv  (15, 15)     0.005819          104\n",
       "2  maze--2023-05-17--10-14-20.csv  (20, 20)     0.017561          266\n",
       "3  maze--2023-05-17--10-14-21.csv  (25, 25)     0.033229          164\n",
       "4  maze--2023-05-17--10-14-23.csv  (30, 30)     0.091769          270"
      ]
     },
     "execution_count": 8,
     "metadata": {},
     "output_type": "execute_result"
    }
   ],
   "source": [
    "maze_files = ['maze--2023-05-17--10-14-16.csv', 'maze--2023-05-17--10-14-18.csv', \n",
    "             'maze--2023-05-17--10-14-20.csv', 'maze--2023-05-17--10-14-21.csv', \n",
    "             'maze--2023-05-17--10-14-23.csv']\n",
    "\n",
    "# Define the maze sizes\n",
    "maze_sizes = [(10, 10), (15, 15), (20, 20), (25, 25), (30, 30)]\n",
    "\n",
    "# Create empty lists to store the search times and maze names\n",
    "search_times = []\n",
    "maze_names = []\n",
    "maze_sizes_list = []\n",
    "path_lengths = []\n",
    "\n",
    "for maze_file, maze_size in zip(maze_files, maze_sizes):\n",
    "    # Create the maze and load maze from a file\n",
    "    m = maze()\n",
    "    m.CreateMaze(loadMaze= maze_file)\n",
    "\n",
    "  # Measure the execution time using timeit\n",
    "    execution_time = timeit.timeit(lambda: BFS(m), number=1)\n",
    "    execution_time = round(execution_time, 6)\n",
    "    \n",
    "    # Add the search time and maze name to the lists\n",
    "    maze_names.append(maze_file)\n",
    "    maze_sizes_list.append(maze_size)\n",
    "    search_times.append(execution_time)\n",
    "    \n",
    "    # Create agents for demo purposes\n",
    "    a = agent(m, footprints=True)\n",
    "    b=agent(m,footprints=True,color=COLOR.yellow,filled=True)\n",
    "    \n",
    "    # Trace and print the search path\n",
    "    path = BFS(m)\n",
    "    m.tracePath({b:path[2]},showMarked=True)\n",
    "    \n",
    "    m.tracePath({a: path[0]})\n",
    "    l = textLabel(m, \"BFS Path Length\", len(path[0]) + 1)\n",
    "    \n",
    "    # Add the path length to the list\n",
    "    path_lengths.append(len(path[0]))\n",
    "\n",
    "# Create a DataFrame from the search times and maze names\n",
    "df_BFS = pd.DataFrame({'Maze': maze_names, 'Maze Size': maze_sizes_list, 'Search Time': search_times, 'Path Length': path_lengths})\n",
    "df_BFS"
   ]
  },
  {
   "cell_type": "code",
   "execution_count": 9,
   "metadata": {},
   "outputs": [
    {
     "data": {
      "image/png": "[encoded data removed]",
      "text/plain": [
       "<Figure size 432x288 with 1 Axes>"
      ]
     },
     "metadata": {
      "needs_background": "light"
     },
     "output_type": "display_data"
    }
   ],
   "source": [
    "# Plot the graph\n",
    "df_BFS.plot(x='Maze Size', y='Search Time', kind='line', marker='o')\n",
    "\n",
    "# Set the labels and title\n",
    "plt.xlabel('Maze')\n",
    "plt.ylabel('Search Time (seconds)')\n",
    "plt.title('BFS Search Time for Different Mazes')\n",
    "\n",
    "# Rotate the x-axis labels for better visibility\n",
    "plt.xticks(rotation=45)\n",
    "\n",
    "# Show the plot\n",
    "plt.show()"
   ]
  },
  {
   "cell_type": "markdown",
   "metadata": {},
   "source": [
    "# Comparison of A* and BFS"
   ]
  },
  {
   "cell_type": "code",
   "execution_count": 10,
   "metadata": {},
   "outputs": [
    {
     "data": {
      "image/png": "[encoded data removed]",
      "text/plain": [
       "<Figure size 720x432 with 1 Axes>"
      ]
     },
     "metadata": {
      "needs_background": "light"
     },
     "output_type": "display_data"
    }
   ],
   "source": [
    "maze_size = ['(10, 10)', '(15, 15)', '(20, 20)', '(25, 25)', '(30, 30)']\n",
    "\n",
    "search_time1 = df_AStar['Search Time'].values\n",
    "search_time2 = df_BFS['Search Time'].values\n",
    "\n",
    "plt.figure(figsize=(10, 6))\n",
    "plt.plot(maze_size, search_time1, label=\"AStar\")\n",
    "plt.plot(maze_size, search_time2, label=\"BFS\")\n",
    "plt.xlabel('Maze Size')\n",
    "plt.ylabel('Search Time')\n",
    "plt.title('Search time of AStar and BFS')\n",
    "plt.legend()\n",
    "plt.show()"
   ]
  },
  {
   "cell_type": "markdown",
   "metadata": {},
   "source": [
    "# Summary\n"
   ]
  },
  {
   "cell_type": "markdown",
   "metadata": {},
   "source": [
    ">Based on the findings, A* algorithm generally outperforms BFS in terms of search time, taking between 0.001009s to 0.007217s, while BFS ranges from 0.001534s to 0.091769s. However, both BFS and A* algorithms yield similar path lengths for each maze, indicating their effectiveness in finding the shortest path from start to goal. In summary, the performance of both algorithms remains consistent across different maze sizes, with A* algorithm demonstrating slightly faster search times. These algorithms offer reliable solutions for maze navigation, with BFS ensuring the shortest path and A* striking a balance between optimality and efficiency."
   ]
  }
 ],
 "metadata": {
  "kernelspec": {
   "display_name": "Python 3",
   "language": "python",
   "name": "python3"
  },
  "language_info": {
   "codemirror_mode": {
    "name": "ipython",
    "version": 3
   },
   "file_extension": ".py",
   "mimetype": "text/x-python",
   "name": "python",
   "nbconvert_exporter": "python",
   "pygments_lexer": "ipython3",
   "version": "3.8.8"
  }
 },
 "nbformat": 4,
 "nbformat_minor": 4
}
