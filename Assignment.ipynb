{
 "cells": [
  {
   "cell_type": "markdown",
   "metadata": {},
   "source": [
    "<img src=\"tic3151.png\" style=\"height: 70px; width: 200px\" align=left> \n",
    "<img src=\"logo-MMU.png\" style=\"height: 70px; width: 200px\" align=right> "
   ]
  },
  {
   "cell_type": "markdown",
   "metadata": {},
   "source": [
    "# Lab 4: BFS and A* Search\n",
    "\n",
    "### Learning Objectives:\n",
    "\n",
    "Towards the end of the lab session, you will be able to:\n",
    "\n",
    "- define and code Breadth-First Search\n",
    "- define and code A* Search "
   ]
  },
  {
   "cell_type": "markdown",
   "metadata": {},
   "source": [
    "# Breadth-First Search"
   ]
  },
  {
   "cell_type": "code",
   "execution_count": 1,
   "metadata": {},
   "outputs": [],
   "source": [
    "def BFS(m):\n",
    "    #initialization    \n",
    "    start=(m.rows,m.cols)\n",
    "    explored=[start]\n",
    "    frontier=[start]\n",
    "    \n",
    "    print(\"original frontier=\",frontier)\n",
    "    print(\"original explored=\",explored)\n",
    "    \n",
    "    bfsPath={}\n",
    "    searchPath=[]\n",
    "    # continue loop as long as frontier !=0\n",
    "    while len(frontier)>0:\n",
    "        # remember to pop based on FIFO\n",
    "        # your answer here\n",
    "        currCell = frontier.pop(0)\n",
    "        searchPath.append(currCell)\n",
    "       \n",
    "        \n",
    "        # if current cell == goal then end\n",
    "        if currCell ==(1,1):\n",
    "            break\n",
    "        \n",
    "        # this loop is to look into all 4 directions.\n",
    "        # your answer here...##########\n",
    "        for d in \"ESNW\":\n",
    "            if m.maze_map[currCell][d]==True:\n",
    "                if d==\"E\":\n",
    "                    childCell=(currCell[0], currCell[1]+1)\n",
    "                elif d==\"W\":\n",
    "                    childCell=(currCell[0], currCell[1]-1)\n",
    "                elif d==\"S\":\n",
    "                    childCell=(currCell[0]+1, currCell[1])\n",
    "                elif d==\"N\":\n",
    "                    childCell=(currCell[0]-1, currCell[1])\n",
    "                \n",
    "                if childCell in explored:\n",
    "                    continue\n",
    "                \n",
    "                explored.append(childCell)\n",
    "                frontier.append(childCell)\n",
    "                \n",
    "                print(\"frontier=\",frontier)\n",
    "                print(\"explored=\",explored)\n",
    "                \n",
    "                bfsPath[childCell]=currCell\n",
    "    \n",
    "    print(\"=============================================\")\n",
    "    # print out content of bfsPath    \n",
    "    print(\"{\" + \"\\n\".join(\"{!r}: {!r},\".format(k, v) for k, v in bfsPath.items()) + \"}\")\n",
    "     \n",
    "    fwdPath={}\n",
    "    cell=(1,1)\n",
    "    \n",
    "    print(\"=============================================\")\n",
    "    \n",
    "    while cell != start:  \n",
    "        fwdPath[bfsPath[cell]] = cell  \n",
    "        cell = bfsPath[cell] \n",
    "    \n",
    "    print(\"=============================================\")\n",
    "    print(\"{\" + \"\\n\".join(\"{!r}: {!r},\".format(k, v) for k, v in fwdPath.items()) + \"}\")\n",
    "    \n",
    "    return fwdPath"
   ]
  },
  {
   "cell_type": "code",
   "execution_count": 2,
   "metadata": {},
   "outputs": [
    {
     "name": "stdout",
     "output_type": "stream",
     "text": [
      "original frontier= [(4, 4)]\n",
      "original explored= [(4, 4)]\n",
      "frontier= [(3, 4)]\n",
      "explored= [(4, 4), (3, 4)]\n",
      "frontier= [(2, 4)]\n",
      "explored= [(4, 4), (3, 4), (2, 4)]\n",
      "frontier= [(2, 4), (3, 3)]\n",
      "explored= [(4, 4), (3, 4), (2, 4), (3, 3)]\n",
      "frontier= [(3, 3), (1, 4)]\n",
      "explored= [(4, 4), (3, 4), (2, 4), (3, 3), (1, 4)]\n",
      "frontier= [(1, 4), (4, 3)]\n",
      "explored= [(4, 4), (3, 4), (2, 4), (3, 3), (1, 4), (4, 3)]\n",
      "frontier= [(4, 3), (1, 3)]\n",
      "explored= [(4, 4), (3, 4), (2, 4), (3, 3), (1, 4), (4, 3), (1, 3)]\n",
      "frontier= [(1, 3), (4, 2)]\n",
      "explored= [(4, 4), (3, 4), (2, 4), (3, 3), (1, 4), (4, 3), (1, 3), (4, 2)]\n",
      "frontier= [(4, 2), (2, 3)]\n",
      "explored= [(4, 4), (3, 4), (2, 4), (3, 3), (1, 4), (4, 3), (1, 3), (4, 2), (2, 3)]\n",
      "frontier= [(4, 2), (2, 3), (1, 2)]\n",
      "explored= [(4, 4), (3, 4), (2, 4), (3, 3), (1, 4), (4, 3), (1, 3), (4, 2), (2, 3), (1, 2)]\n",
      "frontier= [(2, 3), (1, 2), (4, 1)]\n",
      "explored= [(4, 4), (3, 4), (2, 4), (3, 3), (1, 4), (4, 3), (1, 3), (4, 2), (2, 3), (1, 2), (4, 1)]\n",
      "frontier= [(3, 1)]\n",
      "explored= [(4, 4), (3, 4), (2, 4), (3, 3), (1, 4), (4, 3), (1, 3), (4, 2), (2, 3), (1, 2), (4, 1), (3, 1)]\n",
      "frontier= [(3, 2)]\n",
      "explored= [(4, 4), (3, 4), (2, 4), (3, 3), (1, 4), (4, 3), (1, 3), (4, 2), (2, 3), (1, 2), (4, 1), (3, 1), (3, 2)]\n",
      "frontier= [(2, 2)]\n",
      "explored= [(4, 4), (3, 4), (2, 4), (3, 3), (1, 4), (4, 3), (1, 3), (4, 2), (2, 3), (1, 2), (4, 1), (3, 1), (3, 2), (2, 2)]\n",
      "frontier= [(2, 1)]\n",
      "explored= [(4, 4), (3, 4), (2, 4), (3, 3), (1, 4), (4, 3), (1, 3), (4, 2), (2, 3), (1, 2), (4, 1), (3, 1), (3, 2), (2, 2), (2, 1)]\n",
      "frontier= [(1, 1)]\n",
      "explored= [(4, 4), (3, 4), (2, 4), (3, 3), (1, 4), (4, 3), (1, 3), (4, 2), (2, 3), (1, 2), (4, 1), (3, 1), (3, 2), (2, 2), (2, 1), (1, 1)]\n",
      "=============================================\n",
      "{(3, 4): (4, 4),\n",
      "(2, 4): (3, 4),\n",
      "(3, 3): (3, 4),\n",
      "(1, 4): (2, 4),\n",
      "(4, 3): (3, 3),\n",
      "(1, 3): (1, 4),\n",
      "(4, 2): (4, 3),\n",
      "(2, 3): (1, 3),\n",
      "(1, 2): (1, 3),\n",
      "(4, 1): (4, 2),\n",
      "(3, 1): (4, 1),\n",
      "(3, 2): (3, 1),\n",
      "(2, 2): (3, 2),\n",
      "(2, 1): (2, 2),\n",
      "(1, 1): (2, 1),}\n",
      "=============================================\n",
      "=============================================\n",
      "{(2, 1): (1, 1),\n",
      "(2, 2): (2, 1),\n",
      "(3, 2): (2, 2),\n",
      "(3, 1): (3, 2),\n",
      "(4, 1): (3, 1),\n",
      "(4, 2): (4, 1),\n",
      "(4, 3): (4, 2),\n",
      "(3, 3): (4, 3),\n",
      "(3, 4): (3, 3),\n",
      "(4, 4): (3, 4),}\n"
     ]
    }
   ],
   "source": [
    "from pyamaze import maze, agent\n",
    "\n",
    "m = maze(4,4)\n",
    "m.CreateMaze(loadMaze=\"maze.csv\")\n",
    "path=BFS(m)\n",
    "a=agent(m,footprints=True)\n",
    "m.tracePath({a:path})\n",
    "m.run()"
   ]
  },
  {
   "cell_type": "markdown",
   "metadata": {},
   "source": [
    "# Exercise\n",
    "\n",
    "(1) Explain the output of dfsPath and fwdpath dictionary. \n",
    "\n",
    "(2) What should be done so that the DFS is using this order: E -> W -> N -> S. That is to explore \"E\" first, then \"W\", \"N\", and \"S\".\n"
   ]
  },
  {
   "cell_type": "markdown",
   "metadata": {},
   "source": [
    "# Maze and A* Search"
   ]
  },
  {
   "cell_type": "code",
   "execution_count": 1,
   "metadata": {},
   "outputs": [],
   "source": [
    "from pyamaze import maze,agent,COLOR,textLabel\n",
    "from queue import PriorityQueue"
   ]
  },
  {
   "cell_type": "code",
   "execution_count": 2,
   "metadata": {},
   "outputs": [],
   "source": [
    "# Declaring the heuristic function as manhattan distance\n",
    "\n",
    "def h(cell1,cell2):\n",
    "    x1,y1=cell1\n",
    "    x2,y2=cell2\n",
    "    return abs(x1-x2) + abs(y1-y2)"
   ]
  },
  {
   "cell_type": "code",
   "execution_count": 3,
   "metadata": {},
   "outputs": [],
   "source": [
    "def aStar(m):\n",
    "    start=(m.rows,m.cols)\n",
    "    g_score={cell:float('inf') for cell in m.grid}\n",
    "    g_score[start]=0\n",
    "    f_score={cell:float('inf') for cell in m.grid}\n",
    "    f_score[start]=h(start,(1,1))\n",
    "\n",
    "    open=PriorityQueue()\n",
    "    open.put((h(start,(1,1)),h(start,(1,1)),start))\n",
    "    aPath={}\n",
    "    searchPath=[]\n",
    "    \n",
    "    # your answer here...\n",
    "    while not open.empty():\n",
    "        currCell=open.get()[2]\n",
    "        searchPath.append(currCell)\n",
    "      \n",
    "        # if current cell == goal then end\n",
    "        if currCell ==(1,1):\n",
    "            break\n",
    "            \n",
    "        for d in \"ESNW\":\n",
    "            if m.maze_map[currCell][d]==True:\n",
    "                if d==\"E\":\n",
    "                    childCell=(currCell[0], currCell[1]+1)\n",
    "                if d==\"W\":\n",
    "                    childCell=(currCell[0], currCell[1]-1)\n",
    "                if d==\"S\":\n",
    "                    childCell=(currCell[0]+1, currCell[1])\n",
    "                if d==\"N\":\n",
    "                    childCell=(currCell[0]-1, currCell[1])\n",
    "                    \n",
    "                temp_g_score=g_score[currCell]+1\n",
    "                temp_f_score=temp_g_score=h(childCell,(1,1))\n",
    "                \n",
    "                if temp_f_score < f_score[childCell]:\n",
    "                    g_score[childCell]=temp_g_score\n",
    "                    f_score[childCell]=temp_f_score\n",
    "                    open.put((temp_f_score, h(childCell, (1,1)), childCell))\n",
    "                    aPath[childCell]=currCell\n",
    "                \n",
    "    fwdPath={}\n",
    "    cell=(1,1)\n",
    "    \n",
    "    while cell!=start:\n",
    "        fwdPath[aPath[cell]]=cell\n",
    "        cell=aPath[cell]\n",
    "    return fwdPath,aPath, searchPath"
   ]
  },
  {
   "cell_type": "markdown",
   "metadata": {},
   "source": [
    "### Visualize the aStar path"
   ]
  },
  {
   "cell_type": "code",
   "execution_count": 4,
   "metadata": {},
   "outputs": [
    {
     "name": "stdout",
     "output_type": "stream",
     "text": [
      "[(9, 10), (8, 10), (7, 10), (8, 9), (8, 8), (8, 7), (7, 7), (7, 6), (9, 9), (9, 8), (9, 7), (9, 6), (8, 6), (8, 5), (8, 4), (7, 4), (7, 5), (6, 5), (6, 6), (6, 7), (6, 8), (7, 8), (7, 9), (6, 9), (6, 10), (5, 10), (4, 10), (3, 10), (2, 10), (1, 10), (1, 9), (2, 9), (3, 9), (3, 8), (3, 7), (2, 7), (1, 7), (1, 6), (1, 5), (1, 4), (1, 3), (1, 8), (2, 8), (5, 9), (4, 9), (4, 8), (4, 7), (4, 6), (3, 6), (2, 6), (2, 5), (3, 5), (3, 4), (2, 4), (2, 3), (2, 2), (1, 2), (1, 1)]\n",
      "{(1, 2): (1, 1), (2, 2): (1, 2), (2, 3): (2, 2), (2, 4): (2, 3), (3, 4): (2, 4), (3, 5): (3, 4), (2, 5): (3, 5), (2, 6): (2, 5), (3, 6): (2, 6), (4, 6): (3, 6), (4, 7): (4, 6), (4, 8): (4, 7), (4, 9): (4, 8), (5, 9): (4, 9), (5, 10): (5, 9), (6, 10): (5, 10), (6, 9): (6, 10), (7, 9): (6, 9), (7, 8): (7, 9), (6, 8): (7, 8), (6, 7): (6, 8), (6, 6): (6, 7), (6, 5): (6, 6), (7, 5): (6, 5), (7, 4): (7, 5), (8, 4): (7, 4), (8, 5): (8, 4), (8, 6): (8, 5), (9, 6): (8, 6), (9, 7): (9, 6), (9, 8): (9, 7), (9, 9): (9, 8), (9, 10): (9, 9), (10, 10): (9, 10)}\n"
     ]
    }
   ],
   "source": [
    "from pyamaze import maze, agent, COLOR\n",
    "\n",
    "m = maze()\n",
    "m.CreateMaze(loadMaze='aStar-Maze.csv')\n",
    "\n",
    "path=aStar(m) \n",
    "a=agent(m,footprints=True)\n",
    "\n",
    "# this is to demo the search path\n",
    "b=agent(m,footprints=True,color=COLOR.yellow,filled=True)\n",
    "m.tracePath({b:path[2]},showMarked=True)\n",
    "print(path[2])\n",
    "\n",
    "# this is to demo the fwdPath\n",
    "m.tracePath({a:path[0]}) \n",
    "l=textLabel(m, \"A star Path Length\", len(path[0])+1)\n",
    "print(path[0])\n",
    "\n",
    "m.run()"
   ]
  },
  {
   "cell_type": "markdown",
   "metadata": {},
   "source": [
    "# Exercise\n",
    "\n",
    "(1) Include the code to display the content of the solution path and calculate the solution path cost.\n"
   ]
  }
 ],
 "metadata": {
  "kernelspec": {
   "display_name": "Python 3",
   "language": "python",
   "name": "python3"
  },
  "language_info": {
   "codemirror_mode": {
    "name": "ipython",
    "version": 3
   },
   "file_extension": ".py",
   "mimetype": "text/x-python",
   "name": "python",
   "nbconvert_exporter": "python",
   "pygments_lexer": "ipython3",
   "version": "3.8.8"
  }
 },
 "nbformat": 4,
 "nbformat_minor": 4
}
