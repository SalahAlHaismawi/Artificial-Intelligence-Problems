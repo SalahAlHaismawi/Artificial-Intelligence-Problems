{
 "cells": [
  {
   "cell_type": "markdown",
   "id": "6d81adfa",
   "metadata": {},
   "source": [
    "<img src=\"tic3151.png\" style=\"height: 70px; width: 200px\" align=left> \n",
    "<img src=\"logo-MMU.png\" style=\"height: 70px; width: 200px\" align=right> "
   ]
  },
  {
   "cell_type": "markdown",
   "id": "319a1af8",
   "metadata": {},
   "source": [
    "### Team members\n",
    "\n",
    "Ahmad Ayaan - 1191302794 \n",
    "\n",
    "Salah Fayeq y. AlHaismawi - 1201303035\n",
    "\n",
    "Aisha Sakinah Binti Saadon - 1191101867\n",
    "\n",
    "Aryssa Amanda Binti Azhar - 1191100575\n",
    "\n",
    "\n",
    "### The assignment contains following questions\n"
   ]
  },
  {
   "cell_type": "markdown",
   "id": "92e13a0d",
   "metadata": {},
   "source": [
    "# Installing Libraries\n",
    "\n",
    "##### Note: Uncomment the code the code to install the relevant libraries"
   ]
  },
  {
   "cell_type": "code",
   "execution_count": null,
   "id": "c41f5244",
   "metadata": {},
   "outputs": [],
   "source": [
    "# pip install pygad\n"
   ]
  },
  {
   "cell_type": "markdown",
   "id": "3b5d1a44",
   "metadata": {},
   "source": [
    "# Importing Libraries"
   ]
  },
  {
   "cell_type": "code",
   "execution_count": 1,
   "id": "533bec51",
   "metadata": {},
   "outputs": [],
   "source": [
    "from random import randint\n",
    "import random\n"
   ]
  },
  {
   "cell_type": "markdown",
   "id": "8b5aef07",
   "metadata": {},
   "source": [
    "# Question 1\n",
    "\n",
    "Year-end school holiday is coming soon. A kindergarten teacher would like to give each\n",
    "of the student in her class, an amazing holiday set by November 2023. There are 25\n",
    "students in her class consisting of 15 girls and 10 boys. She has approached you for\n",
    "help and provided the following details to you:\n",
    "\n",
    "• Budget for 25 holiday sets = RM 200.00\n",
    "\n",
    "• Each holiday set must be wrapped using a sheet of paper i.e. blue wrapper for\n",
    "boy’s holiday set and pink wrapper for girl’s holiday set. Each wrapper cost\n",
    "RM1.00\n",
    "\n",
    "• Each holiday set should have at least 2 items being stationery\n",
    "\n"
   ]
  },
  {
   "cell_type": "markdown",
   "id": "733dc0af",
   "metadata": {},
   "source": [
    "## Variables Declaration"
   ]
  },
  {
   "cell_type": "code",
   "execution_count": 24,
   "id": "e82136fa",
   "metadata": {},
   "outputs": [],
   "source": [
    "# Constant variables\n",
    "budget = 200.00\n",
    "minimum_stationary_item = 2\n",
    "wrapper_cost = 1.00\n",
    "\n",
    "# List of items and their prices\n",
    "items = [\n",
    "    (\"Chipsmore Biscuit\", 2.00),\n",
    "    (\"2B pencil\", 1.00),\n",
    "    (\"Color pencil\", 3.00),\n",
    "    (\"Magic pen\", 3.00),\n",
    "    (\"Potato chip\", 2.00),\n",
    "    (\"Milo packet\", 1.00),\n",
    "    (\"Mini sketch book\", 2.00),\n",
    "    (\"Milk biscuit\", 3.00)\n",
    "]"
   ]
  },
  {
   "cell_type": "markdown",
   "id": "f83bcd7c",
   "metadata": {},
   "source": [
    "## Population and Individuals\n",
    "\n"
   ]
  },
  {
   "cell_type": "code",
   "execution_count": 12,
   "id": "94049811",
   "metadata": {},
   "outputs": [],
   "source": [
    "def individuals():\n",
    "    return [random.randint(0, 1) for items in range(len(items))]\n",
    "\n",
    "def population(population_size):\n",
    "    return [individuals() for x in range(population_size)]"
   ]
  },
  {
   "cell_type": "markdown",
   "id": "1efd853b",
   "metadata": {},
   "source": [
    "## Fitness Function\n",
    "\n",
    "The fitness function calculates the total cost of items in a chromosome, after deducting the cost of wrappers and ensuring that atleast 2 of the items are stationery."
   ]
  },
  {
   "cell_type": "code",
   "execution_count": 38,
   "id": "81b5aea4",
   "metadata": {},
   "outputs": [],
   "source": [
    "def fitness_function(chromosome):\n",
    "    total = 0\n",
    "    num_stationery_items = 0\n",
    "    for i, j in enumerate(chromosome):\n",
    "        if j == 1:\n",
    "            # to calculate the total cost of the items present in the set\n",
    "            total += items[i][1]\n",
    "            # to check if the current sets have stationery\n",
    "            if items[i][0] in [\"2B pencil\", \"Color pencil\", \"Magic pen\"]:\n",
    "                num_stationery_items += 1\n",
    "\n",
    "    if num_stationery_items >= 2:\n",
    "        return total\n",
    "    else:\n",
    "        return 0"
   ]
  },
  {
   "cell_type": "markdown",
   "id": "02eec99a",
   "metadata": {},
   "source": [
    "## Selection Function"
   ]
  },
  {
   "cell_type": "code",
   "execution_count": 65,
   "id": "41e07ed9",
   "metadata": {},
   "outputs": [],
   "source": [
    "\"\"\"Perform selection using roulette wheel selection.\"\"\"\n",
    "def selection_roulette_wheel(population, fitness_values):\n",
    "    total_fitness = sum(fitness_values)\n",
    "    probabilities = [fitness / total_fitness for fitness in fitness_values]\n",
    "    selected = random.choices(population, weights=probabilities, k=2)\n",
    "    return selected[0], selected[1]\n",
    "\n",
    "def selection_rank(population, fitness_values):\n",
    "    \"\"\"Perform selection using rank selection.\"\"\"\n",
    "    ranked_population = sorted(zip(population, fitness_values), key=lambda x: x[1], reverse=True)\n",
    "    ranked_probs = [2 * (i + 1) / (len(population) * (len(population) + 1)) for i in range(len(population))]\n",
    "    selected = random.choices(population, weights=ranked_probs, k=2)\n",
    "    return selected[0], selected[1]"
   ]
  },
  {
   "cell_type": "markdown",
   "id": "4d900d89",
   "metadata": {},
   "source": [
    "## Crossover Function"
   ]
  },
  {
   "cell_type": "code",
   "execution_count": null,
   "id": "45b4d9c3",
   "metadata": {},
   "outputs": [],
   "source": []
  },
  {
   "cell_type": "markdown",
   "id": "1d43729b",
   "metadata": {},
   "source": [
    "## Mutation Function"
   ]
  },
  {
   "cell_type": "code",
   "execution_count": null,
   "id": "611864b7",
   "metadata": {},
   "outputs": [],
   "source": []
  },
  {
   "cell_type": "markdown",
   "id": "832a7ef1",
   "metadata": {},
   "source": [
    "## Main Function"
   ]
  },
  {
   "cell_type": "code",
   "execution_count": 67,
   "id": "06547353",
   "metadata": {},
   "outputs": [
    {
     "name": "stdout",
     "output_type": "stream",
     "text": [
      "Chromosome: [1, 1, 0, 0, 1, 0, 0, 1]\n",
      "Fitness Value: 0\n",
      "Chromosome: [1, 0, 1, 1, 0, 0, 0, 0]\n",
      "Fitness Value: 8.0\n",
      "Chromosome: [1, 0, 0, 1, 1, 0, 0, 0]\n",
      "Fitness Value: 0\n",
      "Chromosome: [0, 1, 1, 1, 0, 1, 1, 1]\n",
      "Fitness Value: 13.0\n",
      "Chromosome: [0, 1, 1, 0, 1, 1, 1, 0]\n",
      "Fitness Value: 9.0\n",
      "Chromosome: [1, 1, 1, 1, 0, 1, 0, 1]\n",
      "Fitness Value: 13.0\n",
      "Chromosome: [1, 1, 1, 1, 0, 0, 0, 0]\n",
      "Fitness Value: 9.0\n",
      "Chromosome: [1, 0, 0, 0, 1, 1, 0, 1]\n",
      "Fitness Value: 0\n",
      "Chromosome: [0, 0, 1, 1, 1, 0, 1, 0]\n",
      "Fitness Value: 10.0\n",
      "Chromosome: [0, 0, 1, 0, 0, 1, 0, 0]\n",
      "Fitness Value: 0\n",
      "Chromosome: [1, 1, 1, 1, 0, 0, 0, 0]\n",
      "Fitness Value: 9.0\n",
      "Chromosome: [0, 0, 0, 1, 0, 0, 1, 0]\n",
      "Fitness Value: 0\n",
      "Chromosome: [1, 0, 1, 1, 0, 1, 0, 0]\n",
      "Fitness Value: 9.0\n",
      "Chromosome: [1, 1, 1, 0, 1, 1, 1, 1]\n",
      "Fitness Value: 14.0\n",
      "Chromosome: [1, 1, 1, 0, 0, 0, 0, 0]\n",
      "Fitness Value: 6.0\n",
      "Chromosome: [1, 0, 1, 1, 1, 0, 1, 1]\n",
      "Fitness Value: 15.0\n",
      "Chromosome: [1, 0, 0, 0, 0, 1, 0, 1]\n",
      "Fitness Value: 0\n",
      "Chromosome: [0, 0, 0, 0, 0, 1, 0, 0]\n",
      "Fitness Value: 0\n",
      "Chromosome: [0, 1, 0, 0, 1, 1, 0, 0]\n",
      "Fitness Value: 0\n",
      "Chromosome: [1, 1, 1, 0, 0, 0, 1, 0]\n",
      "Fitness Value: 8.0\n",
      "Chromosome: [0, 0, 0, 1, 0, 0, 0, 0]\n",
      "Fitness Value: 0\n",
      "Chromosome: [0, 0, 1, 0, 0, 0, 0, 1]\n",
      "Fitness Value: 0\n",
      "Chromosome: [1, 0, 0, 0, 0, 0, 1, 1]\n",
      "Fitness Value: 0\n",
      "Chromosome: [0, 1, 0, 0, 1, 1, 1, 0]\n",
      "Fitness Value: 0\n",
      "Chromosome: [0, 0, 1, 1, 0, 0, 0, 0]\n",
      "Fitness Value: 6.0\n"
     ]
    }
   ],
   "source": [
    "#these are dummy main functions to test each stages of development\n",
    "\n",
    "def to_check_fitness():\n",
    "    pop = population(25) \n",
    "\n",
    "    # Calculate fitness values for each chromosome\n",
    "    fitness_values = [fitness_function(chromosome) for chromosome in pop]\n",
    "    # Print the fitness values\n",
    "    for chromosome, fitness in zip(pop, fitness_values):\n",
    "        print(\"Chromosome:\", chromosome)\n",
    "        print(\"Fitness Value:\", fitness)\n",
    "\n",
    "def selection_check():\n",
    "    pop = population(25)\n",
    "\n",
    "    # Calculate fitness values for each chromosome\n",
    "    fitness_values = [fitness_function(chromosome) for chromosome in pop]\n",
    "    \n",
    "    # Select parents\n",
    "    parent1, parent2 = selection_roulette_wheel(pop, fitness_values)\n",
    "    \n",
    "    # Print the selected parents and offspring\n",
    "    print(\"Parent 1:\", parent1)\n",
    "    print(\"Parent 2:\", parent2)    \n",
    "    \n",
    "\n",
    "#to_check_fitness()\n",
    "selection_check()"
   ]
  },
  {
   "cell_type": "code",
   "execution_count": 52,
   "id": "b5047dac",
   "metadata": {},
   "outputs": [],
   "source": [
    "def main():\n",
    "    # Generate Population of 25 chromosomes\n",
    "    pop = population(25) \n",
    "        \n",
    "    # Calculate fitness values for each chromosome\n",
    "    fitness_values = [fitness_function(chromosome) for chromosome in pop]\n"
   ]
  },
  {
   "cell_type": "markdown",
   "id": "5c8d0926",
   "metadata": {},
   "source": [
    "## Summary\n"
   ]
  },
  {
   "cell_type": "markdown",
   "id": "4ae8de4b",
   "metadata": {},
   "source": [
    "# Question 2\n",
    "\n"
   ]
  },
  {
   "cell_type": "code",
   "execution_count": null,
   "id": "52de3cf2",
   "metadata": {},
   "outputs": [],
   "source": []
  },
  {
   "cell_type": "markdown",
   "id": "ca7d9ecf",
   "metadata": {},
   "source": [
    "# Question 3\n"
   ]
  },
  {
   "cell_type": "code",
   "execution_count": null,
   "id": "2385dc77",
   "metadata": {},
   "outputs": [],
   "source": []
  }
 ],
 "metadata": {
  "kernelspec": {
   "display_name": "Python 3",
   "language": "python",
   "name": "python3"
  },
  "language_info": {
   "codemirror_mode": {
    "name": "ipython",
    "version": 3
   },
   "file_extension": ".py",
   "mimetype": "text/x-python",
   "name": "python",
   "nbconvert_exporter": "python",
   "pygments_lexer": "ipython3",
   "version": "3.8.8"
  }
 },
 "nbformat": 4,
 "nbformat_minor": 5
}
