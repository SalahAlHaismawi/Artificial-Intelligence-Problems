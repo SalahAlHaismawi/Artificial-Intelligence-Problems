{
 "cells": [
  {
   "cell_type": "markdown",
   "id": "6d81adfa",
   "metadata": {},
   "source": [
    "<img src=\"tic3151.png\" style=\"height: 70px; width: 200px\" align=left> \n",
    "<img src=\"logo-MMU.png\" style=\"height: 70px; width: 200px\" align=right> "
   ]
  },
  {
   "cell_type": "markdown",
   "id": "319a1af8",
   "metadata": {},
   "source": [
    "### Team members\n",
    "\n",
    "Ahmad Ayaan - 1191302794 \n",
    "\n",
    "Salah Fayeq y. AlHaismawi - 1201303035\n",
    "\n",
    "Aisha Sakinah Binti Saadon - 1191101867\n",
    "\n",
    "Aryssa Amanda Binti Azhar - 1191100575\n",
    "\n",
    "\n",
    "### The assignment contains following questions\n"
   ]
  },
  {
   "cell_type": "markdown",
   "id": "92e13a0d",
   "metadata": {},
   "source": [
    "# Installing Libraries\n",
    "\n",
    "##### Note: Uncomment the code the code to install the relevant libraries"
   ]
  },
  {
   "cell_type": "code",
   "execution_count": 1,
   "id": "c41f5244",
   "metadata": {},
   "outputs": [],
   "source": [
    "# pip install pygad\n"
   ]
  },
  {
   "cell_type": "markdown",
   "id": "3b5d1a44",
   "metadata": {},
   "source": [
    "# Importing Libraries"
   ]
  },
  {
   "cell_type": "code",
   "execution_count": 2,
   "id": "533bec51",
   "metadata": {},
   "outputs": [],
   "source": [
    "from random import randint\n",
    "import random\n"
   ]
  },
  {
   "cell_type": "markdown",
   "id": "8b5aef07",
   "metadata": {},
   "source": [
    "# Question 1\n",
    "\n",
    "Year-end school holiday is coming soon. A kindergarten teacher would like to give each\n",
    "of the student in her class, an amazing holiday set by November 2023. There are 25\n",
    "students in her class consisting of 15 girls and 10 boys. She has approached you for\n",
    "help and provided the following details to you:\n",
    "\n",
    "• Budget for 25 holiday sets = RM 200.00\n",
    "\n",
    "• Each holiday set must be wrapped using a sheet of paper i.e. blue wrapper for\n",
    "boy’s holiday set and pink wrapper for girl’s holiday set. Each wrapper cost\n",
    "RM1.00\n",
    "\n",
    "• Each holiday set should have at least 2 items being stationery\n",
    "\n"
   ]
  },
  {
   "cell_type": "markdown",
   "id": "733dc0af",
   "metadata": {},
   "source": [
    "## Variables Declaration"
   ]
  },
  {
   "cell_type": "code",
   "execution_count": 3,
   "id": "e82136fa",
   "metadata": {},
   "outputs": [],
   "source": [
    "# Constant variables\n",
    "budget = 200.00\n",
    "minimum_stationary_item = 2\n",
    "wrapper_cost = 1.00\n",
    "\n",
    "# List of items and their prices\n",
    "items = [\n",
    "    (\"Chipsmore Biscuit\", 2.00),\n",
    "    (\"2B pencil\", 1.00),\n",
    "    (\"Color pencil\", 3.00),\n",
    "    (\"Magic pen\", 3.00),\n",
    "    (\"Potato chip\", 2.00),\n",
    "    (\"Milo packet\", 1.00),\n",
    "    (\"Mini sketch book\", 2.00),\n",
    "    (\"Milk biscuit\", 3.00)\n",
    "]"
   ]
  },
  {
   "cell_type": "markdown",
   "id": "f83bcd7c",
   "metadata": {},
   "source": [
    "## Population and Individuals\n",
    "\n"
   ]
  },
  {
   "cell_type": "code",
   "execution_count": 4,
   "id": "94049811",
   "metadata": {},
   "outputs": [],
   "source": [
    "def individuals():\n",
    "    return [random.randint(0, 1) for items in range(len(items))]\n",
    "\n",
    "def population(population_size):\n",
    "    return [individuals() for x in range(population_size)]"
   ]
  },
  {
   "cell_type": "markdown",
   "id": "1efd853b",
   "metadata": {},
   "source": [
    "## Fitness Function\n",
    "\n",
    "The fitness function calculates the total cost of items in a chromosome, after deducting the cost of wrappers and ensuring that atleast 2 of the items are stationery."
   ]
  },
  {
   "cell_type": "code",
   "execution_count": 5,
   "id": "81b5aea4",
   "metadata": {},
   "outputs": [],
   "source": [
    "def fitness_function(chromosome):\n",
    "    total = 0\n",
    "    num_stationery_items = 0\n",
    "    for i, j in enumerate(chromosome):\n",
    "        if j == 1:\n",
    "            # to calculate the total cost of the items present in the set\n",
    "            total += items[i][1]\n",
    "            # to check if the current sets have stationery\n",
    "            if items[i][0] in [\"2B pencil\", \"Color pencil\", \"Magic pen\", \"Mini sketch book\"]:\n",
    "                num_stationery_items += 1\n",
    "\n",
    "    if num_stationery_items >= 2:\n",
    "        return total\n",
    "    else:\n",
    "        return 0"
   ]
  },
  {
   "cell_type": "markdown",
   "id": "02eec99a",
   "metadata": {},
   "source": [
    "## Selection Function"
   ]
  },
  {
   "cell_type": "code",
   "execution_count": 6,
   "id": "41e07ed9",
   "metadata": {},
   "outputs": [],
   "source": [
    "\"\"\"Perform selection using roulette wheel selection.\"\"\"\n",
    "def selection_roulette_wheel(population, fitness_values):\n",
    "    total_fitness = sum(fitness_values)\n",
    "    probabilities = [fitness / total_fitness for fitness in fitness_values]\n",
    "    selected = random.choices(population, weights=probabilities, k=2)\n",
    "    return selected[0], selected[1]\n",
    "\n",
    "\"\"\"Perform selection using rank selection.\"\"\"\n",
    "def selection_rank(population, fitness_values):\n",
    "    ranked_population = sorted(zip(population, fitness_values), key=lambda x: x[1], reverse=True)\n",
    "    ranked_probs = [2 * (i + 1) / (len(population) * (len(population) + 1)) for i in range(len(population))]\n",
    "    selected = random.choices(population, weights=ranked_probs, k=2)\n",
    "    return selected[0], selected[1]"
   ]
  },
  {
   "cell_type": "markdown",
   "id": "4d900d89",
   "metadata": {},
   "source": [
    "## Crossover Function"
   ]
  },
  {
   "cell_type": "code",
   "execution_count": 7,
   "id": "45b4d9c3",
   "metadata": {},
   "outputs": [],
   "source": [
    "\"\"\"Perform crossover using single point crossover.\"\"\"\n",
    "def crossover_single_point(parent1, parent2):\n",
    "    single_point = random.randint(1, len(parent1) - 1)\n",
    "    child1 = parent1[:single_point] + parent2[single_point:]\n",
    "    child2 = parent2[:single_point] + parent1[single_point:]\n",
    "    return child1, child2\n",
    "\n",
    "\"\"\"Perform crossover using two point crossover.\"\"\"\n",
    "def crossover_two_point(parent1, parent2):\n",
    "    two_point = sorted(random.sample(range(len(parent1)), 2))\n",
    "    child1 = parent1[:two_point[0]] + parent2[two_point[0]:two_point[1]] + parent1[two_point[1]:]\n",
    "    child2 = parent2[:two_point[0]] + parent1[two_point[0]:two_point[1]] + parent2[two_point[1]:]\n",
    "    return child1, child2"
   ]
  },
  {
   "cell_type": "markdown",
   "id": "1d43729b",
   "metadata": {},
   "source": [
    "## Mutation Function"
   ]
  },
  {
   "cell_type": "code",
   "execution_count": 8,
   "id": "611864b7",
   "metadata": {},
   "outputs": [],
   "source": [
    "\"\"\"Perform inversion mutation.\"\"\"\n",
    "def mutation_inversion(chromosome):\n",
    "    start = random.randint(0, len(chromosome) - 1)\n",
    "    end = random.randint(start + 1, len(chromosome))\n",
    "    mutated_chromosome = chromosome[:start] + chromosome[start:end][::-1] + chromosome[end:]\n",
    "    return mutated_chromosome\n",
    "\n",
    "\"\"\"Perform bit flipping mutation.\"\"\"\n",
    "def mutation_bit_flip(chromosome, mutation_rate):\n",
    "    mutated_chromosome = chromosome[:]\n",
    "    for i in range(len(mutated_chromosome)):\n",
    "        if random.random() < mutation_rate:\n",
    "            mutated_chromosome[i] = 1 - mutated_chromosome[i]\n",
    "    return mutated_chromosome"
   ]
  },
  {
   "cell_type": "markdown",
   "id": "832a7ef1",
   "metadata": {},
   "source": [
    "## Main Function"
   ]
  },
  {
   "cell_type": "code",
   "execution_count": 9,
   "id": "06547353",
   "metadata": {},
   "outputs": [
    {
     "name": "stdout",
     "output_type": "stream",
     "text": [
      "Chromosome: [0, 0, 1, 0, 1, 1, 0, 1]\n",
      "Fitness Value: 0\n",
      "Chromosome: [0, 0, 0, 0, 1, 1, 1, 1]\n",
      "Fitness Value: 0\n",
      "Chromosome: [0, 1, 1, 1, 0, 1, 0, 1]\n",
      "Fitness Value: 11.0\n",
      "Chromosome: [0, 0, 0, 1, 0, 0, 0, 0]\n",
      "Fitness Value: 0\n",
      "Chromosome: [0, 0, 1, 1, 0, 1, 0, 0]\n",
      "Fitness Value: 7.0\n",
      "Chromosome: [1, 0, 1, 1, 1, 1, 0, 0]\n",
      "Fitness Value: 11.0\n",
      "Chromosome: [0, 0, 1, 0, 0, 0, 0, 1]\n",
      "Fitness Value: 0\n",
      "Chromosome: [1, 1, 1, 0, 0, 0, 0, 1]\n",
      "Fitness Value: 9.0\n",
      "Chromosome: [1, 0, 1, 1, 0, 0, 0, 0]\n",
      "Fitness Value: 8.0\n",
      "Chromosome: [0, 1, 1, 0, 0, 0, 0, 0]\n",
      "Fitness Value: 4.0\n",
      "Chromosome: [0, 0, 0, 0, 0, 1, 1, 1]\n",
      "Fitness Value: 0\n",
      "Chromosome: [0, 1, 1, 1, 0, 0, 0, 1]\n",
      "Fitness Value: 10.0\n",
      "Chromosome: [1, 0, 0, 0, 1, 1, 0, 0]\n",
      "Fitness Value: 0\n",
      "Chromosome: [1, 1, 1, 1, 1, 1, 1, 1]\n",
      "Fitness Value: 17.0\n",
      "Chromosome: [1, 0, 0, 1, 0, 1, 1, 1]\n",
      "Fitness Value: 11.0\n",
      "Chromosome: [1, 0, 1, 0, 0, 0, 0, 1]\n",
      "Fitness Value: 0\n",
      "Chromosome: [0, 1, 1, 1, 1, 1, 0, 0]\n",
      "Fitness Value: 10.0\n",
      "Chromosome: [1, 0, 1, 0, 0, 0, 0, 1]\n",
      "Fitness Value: 0\n",
      "Chromosome: [0, 0, 0, 1, 0, 0, 0, 1]\n",
      "Fitness Value: 0\n",
      "Chromosome: [0, 0, 0, 1, 0, 0, 1, 1]\n",
      "Fitness Value: 8.0\n",
      "Chromosome: [0, 1, 1, 1, 0, 1, 0, 1]\n",
      "Fitness Value: 11.0\n",
      "Chromosome: [1, 0, 1, 0, 0, 0, 1, 1]\n",
      "Fitness Value: 10.0\n",
      "Chromosome: [1, 1, 1, 1, 0, 0, 0, 0]\n",
      "Fitness Value: 9.0\n",
      "Chromosome: [0, 1, 0, 0, 0, 1, 1, 0]\n",
      "Fitness Value: 4.0\n",
      "Chromosome: [0, 1, 0, 0, 1, 1, 1, 1]\n",
      "Fitness Value: 9.0\n"
     ]
    }
   ],
   "source": [
    "#these are dummy main functions to test each stages of development\n",
    "\n",
    "def to_check_fitness():\n",
    "    pop = population(25) \n",
    "\n",
    "    # Calculate fitness values for each chromosome\n",
    "    fitness_values = [fitness_function(chromosome) for chromosome in pop]\n",
    "    # Print the fitness values\n",
    "    for chromosome, fitness in zip(pop, fitness_values):\n",
    "        print(\"Chromosome:\", chromosome)\n",
    "        print(\"Fitness Value:\", fitness)  \n",
    "    \n",
    "to_check_fitness()"
   ]
  },
  {
   "cell_type": "code",
   "execution_count": 10,
   "id": "f51773fd",
   "metadata": {},
   "outputs": [
    {
     "name": "stdout",
     "output_type": "stream",
     "text": [
      "Parent 1: [1, 1, 0, 0, 1, 0, 1, 0]\n",
      "Parent 2: [0, 1, 1, 1, 1, 1, 0, 1]\n",
      "\n",
      "Child 1: [0, 1, 1, 0, 1, 0, 1, 0]\n",
      "Child 2: [1, 1, 0, 1, 1, 1, 0, 1]\n",
      "\n",
      "Mutated Child 1 (Inversion): [0, 1, 1, 0, 1, 0, 1, 0]\n",
      "Mutated Child 2 (Inversion): [1, 1, 0, 0, 1, 1, 1, 1]\n",
      "\n",
      "Mutated Child 1 (Bit Flip): [0, 1, 0, 0, 1, 0, 0, 1]\n",
      "Mutated Child 2 (Bit Flip): [1, 1, 0, 1, 1, 1, 0, 1]\n"
     ]
    }
   ],
   "source": [
    "# Dummy function to test \n",
    "# 1. Selection Roulette Wheel\n",
    "# 2. Single Point Crossover\n",
    "# 3.\n",
    "\n",
    "def selection_crossover_mutation():\n",
    "    pop = population(25)\n",
    "\n",
    "    # Calculate fitness values for each chromosome\n",
    "    fitness_values = [fitness_function(chromosome) for chromosome in pop]\n",
    "    \n",
    "    # Select parents\n",
    "    parent1, parent2 = selection_roulette_wheel(pop, fitness_values)\n",
    "    \n",
    "    # Print the selected parents\n",
    "    print(\"Parent 1:\", parent1)\n",
    "    print(\"Parent 2:\", parent2)    \n",
    "    \n",
    "    # Crossover\n",
    "    child1, child2 = crossover_two_point(parent1, parent2)\n",
    "\n",
    "    # Print the offspring\n",
    "    print()\n",
    "    print(\"Child 1:\", child1)\n",
    "    print(\"Child 2:\", child2)\n",
    "    \n",
    "    # Apply mutation\n",
    "    mutated_child1 = mutation_inversion(child1)\n",
    "    mutated_child2 = mutation_inversion(child2)\n",
    "\n",
    "    # Print the mutated offspring after inversion mutation\n",
    "    print()\n",
    "    print(\"Mutated Child 1 (Inversion):\", mutated_child1)\n",
    "    print(\"Mutated Child 2 (Inversion):\", mutated_child2)\n",
    "    \n",
    "    # Apply bit flipping mutation\n",
    "    mutation_rate = 0.1\n",
    "    mutated_child1 = mutation_bit_flip(child1, mutation_rate)\n",
    "    mutated_child2 = mutation_bit_flip(child2, mutation_rate)\n",
    "\n",
    "    # Print the mutated offspring after bit flipping mutation\n",
    "    print()\n",
    "    print(\"Mutated Child 1 (Bit Flip):\", mutated_child1)\n",
    "    print(\"Mutated Child 2 (Bit Flip):\", mutated_child2)\n",
    "    \n",
    "selection_crossover_mutation()"
   ]
  },
  {
   "cell_type": "code",
   "execution_count": 11,
   "id": "b5047dac",
   "metadata": {},
   "outputs": [],
   "source": [
    "def main():\n",
    "    # Generate Population of 25 chromosomes\n",
    "    pop = population(25) \n",
    "        \n",
    "    # Calculate fitness values for each chromosome\n",
    "    fitness_values = [fitness_function(chromosome) for chromosome in pop]\n"
   ]
  },
  {
   "cell_type": "markdown",
   "id": "5c8d0926",
   "metadata": {},
   "source": [
    "## Summary\n"
   ]
  },
  {
   "cell_type": "markdown",
   "id": "4ae8de4b",
   "metadata": {},
   "source": [
    "# Question 2\n",
    "\n"
   ]
  },
  {
   "cell_type": "code",
   "execution_count": null,
   "id": "52de3cf2",
   "metadata": {},
   "outputs": [],
   "source": []
  },
  {
   "cell_type": "markdown",
   "id": "ca7d9ecf",
   "metadata": {},
   "source": [
    "# Question 3\n"
   ]
  },
  {
   "cell_type": "code",
   "execution_count": null,
   "id": "2385dc77",
   "metadata": {},
   "outputs": [],
   "source": []
  }
 ],
 "metadata": {
  "kernelspec": {
   "display_name": "Python 3 (ipykernel)",
   "language": "python",
   "name": "python3"
  },
  "language_info": {
   "codemirror_mode": {
    "name": "ipython",
    "version": 3
   },
   "file_extension": ".py",
   "mimetype": "text/x-python",
   "name": "python",
   "nbconvert_exporter": "python",
   "pygments_lexer": "ipython3",
   "version": "3.10.1"
  }
 },
 "nbformat": 4,
 "nbformat_minor": 5
}
