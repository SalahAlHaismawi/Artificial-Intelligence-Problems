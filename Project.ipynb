{
 "cells": [
  {
   "cell_type": "markdown",
   "id": "6d81adfa",
   "metadata": {},
   "source": [
    "<img src=\"tic3151.png\" style=\"height: 70px; width: 200px\" align=left> \n",
    "<img src=\"logo-MMU.png\" style=\"height: 70px; width: 200px\" align=right> "
   ]
  },
  {
   "cell_type": "markdown",
   "id": "319a1af8",
   "metadata": {},
   "source": [
    "### Team members\n",
    "\n",
    "Ahmad Ayaan - 1191302794 \n",
    "\n",
    "Salah Fayeq y. AlHaismawi - 1201303035\n",
    "\n",
    "Aisha Sakinah Binti Saadon - 1191101867\n",
    "\n",
    "Aryssa Amanda Binti Azhar - 1191100575\n",
    "\n",
    "\n",
    "### The assignment contains following questions\n"
   ]
  },
  {
   "cell_type": "markdown",
   "id": "92e13a0d",
   "metadata": {},
   "source": [
    "# Installing Libraries\n",
    "\n",
    "##### Note: Uncomment the code the code to install the relevant libraries"
   ]
  },
  {
   "cell_type": "code",
   "execution_count": 1,
   "id": "c41f5244",
   "metadata": {},
   "outputs": [],
   "source": [
    "# pip install matplotlib.pyplot\n",
    "# pip install ortools\n",
    "# pip install pulp"
   ]
  },
  {
   "cell_type": "markdown",
   "id": "3b5d1a44",
   "metadata": {},
   "source": [
    "# Importing Libraries"
   ]
  },
  {
   "cell_type": "code",
   "execution_count": 2,
   "id": "533bec51",
   "metadata": {},
   "outputs": [],
   "source": [
    "from random import randint\n",
    "import random\n",
    "from tabulate import tabulate\n",
    "import numpy as np\n",
    "from ortools.sat.python import cp_model\n",
    "from tabulate import tabulate\n",
    "import matplotlib.pyplot as plt\n"
   ]
  },
  {
   "cell_type": "markdown",
   "id": "8b5aef07",
   "metadata": {},
   "source": [
    "# Question 1\n",
    "\n",
    "Year-end school holiday is coming soon. A kindergarten teacher would like to give each\n",
    "of the student in her class, an amazing holiday set by November 2023. There are 25\n",
    "students in her class consisting of 15 girls and 10 boys. She has approached you for\n",
    "help and provided the following details to you:\n",
    "\n",
    "• Budget for 25 holiday sets = RM 200.00\n",
    "\n",
    "• Each holiday set must be wrapped using a sheet of paper i.e. blue wrapper for\n",
    "boy’s holiday set and pink wrapper for girl’s holiday set. Each wrapper cost\n",
    "RM1.00\n",
    "\n",
    "• Each holiday set should have at least 2 items being stationery\n",
    "\n"
   ]
  },
  {
   "cell_type": "markdown",
   "id": "733dc0af",
   "metadata": {},
   "source": [
    "## Variables Declaration"
   ]
  },
  {
   "cell_type": "code",
   "execution_count": 3,
   "id": "e82136fa",
   "metadata": {},
   "outputs": [],
   "source": [
    "# Constant variables\n",
    "budget = 200.00\n",
    "minimum_stationary_item = 2\n",
    "wrapper_cost = 1.00\n",
    "\n",
    "# List of items and their prices\n",
    "items = [\n",
    "    (\"Chipsmore Biscuit\", 2.00),\n",
    "    (\"2B pencil\", 1.00),\n",
    "    (\"Color pencil\", 3.00),\n",
    "    (\"Magic pen\", 3.00),\n",
    "    (\"Potato chip\", 2.00),\n",
    "    (\"Milo packet\", 1.00),\n",
    "    (\"Mini sketch book\", 2.00),\n",
    "    (\"Milk biscuit\", 3.00)\n",
    "]\n",
    "\n",
    "mutation_rate = 0.1\n",
    "wrapper_cost = 1 * 25  # Wrapper cost for 25 sets"
   ]
  },
  {
   "cell_type": "markdown",
   "id": "f83bcd7c",
   "metadata": {},
   "source": [
    "## Population and Individuals\n",
    "\n"
   ]
  },
  {
   "cell_type": "code",
   "execution_count": 4,
   "id": "94049811",
   "metadata": {},
   "outputs": [],
   "source": [
    "def individuals():\n",
    "    return [random.randint(0, 1) for items in range(len(items))]\n",
    "\n",
    "def generate_population(population_size):\n",
    "    return [individuals() for x in range(population_size)]"
   ]
  },
  {
   "cell_type": "markdown",
   "id": "1efd853b",
   "metadata": {},
   "source": [
    "## Fitness Function\n",
    "\n",
    "The fitness function calculates the total cost of items in a chromosome, after deducting the cost of wrappers and ensuring that atleast 2 of the items are stationery."
   ]
  },
  {
   "cell_type": "code",
   "execution_count": 5,
   "id": "81b5aea4",
   "metadata": {},
   "outputs": [],
   "source": [
    "def fitness_function(chromosome):\n",
    "    total = 0\n",
    "    num_stationery_items = 0\n",
    "    num_items = 0\n",
    "    for i, j in enumerate(chromosome):\n",
    "        if j == 1:\n",
    "            # to calculate the total cost of the items present in the set\n",
    "            total += items[i][1]\n",
    "            num_items += 1\n",
    "            # to check if the current sets have stationery\n",
    "            if items[i][0] in [\"2B pencil\", \"Color pencil\", \"Magic pen\", \"Mini sketch book\"]:\n",
    "                num_stationery_items += 1\n",
    "\n",
    "    if num_stationery_items >= 2 and (total*25) + wrapper_cost <=budget:\n",
    "         # Calculate the fitness score based on the weighted sum of total cost and number of items\n",
    "        total_score = total * num_items\n",
    "        items_score = num_items * 10\n",
    "        score = total_score + items_score\n",
    "        #print(score)\n",
    "        return score\n",
    "    else:\n",
    "        return 0 if total <= 200 else -1"
   ]
  },
  {
   "cell_type": "markdown",
   "id": "02eec99a",
   "metadata": {},
   "source": [
    "## Selection Function"
   ]
  },
  {
   "cell_type": "code",
   "execution_count": 6,
   "id": "41e07ed9",
   "metadata": {},
   "outputs": [],
   "source": [
    "\"\"\"Perform selection using roulette wheel selection.\"\"\"\n",
    "def selection_roulette_wheel(population, fitness_values):\n",
    "    total_fitness = sum(fitness_values)\n",
    "    if total_fitness == 0:\n",
    "        probabilities = [1 / len(population)] * len(population)\n",
    "    else:\n",
    "        probabilities = [fitness / total_fitness for fitness in fitness_values]\n",
    "    selected = random.choices(population, weights=probabilities, k=2)\n",
    "    return selected[0], selected[1]\n",
    "\n",
    "\n",
    "\"\"\"Perform selection using rank selection.\"\"\"\n",
    "def selection_rank(population, fitness_values):\n",
    "    ranked_population = sorted(zip(population, fitness_values), key=lambda x: x[1], reverse=True)\n",
    "    selected = []\n",
    "    while len(selected) < 2:\n",
    "        for chromosome, fitness in ranked_population:\n",
    "            if fitness > 0:  # Select only individuals with positive fitness\n",
    "                selected.append(chromosome.copy())\n",
    "                if len(selected) == 2:\n",
    "                    break\n",
    "    return selected[0], selected[1]\n"
   ]
  },
  {
   "cell_type": "markdown",
   "id": "4d900d89",
   "metadata": {},
   "source": [
    "## Crossover Function"
   ]
  },
  {
   "cell_type": "code",
   "execution_count": 7,
   "id": "45b4d9c3",
   "metadata": {},
   "outputs": [],
   "source": [
    "\"\"\"Perform crossover using single point crossover.\"\"\"\n",
    "def crossover_single_point(parent1, parent2):\n",
    "    single_point = random.randint(1, len(parent1) - 1)\n",
    "    child1 = parent1[:single_point] + parent2[single_point:]\n",
    "    child2 = parent2[:single_point] + parent1[single_point:]\n",
    "    return child1, child2\n",
    "\n",
    "\"\"\"Perform crossover using two point crossover.\"\"\"\n",
    "def crossover_two_point(parent1, parent2):\n",
    "    two_point = sorted(random.sample(range(len(parent1)), 2))\n",
    "    child1 = parent1[:two_point[0]] + parent2[two_point[0]:two_point[1]] + parent1[two_point[1]:]\n",
    "    child2 = parent2[:two_point[0]] + parent1[two_point[0]:two_point[1]] + parent2[two_point[1]:]\n",
    "    return child1, child2"
   ]
  },
  {
   "cell_type": "markdown",
   "id": "1d43729b",
   "metadata": {},
   "source": [
    "## Mutation Function"
   ]
  },
  {
   "cell_type": "code",
   "execution_count": 8,
   "id": "611864b7",
   "metadata": {},
   "outputs": [],
   "source": [
    "\"\"\"Perform inversion mutation.\"\"\"\n",
    "def mutation_inversion(chromosome):\n",
    "    start = random.randint(0, len(chromosome) - 1)\n",
    "    end = random.randint(start + 1, len(chromosome))\n",
    "    mutated_chromosome = chromosome[:start] + chromosome[start:end][::-1] + chromosome[end:]\n",
    "    return mutated_chromosome\n",
    "\n",
    "\"\"\"Perform bit flipping mutation.\"\"\"\n",
    "def mutation_bit_flip(chromosome):\n",
    "    mutated_chromosome = chromosome[:]\n",
    "    for i in range(len(mutated_chromosome)):\n",
    "        if random.random() < mutation_rate:\n",
    "            mutated_chromosome[i] = 1 - mutated_chromosome[i]\n",
    "    return mutated_chromosome"
   ]
  },
  {
   "cell_type": "markdown",
   "id": "832a7ef1",
   "metadata": {},
   "source": [
    "## Main Function"
   ]
  },
  {
   "cell_type": "code",
   "execution_count": 9,
   "id": "06547353",
   "metadata": {},
   "outputs": [],
   "source": [
    "def evolve(population, fitness_values, selection_method, crossover_method, mutation_method):\n",
    "    next_generation = []\n",
    "    while len(next_generation) < 25:\n",
    "        parent1, parent2 = selection_method(population, fitness_values)\n",
    "        #print(parent1, parent2)\n",
    "        offspring1, offspring2 = crossover_method(parent1, parent2)\n",
    "        #print(offspring1, offspring2)\n",
    "        offspring1 = mutation_method(offspring1)\n",
    "        offspring2 = mutation_method(offspring2)\n",
    "        next_generation.extend([offspring1, offspring2])\n",
    "        #print(next_generation)\n",
    "    return next_generation[:25]\n"
   ]
  },
  {
   "cell_type": "code",
   "execution_count": 10,
   "id": "b5047dac",
   "metadata": {
    "scrolled": true
   },
   "outputs": [],
   "source": [
    "def main(selection_method, crossover_method, mutation_method):\n",
    "    # Generate an initial population\n",
    "    population = generate_population(25)\n",
    "    \n",
    "    # Calculate fitness values for each chromosome\n",
    "    fitness_values = [fitness_function(chromosome) for chromosome in population]\n",
    "    fitness_history = []\n",
    "\n",
    "    best_fitness = float('inf')\n",
    "    best_combination = []\n",
    "\n",
    "    for generation in range(100):\n",
    "        # Select parents and perform crossover and mutation\n",
    "        population = evolve(population, fitness_values, selection_method, crossover_method, mutation_method)\n",
    "\n",
    "        # Calculate fitness values for each chromosome\n",
    "        fitness_values = [fitness_function(chromosome) for chromosome in population]\n",
    "        fitness_history.append(max(fitness_values))\n",
    "\n",
    "       # Find the best fitness value and corresponding combination\n",
    "    best_fitness = max(fitness_values)\n",
    "    best_combination = population[fitness_values.index(best_fitness)].copy()\n",
    "\n",
    "\n",
    "    # Display the total combination and the content of the combination\n",
    "    print(\"Total Combination of Items: \")\n",
    "    total_combination = sum(best_combination)\n",
    "    print(total_combination)\n",
    "\n",
    "    print(\"Content of the Combination of Items:\")\n",
    "    selected_items = []\n",
    "    unit_price = 0\n",
    "    for i, item in enumerate(best_combination):\n",
    "        if item == 1:\n",
    "            item_name = items[i][0]\n",
    "            item_price = items[i][1]\n",
    "            unit_price += item_price\n",
    "            selected_items.append([item_name, item_price])\n",
    "            \n",
    "    selected_items.append(['Wrapper cost', '1'])\n",
    "    unit_price +=1\n",
    "    print(tabulate(selected_items, headers=[\"Item Name\", \"Price (RM)\"], tablefmt=\"grid\"))\n",
    "\n",
    "    print(\"Unit Price: \")\n",
    "    print(unit_price if best_fitness >= 0 else 0)\n",
    "    \n",
    "    print(\"Total Price: \")\n",
    "    print(unit_price * 25 if best_fitness >= 0 else 0)\n",
    "    \n",
    "    return best_combination, fitness_history\n"
   ]
  },
  {
   "cell_type": "markdown",
   "id": "cb6ef4f5",
   "metadata": {},
   "source": [
    "## Perfomance Assessment\n",
    "\n"
   ]
  },
  {
   "cell_type": "code",
   "execution_count": 11,
   "id": "74300149",
   "metadata": {},
   "outputs": [
    {
     "name": "stdout",
     "output_type": "stream",
     "text": [
      "Best holiday set (Selection Method: Ranked, Crossover Method: Single Point, Mutation Method: Inversion):\n",
      "\n",
      "Total Combination of Items: \n",
      "4\n",
      "Content of the Combination of Items:\n",
      "+------------------+--------------+\n",
      "| Item Name        |   Price (RM) |\n",
      "+==================+==============+\n",
      "| 2B pencil        |            1 |\n",
      "+------------------+--------------+\n",
      "| Color pencil     |            3 |\n",
      "+------------------+--------------+\n",
      "| Milo packet      |            1 |\n",
      "+------------------+--------------+\n",
      "| Mini sketch book |            2 |\n",
      "+------------------+--------------+\n",
      "| Wrapper cost     |            1 |\n",
      "+------------------+--------------+\n",
      "Unit Price: \n",
      "8.0\n",
      "Total Price: \n",
      "200.0\n"
     ]
    }
   ],
   "source": [
    "# Test 1\n",
    "print(\"Best holiday set (Selection Method: Ranked, Crossover Method: Single Point, Mutation Method: Inversion):\")\n",
    "print()\n",
    "best_holiday_set_1, fitness_history_1 = main(selection_roulette_wheel, crossover_two_point, mutation_bit_flip)"
   ]
  },
  {
   "cell_type": "code",
   "execution_count": 12,
   "id": "4b585569",
   "metadata": {},
   "outputs": [
    {
     "data": {
      "image/png": "[encoded data removed]",
      "text/plain": [
       "<Figure size 432x288 with 1 Axes>"
      ]
     },
     "metadata": {
      "needs_background": "light"
     },
     "output_type": "display_data"
    }
   ],
   "source": [
    "x = range(0,len(fitness_history_1))\n",
    "y = fitness_history_1\n",
    "\n",
    "plt.plot(x, y)\n",
    "\n",
    "plt.title(\"Best Fitness Values per Generation\")\n",
    "plt.xlabel(\"Generation\")\n",
    "plt.ylabel(\"Fitness value\")\n",
    "\n",
    "plt.show()"
   ]
  },
  {
   "cell_type": "markdown",
   "id": "5c8d0926",
   "metadata": {},
   "source": [
    "## Summary\n"
   ]
  },
  {
   "cell_type": "markdown",
   "id": "4ae8de4b",
   "metadata": {},
   "source": [
    "# Question 2\n",
    "\n"
   ]
  },
  {
   "cell_type": "markdown",
   "id": "6c90bd18",
   "metadata": {},
   "source": [
    "## Variable declaration"
   ]
  },
  {
   "cell_type": "code",
   "execution_count": 17,
   "id": "a86a0677",
   "metadata": {},
   "outputs": [],
   "source": [
    "# Define the teams, days, and slots\n",
    "slots = [1, 2, 3, 4, 5, 6]\n",
    "teams = [1, 2, 3, 4, 5, 6, 7]\n",
    "days = [1, 2, 3, 4]\n",
    "solution_limit = 100  # Number of solutions to print"
   ]
  },
  {
   "cell_type": "code",
   "execution_count": 18,
   "id": "81d79c8c",
   "metadata": {},
   "outputs": [],
   "source": [
    "def solve_dodol_feast(minimum_slot):\n",
    "     # Create the CP-SAT model\n",
    "    model = cp_model.CpModel()\n",
    "\n",
    "    # Create the decision variables\n",
    "    variables = {}\n",
    "    for day in days:\n",
    "        for slot in slots:\n",
    "            for team in teams:\n",
    "                variables[(day, slot, team)] = model.NewBoolVar(f'time_{team}_{day}_{slot}')\n",
    "\n",
    "    # Constraint 1: Each team must stir the pot for at least 3 times during the feast\n",
    "    for team in teams:\n",
    "        model.Add(sum(variables[(day, slot, team)] for day in days for slot in slots) >= minimum_slot)\n",
    "\n",
    "    # Constraint 2: No team should stir the pot for more than 4 hours a day\n",
    "    for day in days:\n",
    "        for team in teams:\n",
    "            model.Add(sum(variables[(day, slot, team)] for slot in slots) <= 1)\n",
    "\n",
    "    # Constraint 3: No team should stir the pot consecutively\n",
    "    for day in days:\n",
    "        for slot in slots[1:]:\n",
    "            for team in teams:\n",
    "                model.Add(variables[(day, slot, team)] <= sum(variables[(day, slot - 1, t)] for t in teams if t != team))\n",
    "\n",
    "    # Constraint 4: Only one team should stir the pot in each time slot\n",
    "    for day in days:\n",
    "        for slot in slots:\n",
    "            model.Add(sum(variables[(day, slot, team)] for team in teams) == 1)\n",
    "\n",
    "    # Create the objective variable\n",
    "    objective_var = model.NewIntVar(0, len(days) * len(slots) * len(teams), 'objective')\n",
    "\n",
    "    # Constraint 5: Minimize the total number of team assignments\n",
    "    model.Add(objective_var == sum(variables[(day, slot, team)] for day in days for slot in slots for team in teams))\n",
    "\n",
    "    # Set the objective function\n",
    "    model.Minimize(objective_var)\n",
    "\n",
    "    # Create the solver\n",
    "    solver = cp_model.CpSolver()\n",
    "    solver.parameters.log_search_progress = True\n",
    "    solutions_found = 0\n",
    "    all_solutions = []\n",
    "\n",
    "    while solutions_found < solution_limit:\n",
    "        status = solver.Solve(model)\n",
    "\n",
    "        # Check if a solution is found\n",
    "        if status != cp_model.OPTIMAL:\n",
    "            print(\"No feasible solution found.\")\n",
    "            break\n",
    "\n",
    "        # Extract the solution\n",
    "        solution = {}\n",
    "        for day in days:\n",
    "            for slot in slots:\n",
    "                for team in teams:\n",
    "                    if solver.BooleanValue(variables[(day, slot, team)]):\n",
    "                        solution[(day, slot)] = team\n",
    "\n",
    "        all_solutions.append(solution)\n",
    "        solutions_found += 1\n",
    "\n",
    "        # Add a new constraint to prevent finding the same solution again\n",
    "        model.Add(sum(variables[(day, slot, team)] for day in days for slot in slots for team in teams\n",
    "                      if solution.get((day, slot)) == team) <= len(solution) - 1)\n",
    "\n",
    "    return all_solutions"
   ]
  },
  {
   "cell_type": "markdown",
   "id": "7ca10397",
   "metadata": {},
   "source": [
    "## Main Functions"
   ]
  },
  {
   "cell_type": "code",
   "execution_count": 20,
   "id": "464ecaae",
   "metadata": {},
   "outputs": [
    {
     "name": "stdout",
     "output_type": "stream",
     "text": [
      "Sample Schedule:\n",
      "+-------+---------------+---------------+---------------+---------------+---------------+---------------+\n",
      "|       | Time Slot 1   | Time Slot 2   | Time Slot 3   | Time Slot 4   | Time Slot 5   | Time Slot 6   |\n",
      "+=======+===============+===============+===============+===============+===============+===============+\n",
      "| Day 1 | Team 7        | Team 6        | Team 5        | Team 3        | Team 2        | Team 1        |\n",
      "+-------+---------------+---------------+---------------+---------------+---------------+---------------+\n",
      "| Day 2 | Team 7        | Team 5        | Team 4        | Team 3        | Team 2        | Team 1        |\n",
      "+-------+---------------+---------------+---------------+---------------+---------------+---------------+\n",
      "| Day 3 | Team 6        | Team 5        | Team 4        | Team 3        | Team 2        | Team 1        |\n",
      "+-------+---------------+---------------+---------------+---------------+---------------+---------------+\n",
      "| Day 4 | Team 7        | Team 5        | Team 4        | Team 3        | Team 2        | Team 1        |\n",
      "+-------+---------------+---------------+---------------+---------------+---------------+---------------+\n",
      "\n"
     ]
    }
   ],
   "source": [
    "# Solve the dodol feast problem and get all possible schedules\n",
    "all_solutions_1 = solve_dodol_feast(2)\n",
    "\n",
    "if all_solutions_1:\n",
    "    solution_idx = 0  # Index of the solution to print (99 for the first solution)\n",
    "    solution = all_solutions_1[solution_idx]\n",
    "    print(f\"Sample Schedule:\")\n",
    "    table = []\n",
    "    for day in days:\n",
    "        row = [f\"Day {day}\"]\n",
    "        for slot in slots:\n",
    "            team = solution.get((day, slot), \"-\")\n",
    "            row.append(f\"Team {team}\")\n",
    "        table.append(row)\n",
    "    headers = [\"\"] + [f\"Time Slot {slot}\" for slot in slots]\n",
    "    print(tabulate(table, headers=headers, showindex=False, tablefmt=\"grid\"))\n",
    "    print()\n",
    "else:\n",
    "    print(\"No feasible solution found.\")\n"
   ]
  },
  {
   "cell_type": "code",
   "execution_count": 21,
   "id": "31351186",
   "metadata": {},
   "outputs": [
    {
     "name": "stdout",
     "output_type": "stream",
     "text": [
      " Sample Schedule:\n",
      "+-------+---------------+---------------+---------------+---------------+---------------+---------------+\n",
      "|       | Time Slot 1   | Time Slot 2   | Time Slot 3   | Time Slot 4   | Time Slot 5   | Time Slot 6   |\n",
      "+=======+===============+===============+===============+===============+===============+===============+\n",
      "| Day 1 | Team 7        | Team 1        | Team 3        | Team 4        | Team 6        | Team 5        |\n",
      "+-------+---------------+---------------+---------------+---------------+---------------+---------------+\n",
      "| Day 2 | Team 5        | Team 4        | Team 6        | Team 2        | Team 1        | Team 7        |\n",
      "+-------+---------------+---------------+---------------+---------------+---------------+---------------+\n",
      "| Day 3 | Team 6        | Team 3        | Team 4        | Team 2        | Team 1        | Team 5        |\n",
      "+-------+---------------+---------------+---------------+---------------+---------------+---------------+\n",
      "| Day 4 | Team 7        | Team 5        | Team 3        | Team 2        | Team 4        | Team 6        |\n",
      "+-------+---------------+---------------+---------------+---------------+---------------+---------------+\n",
      "\n"
     ]
    }
   ],
   "source": [
    "# Solve the dodol feast problem and get all possible schedules\n",
    "all_solutions_2 = solve_dodol_feast(3)\n",
    "\n",
    "if all_solutions_2:\n",
    "    solution_idx = 0  # Index of the solution to print (0 for the first solution)\n",
    "    solution = all_solutions_2[solution_idx]\n",
    "    print(f\" Sample Schedule:\")\n",
    "    table = []\n",
    "    for day in days:\n",
    "        row = [f\"Day {day}\"]\n",
    "        for slot in slots:\n",
    "            team = solution.get((day, slot), \"-\")\n",
    "            row.append(f\"Team {team}\")\n",
    "        table.append(row)\n",
    "    headers = [\"\"] + [f\"Time Slot {slot}\" for slot in slots]\n",
    "    print(tabulate(table, headers=headers, showindex=False, tablefmt=\"grid\"))\n",
    "    print()\n",
    "else:\n",
    "    print(\"No feasible solution found.\")\n"
   ]
  },
  {
   "cell_type": "markdown",
   "id": "5615b02b",
   "metadata": {},
   "source": [
    "## Matplot to show the constrast"
   ]
  },
  {
   "cell_type": "code",
   "execution_count": null,
   "id": "75a51cf5",
   "metadata": {},
   "outputs": [],
   "source": [
    "# Calculate the average number of slots worked for each team (First Solution)\n",
    "team_slots_1 = {team: 0 for team in teams}\n",
    "for solution in all_solutions_1:\n",
    "    for team in teams:\n",
    "        team_slots_1[team] += sum(1 for day in days for slot in slots if solution.get((day, slot)) == team)\n",
    "\n",
    "average_slots_1 = {team: slots / len(all_solutions_1) for team, slots in team_slots_1.items()}\n",
    "\n",
    "# Calculate the average number of slots worked for each team (Second Solution)\n",
    "team_slots_2 = {team: 0 for team in teams}\n",
    "for solution in all_solutions_2:\n",
    "    for team in teams:\n",
    "        team_slots_2[team] += sum(1 for day in days for slot in slots if solution.get((day, slot)) == team)\n",
    "\n",
    "average_slots_2 = {team: slots / len(all_solutions_2) for team, slots in team_slots_2.items()}\n",
    "\n",
    "# Set up the subplots\n",
    "fig, axes = plt.subplots(1, 2, figsize=(12, 4))\n",
    "\n",
    "# Plot the first solution\n",
    "axes[0].bar(teams_labels, [average_slots_1[team] for team in teams])\n",
    "axes[0].set_xlabel('Team')\n",
    "axes[0].set_ylabel('Average Slots Worked')\n",
    "axes[0].set_title('Average Number of Slots Worked for Each Team (First Solution)')\n",
    "\n",
    "# Plot the second solution\n",
    "axes[1].bar(teams_labels, [average_slots_2[team] for team in teams])\n",
    "axes[1].set_xlabel('Team')\n",
    "axes[1].set_ylabel('Average Slots Worked')\n",
    "axes[1].set_title('Average Number of Slots Worked for Each Team (Second Solution)')\n",
    "\n",
    "# Adjust the spacing between subplots\n",
    "plt.tight_layout()\n",
    "\n",
    "# Display the plot\n",
    "plt.show()"
   ]
  },
  {
   "cell_type": "markdown",
   "id": "e7cce1d3",
   "metadata": {},
   "source": [
    "## Summary"
   ]
  },
  {
   "cell_type": "markdown",
   "id": "ca7d9ecf",
   "metadata": {},
   "source": [
    "# Question 3\n"
   ]
  },
  {
   "cell_type": "markdown",
   "id": "757d75d8",
   "metadata": {},
   "source": [
    "### Player list"
   ]
  },
  {
   "cell_type": "code",
   "execution_count": null,
   "id": "0e0dd822",
   "metadata": {},
   "outputs": [],
   "source": [
    "import pandas as pd\n",
    "import numpy as np\n",
    "\n",
    "# Load data\n",
    "playerlist = pd.read_csv(\"Question-3-Dataset/NBA-playerlist.csv\")\n",
    "playerlist "
   ]
  },
  {
   "cell_type": "code",
   "execution_count": null,
   "id": "36767170",
   "metadata": {},
   "outputs": [],
   "source": [
    "# Drop unnecessary columns\n",
    "playerlist = playerlist.drop(['Unnamed: 0', 'DISPLAY_LAST_COMMA_FIRST'], axis=1)\n",
    "playerlist = playerlist.rename(columns={'DISPLAY_FIRST_LAST': 'PLAYER_NAME'})\n",
    "\n",
    "# Rearrange the columns\n",
    "person_id_col = playerlist.pop('PERSON_ID')  # Remove 'PERSON_ID' column from DataFrame\n",
    "playerlist.insert(0, 'PERSON_ID', person_id_col)  # Insert 'PERSON_ID' column at the front\n",
    "\n",
    "# Display data\n",
    "playerlist"
   ]
  },
  {
   "cell_type": "code",
   "execution_count": null,
   "id": "0ed4c59a",
   "metadata": {},
   "outputs": [],
   "source": [
    "# Check data types\n",
    "print(playerlist.columns)\n",
    "playerlist.dtypes"
   ]
  },
  {
   "cell_type": "markdown",
   "id": "14e7111b",
   "metadata": {},
   "source": [
    "<b> Handle duplicates and missing values"
   ]
  },
  {
   "cell_type": "code",
   "execution_count": null,
   "id": "efdef4f4",
   "metadata": {},
   "outputs": [],
   "source": [
    "def check_duplicates(data):\n",
    "    duplicate_rows = data[data.duplicated()]\n",
    "    print(\"Duplicate Rows:\", len(duplicate_rows))\n",
    "    \n",
    "    if len(duplicate_rows) > 0:\n",
    "        data.drop_duplicates(inplace=True)\n",
    "        print(\"Duplicate rows dropped.\")\n",
    "        \n",
    "def check_missing_values(data):\n",
    "    has_missing_values = False  # Flag variable\n",
    "\n",
    "    for column in data.columns:\n",
    "        null_val = data[column].isna().sum()\n",
    "        total_data = len(data[column])\n",
    "\n",
    "        if null_val > 0:\n",
    "            print(column, \":\", null_val, \"out of\", total_data)\n",
    "            has_missing_values = True  # Set the flag to True if missing values are found\n",
    "\n",
    "    # Print \"No missing values\" if no missing values were found\n",
    "    if not has_missing_values:\n",
    "        print(\"No missing values.\")"
   ]
  },
  {
   "cell_type": "code",
   "execution_count": null,
   "id": "8132f836",
   "metadata": {},
   "outputs": [],
   "source": [
    "# Check duplicte data\n",
    "check_duplicates(playerlist)\n",
    "print()\n",
    "\n",
    "# Check missing value\n",
    "print(\"Missing values =======================\")\n",
    "check_missing_values(playerlist)\n",
    "\n",
    "# Check TEAM_ID with 0 as value:\n",
    "total_null = len(playerlist[playerlist['TEAM_ID'] == 0])\n",
    "total_data = len(playerlist['TEAM_ID'])\n",
    "print('TEAM_ID : ', total_null, \"out of\", total_data)\n",
    "\n",
    "# Replace TEAM_ID with 0 as value to \"-\"\n",
    "playerlist['TEAM_ID'] = playerlist['TEAM_ID'].replace(0, '-')"
   ]
  },
  {
   "cell_type": "markdown",
   "id": "f36eb158",
   "metadata": {},
   "source": [
    "<b>Explaination for team abbreviation, city, code, ID and name being null"
   ]
  },
  {
   "cell_type": "markdown",
   "id": "e740b389",
   "metadata": {},
   "source": [
    "Roster status 0 means the player is not active, therefore there no team data recorded<br>\n",
    "Roster status 1 means the player is active, therefore there team data recorded<b>"
   ]
  },
  {
   "cell_type": "code",
   "execution_count": null,
   "id": "b304bd58",
   "metadata": {},
   "outputs": [],
   "source": [
    "# Check if columns are null when ROSTERSTATUS is 0\n",
    "null_values_roster_0 = playerlist.loc[playerlist['ROSTERSTATUS'] == 0, ['TEAM_ABBREVIATION', 'TEAM_CITY', 'TEAM_CODE', 'TEAM_NAME']].isnull().sum()\n",
    "print(\"Null values when ROSTERSTATUS is 0:\")\n",
    "print(null_values_roster_0)\n",
    "print()\n",
    "\n",
    "# Check if columns have values when ROSTERSTATUS is 1\n",
    "not_null_values_roster_1 = playerlist.loc[playerlist['ROSTERSTATUS'] == 1, ['TEAM_ABBREVIATION', 'TEAM_CITY', 'TEAM_CODE', 'TEAM_NAME']].notnull().sum()\n",
    "print(\"Non-null values when ROSTERSTATUS is 1:\")\n",
    "print(not_null_values_roster_1)\n",
    "\n",
    "# Fill NaN value with \"-\"\n",
    "columns_to_fill = ['TEAM_ABBREVIATION', 'TEAM_CITY', 'TEAM_CODE', 'TEAM_NAME']\n",
    "playerlist[columns_to_fill] = playerlist[columns_to_fill].fillna('-')\n",
    "playerlist"
   ]
  },
  {
   "cell_type": "markdown",
   "id": "e6f279fb",
   "metadata": {},
   "source": [
    "<b>Explaination for missing playercode"
   ]
  },
  {
   "cell_type": "code",
   "execution_count": null,
   "id": "642501df",
   "metadata": {},
   "outputs": [],
   "source": [
    "playerlist['PLAYERCODE'] = playerlist['PLAYERCODE'].fillna(\"-\")"
   ]
  },
  {
   "cell_type": "code",
   "execution_count": null,
   "id": "7d3c61c0",
   "metadata": {},
   "outputs": [],
   "source": [
    "# Check inconsistency\n",
    "for column in playerlist.columns:\n",
    "    val_count = playerlist[column].value_counts()\n",
    "    print(\"value count for \", column, \":\")\n",
    "    print(val_count)\n",
    "    print()"
   ]
  },
  {
   "cell_type": "markdown",
   "id": "942fff33",
   "metadata": {},
   "source": [
    "For the observation:\n",
    "- TEAM_CITY has both LA and Los Angeles"
   ]
  },
  {
   "cell_type": "code",
   "execution_count": null,
   "id": "098b4ab0",
   "metadata": {},
   "outputs": [],
   "source": [
    "# Replace \"LA\" with \"Los Angeles\"\n",
    "playerlist['TEAM_CITY'] = playerlist['TEAM_CITY'].replace('LA', 'Los Angeles')\n",
    "\n",
    "# Count the occurrences of each team name again\n",
    "team_counts = playerlist['TEAM_CITY'].value_counts()\n",
    "\n",
    "# Print the updated team counts\n",
    "print(team_counts)"
   ]
  },
  {
   "cell_type": "markdown",
   "id": "9fd85e6d",
   "metadata": {},
   "source": [
    "<b> Finalized cleaned data"
   ]
  },
  {
   "cell_type": "code",
   "execution_count": null,
   "id": "9c26795c",
   "metadata": {},
   "outputs": [],
   "source": [
    "check_missing_values(playerlist)"
   ]
  },
  {
   "cell_type": "code",
   "execution_count": null,
   "id": "5d095781",
   "metadata": {},
   "outputs": [],
   "source": [
    "playerlist.to_excel('playerlist_cleaned.xlsx', index=False)"
   ]
  },
  {
   "cell_type": "markdown",
   "id": "1898f79a",
   "metadata": {},
   "source": [
    "### NBA Season Data"
   ]
  },
  {
   "cell_type": "code",
   "execution_count": null,
   "id": "92504c43",
   "metadata": {},
   "outputs": [],
   "source": [
    "import pandas as pd\n",
    "import numpy as np\n",
    "\n",
    "NBA1 = pd.read_csv(\"Question-3-Dataset/NBA-Season-2016-2017.csv\")\n",
    "NBA2 = pd.read_csv(\"Question-3-Dataset/NBA-Season-2017-2018.csv\")\n",
    "NBA3 = pd.read_csv(\"Question-3-Dataset/NBA-Season-2018-2020.csv\")\n",
    "\n",
    "pd.set_option('display.max_columns', None)"
   ]
  },
  {
   "cell_type": "code",
   "execution_count": null,
   "id": "f37e6794",
   "metadata": {},
   "outputs": [],
   "source": [
    "NBA1"
   ]
  },
  {
   "cell_type": "code",
   "execution_count": null,
   "id": "faf5b828",
   "metadata": {},
   "outputs": [],
   "source": [
    "NBA2"
   ]
  },
  {
   "cell_type": "code",
   "execution_count": null,
   "id": "b6a6365b",
   "metadata": {},
   "outputs": [],
   "source": [
    "NBA3"
   ]
  },
  {
   "cell_type": "code",
   "execution_count": null,
   "id": "13a575b6",
   "metadata": {},
   "outputs": [],
   "source": [
    "# Drop unnecessary columns\n",
    "NBA1 = NBA1.drop('Unnamed: 0', axis=1)\n",
    "NBA2 = NBA2.drop('Unnamed: 0', axis=1)\n",
    "NBA3 = NBA3.drop('Unnamed: 0', axis=1)\n",
    "\n",
    "# Add a 'SEASON' column\n",
    "NBA1['SEASON'] = '2016-2017'\n",
    "NBA2['SEASON'] = '2017-2018'\n",
    "NBA3['SEASON'] = '2018-2020'\n",
    "\n",
    "# Merge data into one dataframe\n",
    "NBA_data = pd.concat([NBA1, NBA2, NBA3], axis=0)\n",
    "\n",
    "# # Drop this columns bcs this information is in the playerlist\n",
    "# NBA_data = NBA_data.drop(['PLAYER1_TEAM_CITY', 'PLAYER2_TEAM_CITY', 'PLAYER3_TEAM_CITY',\n",
    "#                          'PLAYER1_TEAM_NICKNAME', 'PLAYER2_TEAM_NICKNAME', 'PLAYER3_TEAM_NICKNAME',\n",
    "#                          'PLAYER1_TEAM_ABBREVIATION', 'PLAYER2_TEAM_ABBREVIATION', 'PLAYER3_TEAM_ABBREVIATION',\n",
    "#                          'PLAYER1_TEAM_CITY', 'PLAYER2_TEAM_CITY', 'PLAYER3_TEAM_CITY'], axis=1)\n",
    "\n",
    "# Rearrange the column\n",
    "game_id_col = NBA_data.pop('GAME_ID')  # Remove 'PERSON_ID' column from DataFrame\n",
    "NBA_data.insert(0, 'GAME_ID', game_id_col)  # Insert 'PERSON_ID' column at the front\n",
    "\n",
    "# Display data\n",
    "NBA_data"
   ]
  },
  {
   "cell_type": "code",
   "execution_count": null,
   "id": "cbde29c8",
   "metadata": {},
   "outputs": [],
   "source": [
    "print(NBA_data.columns)\n",
    "NBA_data.dtypes"
   ]
  },
  {
   "cell_type": "code",
   "execution_count": null,
   "id": "e56e2df1",
   "metadata": {},
   "outputs": [],
   "source": [
    "# Convert datatypes\n",
    "columns_to_convert = ['PLAYER1_ID','PLAYER1_TEAM_ID', \n",
    "                      'PLAYER2_ID', 'PLAYER2_TEAM_ID', \n",
    "                      'PLAYER3_ID', 'PLAYER3_TEAM_ID',\n",
    "                      'PERIOD','PERSON1TYPE','PERSON2TYPE', 'PERSON3TYPE']\n",
    "\n",
    "# Fill NaN with 0, then convert float to int, then to string\n",
    "NBA_data[columns_to_convert] = NBA_data[columns_to_convert].replace([np.inf, -np.inf], np.nan).fillna(0).astype(int).astype(str)\n",
    "NBA_data['GAME_ID'] = NBA_data['GAME_ID'].astype(str)\n",
    "\n",
    "# Fill 0 back into NaN, which will handle later on\n",
    "NBA_data[columns_to_convert] = NBA_data[columns_to_convert].replace(\"0\", np.nan)\n",
    "\n",
    "# Display datatype\n",
    "print(NBA_data.dtypes)\n",
    "\n",
    "# Display data\n",
    "NBA_data"
   ]
  },
  {
   "cell_type": "markdown",
   "id": "b39cbe18",
   "metadata": {},
   "source": [
    "<b> Handle duplicates and missing values"
   ]
  },
  {
   "cell_type": "code",
   "execution_count": null,
   "id": "45eb4571",
   "metadata": {},
   "outputs": [],
   "source": [
    "# Check duplicates\n",
    "check_duplicates(NBA_data)\n",
    "\n",
    "print(\"Missing values =====================\")\n",
    "\n",
    "check_missing_values(NBA_data)"
   ]
  },
  {
   "cell_type": "markdown",
   "id": "e57b0a2c",
   "metadata": {},
   "source": [
    "- SCORE AND SCOREMARGIN"
   ]
  },
  {
   "cell_type": "code",
   "execution_count": null,
   "id": "60f75ee7",
   "metadata": {},
   "outputs": [],
   "source": [
    "# Fill NaN value with \"0-0\", since theres no score was made during the event\n",
    "NBA_data['SCORE'] = NBA_data['SCORE'].fillna('0 - 0')\n",
    "\n",
    "# If score is \"0-0\", then score margin is 0\n",
    "NBA_data.loc[NBA_data['SCORE'] == '0 - 0', 'SCOREMARGIN'] = 0\n",
    "NBA_data[['GAME_ID', 'SCORE', 'SCOREMARGIN']]"
   ]
  },
  {
   "cell_type": "code",
   "execution_count": null,
   "id": "1e2de828",
   "metadata": {},
   "outputs": [],
   "source": [
    "NBA_data.columns"
   ]
  },
  {
   "cell_type": "markdown",
   "id": "a5cc30be",
   "metadata": {},
   "source": [
    "- OTHERS"
   ]
  },
  {
   "cell_type": "code",
   "execution_count": null,
   "id": "6cf033ae",
   "metadata": {},
   "outputs": [],
   "source": [
    "# Convert datatypes\n",
    "columns_to_convert = ['PERSON1TYPE', 'PERSON2TYPE', 'PERSON3TYPE', 'PLAYER1_ID',\n",
    "       'PLAYER1_NAME', 'PLAYER1_TEAM_ABBREVIATION', 'PLAYER1_TEAM_CITY',\n",
    "       'PLAYER1_TEAM_ID', 'PLAYER1_TEAM_NICKNAME', 'PLAYER2_ID',\n",
    "       'PLAYER2_NAME', 'PLAYER2_TEAM_ABBREVIATION', 'PLAYER2_TEAM_CITY',\n",
    "       'PLAYER2_TEAM_ID', 'PLAYER2_TEAM_NICKNAME', 'PLAYER3_ID',\n",
    "       'PLAYER3_NAME', 'PLAYER3_TEAM_ABBREVIATION', 'PLAYER3_TEAM_CITY',\n",
    "       'PLAYER3_TEAM_ID', 'PLAYER3_TEAM_NICKNAME', 'VISITORDESCRIPTION', 'HOMEDESCRIPTION']\n",
    "\n",
    "# Fill NaN with \"-\", since we can't simply replace it with other value\n",
    "NBA_data[columns_to_convert] = NBA_data[columns_to_convert].fillna(\"-\")\n",
    "\n",
    "# Apply forward fill bcs the EVENTTYPE is during period end, so the WCTime probably follow the previous event\n",
    "NBA_data['WCTIMESTRING'] = NBA_data['WCTIMESTRING'].ffill()\n",
    "NBA_data['PERIOD'] = NBA_data['PERIOD'].ffill()\n",
    "\n",
    "# Drop the this column bcs there only NaN value for every row\n",
    "NBA_data = NBA_data.drop('NEUTRALDESCRIPTION', axis=1)\n",
    "NBA_data"
   ]
  },
  {
   "cell_type": "code",
   "execution_count": null,
   "id": "520d9627",
   "metadata": {},
   "outputs": [],
   "source": [
    "EVENTMSGTYPE_mapping = {\n",
    "    1: 'FIELD_GOAL_MADE',\n",
    "    2: 'FIELD_GOAL_MISSED',\n",
    "    3: 'FREE_THROW_ATTEMPT',\n",
    "    4: 'REBOUND',\n",
    "    5: 'TURNOVER',\n",
    "    6: 'FOUL',\n",
    "    7: 'VIOLATION',\n",
    "    8: 'SUBSTITUTION',\n",
    "    9: 'TIMEOUT',\n",
    "    10: 'JUMP_BALL',\n",
    "    11: 'EJECTION',\n",
    "    12: 'PERIOD_BEGIN',\n",
    "    13: 'PERIOD_END'\n",
    "}\n",
    "\n",
    "EVENTMSGACTIONTYPE_mapping = {\n",
    "    1: '3PT_JUMP_SHOT',\n",
    "    79: '3PT_PULLUP_JUMP_SHOT',\n",
    "    80: '3PT_STEP_BACK_JUMP_SHOT',\n",
    "    52: 'ALLEY_OOP_DUNK',\n",
    "    108: 'CUTTING_DUNK_SHOT',\n",
    "    99: 'CUTTING_FINGER_ROLL_LAYUP_SHOT',\n",
    "    98: 'CUTTING_LAYUP_SHOT',\n",
    "    75: 'DRIVING_FINGER_ROLL_LAYUP',\n",
    "    6: 'DRIVING_LAYUP',\n",
    "    73: 'DRIVING_REVERSE_LAYUP',\n",
    "    7: 'DUNK',\n",
    "    71: 'FINGER_ROLL_LAYUP',\n",
    "    78: 'FLOATING_JUMP_SHOT',\n",
    "    3: 'HOOK_SHOT',\n",
    "    66: 'JUMP_BANK_SHOT',\n",
    "    5: 'LAYUP',\n",
    "    79: 'PULLUP_JUMP_SHOT',\n",
    "    72: 'PUTBACK_LAYUP',\n",
    "    44: 'REVERSE_LAYUP',\n",
    "    50: 'RUNNING_DUNK',\n",
    "    76: 'RUNNING_FINGER_ROLL_LAYUP',\n",
    "    41: 'RUNNING_LAYUP',\n",
    "    80: 'STEP_BACK_JUMP_SHOT',\n",
    "    97: 'TIP_LAYUP_SHOT',\n",
    "    86: 'TURNAROUND_FADEAWAY',\n",
    "    58: 'TURNAROUND_HOOK_SHOT',\n",
    "    47: 'TURNAROUND_JUMP_SHOT'\n",
    "}\n",
    "\n",
    "NBA_data['EVENTMSGTYPE_DESCRIPTION'] = NBA_data['EVENTMSGTYPE'].map(EVENTMSGTYPE_mapping).fillna('-')\n",
    "NBA_data['EVENTMSGACTIONTYPE_DESCRIPTION'] = NBA_data['EVENTMSGACTIONTYPE'].map(EVENTMSGACTIONTYPE_mapping).fillna('-')\n",
    "\n",
    "# Rearrange the column\n",
    "NBA_data = NBA_data.reindex(columns=['GAME_ID', 'EVENTNUM', 'EVENTMSGTYPE', 'EVENTMSGTYPE_DESCRIPTION', 'EVENTMSGACTIONTYPE', 'EVENTMSGACTIONTYPE_DESCRIPTION', \n",
    "                                     'HOMEDESCRIPTION', 'PCTIMESTRING', 'PERIOD', 'PERSON1TYPE',\n",
    "                                       'PERSON2TYPE', 'PERSON3TYPE', 'PLAYER1_ID', 'PLAYER1_NAME',\n",
    "                                       'PLAYER1_TEAM_ID', 'PLAYER2_ID', 'PLAYER2_NAME', 'PLAYER2_TEAM_ID',\n",
    "                                       'PLAYER3_ID', 'PLAYER3_NAME', 'PLAYER3_TEAM_ID', 'SCORE', 'SCOREMARGIN',\n",
    "                                       'VISITORDESCRIPTION', 'WCTIMESTRING', 'SEASON'])\n",
    "NBA_data"
   ]
  },
  {
   "cell_type": "markdown",
   "id": "30157938",
   "metadata": {},
   "source": [
    "<b> Finalized cleaned data"
   ]
  },
  {
   "cell_type": "code",
   "execution_count": null,
   "id": "291efd68",
   "metadata": {},
   "outputs": [],
   "source": [
    "check_missing_values(NBA_data)"
   ]
  },
  {
   "cell_type": "code",
   "execution_count": null,
   "id": "93895994",
   "metadata": {},
   "outputs": [],
   "source": [
    "playerlist.to_excel('nba_cleaned.xlsx', index=False)"
   ]
  },
  {
   "cell_type": "markdown",
   "id": "cb74b18b",
   "metadata": {},
   "source": [
    "## Summary"
   ]
  },
  {
   "cell_type": "code",
   "execution_count": null,
   "id": "9cacca1f",
   "metadata": {},
   "outputs": [],
   "source": []
  }
 ],
 "metadata": {
  "kernelspec": {
   "display_name": "Python 3",
   "language": "python",
   "name": "python3"
  },
  "language_info": {
   "codemirror_mode": {
    "name": "ipython",
    "version": 3
   },
   "file_extension": ".py",
   "mimetype": "text/x-python",
   "name": "python",
   "nbconvert_exporter": "python",
   "pygments_lexer": "ipython3",
   "version": "3.8.8"
  }
 },
 "nbformat": 4,
 "nbformat_minor": 5
}
