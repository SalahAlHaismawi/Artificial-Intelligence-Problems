{
 "cells": [
  {
   "cell_type": "markdown",
   "id": "6d81adfa",
   "metadata": {},
   "source": [
    "<img src=\"tic3151.png\" style=\"height: 70px; width: 200px\" align=left> \n",
    "<img src=\"logo-MMU.png\" style=\"height: 70px; width: 200px\" align=right> "
   ]
  },
  {
   "cell_type": "markdown",
   "id": "319a1af8",
   "metadata": {},
   "source": [
    "### Team members\n",
    "\n",
    "Ahmad Ayaan - 1191302794 \n",
    "\n",
    "Salah Fayeq y. AlHaismawi - 1201303035\n",
    "\n",
    "Aisha Sakinah Binti Saadon - 1191101867\n",
    "\n",
    "Aryssa Amanda Binti Azhar - 1191100575\n",
    "\n",
    "\n",
    "### The assignment contains following questions\n"
   ]
  },
  {
   "cell_type": "markdown",
   "id": "97620e30",
   "metadata": {},
   "source": [
    "# Installing Libraries\n",
    "\n",
    "##### Note: Uncomment the code the code to install the relevant libraries"
   ]
  },
  {
   "cell_type": "code",
   "execution_count": null,
   "id": "3928c0d4",
   "metadata": {},
   "outputs": [],
   "source": [
    "# pip install pygad\n"
   ]
  },
  {
   "cell_type": "markdown",
   "id": "8364e464",
   "metadata": {},
   "source": [
    "# Importing Libraries"
   ]
  },
  {
   "cell_type": "code",
   "execution_count": 1,
   "id": "8cb3f91e",
   "metadata": {},
   "outputs": [],
   "source": [
    "from random import randint\n",
    "import random\n"
   ]
  },
  {
   "cell_type": "markdown",
   "id": "f46dfc23",
   "metadata": {},
   "source": [
    "# Question 1\n",
    "\n",
    "Year-end school holiday is coming soon. A kindergarten teacher would like to give each\n",
    "of the student in her class, an amazing holiday set by November 2023. There are 25\n",
    "students in her class consisting of 15 girls and 10 boys. She has approached you for\n",
    "help and provided the following details to you:\n",
    "\n",
    "• Budget for 25 holiday sets = RM 200.00\n",
    "\n",
    "• Each holiday set must be wrapped using a sheet of paper i.e. blue wrapper for\n",
    "boy’s holiday set and pink wrapper for girl’s holiday set. Each wrapper cost\n",
    "RM1.00\n",
    "\n",
    "• Each holiday set should have at least 2 items being stationery\n",
    "\n"
   ]
  },
  {
   "cell_type": "markdown",
   "id": "7667d0c1",
   "metadata": {},
   "source": [
    "## Variables Declaration"
   ]
  },
  {
   "cell_type": "code",
   "execution_count": 11,
   "id": "64d69d98",
   "metadata": {},
   "outputs": [],
   "source": [
    "budget = 200.0\n",
    "minimum_stationary_item = 2\n",
    "wrapper_cost = 1.0\n",
    "\n",
    "# List of items and their prices\n",
    "items = [\n",
    "    (\"Chipsmore Biscuit\", 2.00),\n",
    "    (\"2B pencil\", 1.00),\n",
    "    (\"Color pencil\", 3.00),\n",
    "    (\"Magic pen\", 3.00),\n",
    "    (\"Potato chip\", 2.00),\n",
    "    (\"Milo packet\", 1.00),\n",
    "    (\"Mini sketch book\", 2.00),\n",
    "    (\"Milk biscuit\", 3.00)\n",
    "]"
   ]
  },
  {
   "cell_type": "markdown",
   "id": "48698ac5",
   "metadata": {},
   "source": [
    "## Population and Individuals\n",
    "\n"
   ]
  },
  {
   "cell_type": "code",
   "execution_count": 12,
   "id": "94049811",
   "metadata": {},
   "outputs": [],
   "source": [
    "def individuals():\n",
    "    return [random.randint(0, 1) for items in range(len(items))]\n",
    "\n",
    "def population(population_size):\n",
    "    return [individuals() for x in range(population_size)]"
   ]
  },
  {
   "cell_type": "markdown",
   "id": "8b6f8b06",
   "metadata": {},
   "source": [
    "## Fitness Function"
   ]
  },
  {
   "cell_type": "code",
   "execution_count": 16,
   "id": "70a4ae49",
   "metadata": {},
   "outputs": [],
   "source": [
    "def fitness_function(chromosome):\n",
    "    total = 0\n",
    "    num_stationery_items = 0\n",
    "    for i, j in enumerate(chromosome):\n",
    "        if j == 1:\n",
    "            total += items[i][1]\n",
    "            if items[i][0] in [\"2B pencil\", \"Color pencil\", \"Magic pen\"]:\n",
    "                num_stationery_items += 1\n",
    "\n",
    "    total_wrapper_cost = wrapper_cost * 25\n",
    "    if num_stationery_items >= 2 and total + total_wrapper_cost <= budget\n",
    "        return total\n",
    "    else:\n",
    "        return 0"
   ]
  },
  {
   "cell_type": "markdown",
   "id": "291cc519",
   "metadata": {},
   "source": [
    "## Selection Function"
   ]
  },
  {
   "cell_type": "code",
   "execution_count": null,
   "id": "6b9c54d3",
   "metadata": {},
   "outputs": [],
   "source": [
    "\n"
   ]
  },
  {
   "cell_type": "markdown",
   "id": "02fda200",
   "metadata": {},
   "source": [
    "## Crossover Function"
   ]
  },
  {
   "cell_type": "code",
   "execution_count": null,
   "id": "4e123945",
   "metadata": {},
   "outputs": [],
   "source": []
  },
  {
   "cell_type": "markdown",
   "id": "309d5a7c",
   "metadata": {},
   "source": [
    "## Mutation Function"
   ]
  },
  {
   "cell_type": "code",
   "execution_count": null,
   "id": "b24aa38c",
   "metadata": {},
   "outputs": [],
   "source": []
  },
  {
   "cell_type": "markdown",
   "id": "83a59f43",
   "metadata": {},
   "source": [
    "## Main Function"
   ]
  },
  {
   "cell_type": "code",
   "execution_count": 21,
   "id": "98be1305",
   "metadata": {},
   "outputs": [
    {
     "name": "stdout",
     "output_type": "stream",
     "text": [
      "11.0\n",
      "9.0\n",
      "10.0\n",
      "9.0\n",
      "Chromosome: [1, 1, 1, 0, 0, 0, 1, 1]\n",
      "Fitness Value: 11.0\n",
      "\n",
      "Chromosome: [0, 0, 0, 1, 1, 0, 0, 1]\n",
      "Fitness Value: 0\n",
      "\n",
      "Chromosome: [0, 0, 0, 1, 1, 1, 0, 1]\n",
      "Fitness Value: 0\n",
      "\n",
      "Chromosome: [0, 0, 1, 0, 0, 1, 0, 1]\n",
      "Fitness Value: 0\n",
      "\n",
      "Chromosome: [1, 0, 0, 0, 1, 0, 1, 1]\n",
      "Fitness Value: 0\n",
      "\n",
      "Chromosome: [0, 0, 0, 1, 1, 0, 0, 1]\n",
      "Fitness Value: 0\n",
      "\n",
      "Chromosome: [1, 1, 0, 1, 1, 1, 0, 0]\n",
      "Fitness Value: 9.0\n",
      "\n",
      "Chromosome: [1, 0, 0, 1, 1, 1, 1, 0]\n",
      "Fitness Value: 0\n",
      "\n",
      "Chromosome: [1, 1, 1, 0, 0, 1, 0, 1]\n",
      "Fitness Value: 10.0\n",
      "\n",
      "Chromosome: [1, 0, 1, 1, 0, 1, 0, 0]\n",
      "Fitness Value: 9.0\n",
      "\n"
     ]
    }
   ],
   "source": [
    "def main():\n",
    "    #this is a dummy main function\n",
    "    pop = population(10) \n",
    "\n",
    "    # Calculate fitness values for each chromosome\n",
    "    fitness_values = [fitness_function(chromosome) for chromosome in pop]\n",
    "\n",
    "    # Print the fitness values\n",
    "    for chromosome, fitness in zip(pop, fitness_values):\n",
    "        print(\"Chromosome:\", chromosome)\n",
    "        print(\"Fitness Value:\", fitness)\n",
    "        print()\n",
    "\n",
    "# Run the main function\n",
    "main()"
   ]
  },
  {
   "cell_type": "markdown",
   "id": "20b9dcfa",
   "metadata": {},
   "source": [
    "## Summary\n"
   ]
  },
  {
   "cell_type": "markdown",
   "id": "96623e49",
   "metadata": {},
   "source": [
    "# Question 2\n",
    "\n"
   ]
  },
  {
   "cell_type": "code",
   "execution_count": null,
   "id": "f6acbbca",
   "metadata": {},
   "outputs": [],
   "source": []
  },
  {
   "cell_type": "markdown",
   "id": "1c396439",
   "metadata": {},
   "source": [
    "# Question 3\n"
   ]
  },
  {
   "cell_type": "code",
   "execution_count": null,
   "id": "d5c8c09f",
   "metadata": {},
   "outputs": [],
   "source": []
  }
 ],
 "metadata": {
  "kernelspec": {
   "display_name": "Python 3",
   "language": "python",
   "name": "python3"
  },
  "language_info": {
   "codemirror_mode": {
    "name": "ipython",
    "version": 3
   },
   "file_extension": ".py",
   "mimetype": "text/x-python",
   "name": "python",
   "nbconvert_exporter": "python",
   "pygments_lexer": "ipython3",
   "version": "3.8.8"
  }
 },
 "nbformat": 4,
 "nbformat_minor": 5
}
