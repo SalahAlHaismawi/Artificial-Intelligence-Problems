{
 "cells": [
  {
   "cell_type": "markdown",
   "id": "6d81adfa",
   "metadata": {},
   "source": [
    "<img src=\"tic3151.png\" style=\"height: 70px; width: 200px\" align=left> \n",
    "<img src=\"logo-MMU.png\" style=\"height: 70px; width: 200px\" align=right> "
   ]
  },
  {
   "cell_type": "markdown",
   "id": "319a1af8",
   "metadata": {},
   "source": [
    "### Team members\n",
    "\n",
    "Ahmad Ayaan - 1191302794 \n",
    "\n",
    "Salah Fayeq y. AlHaismawi - 1201303035\n",
    "\n",
    "Aisha Sakinah Binti Saadon - 1191101867\n",
    "\n",
    "Aryssa Amanda Binti Azhar - 1191100575\n",
    "\n",
    "\n",
    "### The assignment contains following questions\n"
   ]
  },
  {
   "cell_type": "markdown",
   "id": "92e13a0d",
   "metadata": {},
   "source": [
    "# Installing Libraries\n",
    "\n",
    "##### Note: Uncomment the code the code to install the relevant libraries"
   ]
  },
  {
   "cell_type": "code",
   "execution_count": 1,
   "id": "c41f5244",
   "metadata": {},
   "outputs": [],
   "source": [
    "# pip install ortools\n",
    "# pip install pulp"
   ]
  },
  {
   "cell_type": "markdown",
   "id": "3b5d1a44",
   "metadata": {},
   "source": [
    "# Importing Libraries"
   ]
  },
  {
   "cell_type": "code",
   "execution_count": 2,
   "id": "533bec51",
   "metadata": {},
   "outputs": [],
   "source": [
    "import numpy as np\n",
    "import pandas as pd\n",
    "import matplotlib.pyplot as plt\n",
    "import random\n",
    "from ortools.sat.python import cp_model\n",
    "from tabulate import tabulate\n",
    "\n",
    "from sklearn.preprocessing import LabelEncoder\n",
    "from sklearn.model_selection import train_test_split\n",
    "from sklearn.naive_bayes import GaussianNB\n",
    "from sklearn import svm\n",
    "from sklearn.linear_model import LogisticRegression\n",
    "from sklearn.metrics import accuracy_score, precision_score, recall_score, f1_score\n",
    "from sklearn.cluster import KMeans\n",
    "\n",
    "import warnings\n",
    "warnings.filterwarnings(\"ignore\")"
   ]
  },
  {
   "cell_type": "markdown",
   "id": "8b5aef07",
   "metadata": {},
   "source": [
    "# Question 1\n",
    "\n",
    "Year-end school holiday is coming soon. A kindergarten teacher would like to give each\n",
    "of the student in her class, an amazing holiday set by November 2023. There are 25\n",
    "students in her class consisting of 15 girls and 10 boys. She has approached you for\n",
    "help and provided the following details to you:\n",
    "\n",
    "• Budget for 25 holiday sets = RM 200.00\n",
    "\n",
    "• Each holiday set must be wrapped using a sheet of paper i.e. blue wrapper for\n",
    "boy’s holiday set and pink wrapper for girl’s holiday set. Each wrapper cost\n",
    "RM1.00\n",
    "\n",
    "• Each holiday set should have at least 2 items being stationery\n",
    "\n"
   ]
  },
  {
   "cell_type": "markdown",
   "id": "733dc0af",
   "metadata": {},
   "source": [
    "## Variables Declaration"
   ]
  },
  {
   "cell_type": "code",
   "execution_count": 3,
   "id": "e82136fa",
   "metadata": {},
   "outputs": [],
   "source": [
    "# Constant variables\n",
    "budget = 200.00\n",
    "minimum_stationary_item = 2\n",
    "wrapper_cost = 1.00\n",
    "\n",
    "# List of items and their prices\n",
    "items = [\n",
    "    (\"Chipsmore Biscuit\", 2.00),\n",
    "    (\"2B pencil\", 1.00),\n",
    "    (\"Color pencil\", 3.00),\n",
    "    (\"Magic pen\", 3.00),\n",
    "    (\"Potato chip\", 2.00),\n",
    "    (\"Milo packet\", 1.00),\n",
    "    (\"Mini sketch book\", 2.00),\n",
    "    (\"Milk biscuit\", 3.00)\n",
    "]\n",
    "\n",
    "mutation_rate = 0.1\n",
    "wrapper_cost = 1 * 25  # Wrapper cost for 25 sets"
   ]
  },
  {
   "cell_type": "markdown",
   "id": "f83bcd7c",
   "metadata": {},
   "source": [
    "## Population and Individuals\n",
    "\n"
   ]
  },
  {
   "cell_type": "code",
   "execution_count": 4,
   "id": "94049811",
   "metadata": {},
   "outputs": [],
   "source": [
    "def individuals():\n",
    "    return [random.randint(0, 1) for items in range(len(items))]\n",
    "\n",
    "def generate_population(population_size):\n",
    "    return [individuals() for x in range(population_size)]"
   ]
  },
  {
   "cell_type": "markdown",
   "id": "1efd853b",
   "metadata": {},
   "source": [
    "## Fitness Function\n",
    "\n",
    "The fitness function calculates the total cost of items in a chromosome, after deducting the cost of wrappers and ensuring that atleast 2 of the items are stationery."
   ]
  },
  {
   "cell_type": "code",
   "execution_count": 5,
   "id": "81b5aea4",
   "metadata": {},
   "outputs": [],
   "source": [
    "def fitness_function(chromosome):\n",
    "    total = 0\n",
    "    num_stationery_items = 0\n",
    "    num_items = 0\n",
    "    for i, j in enumerate(chromosome):\n",
    "        if j == 1:\n",
    "            # to calculate the total cost of the items present in the set\n",
    "            total += items[i][1]\n",
    "            num_items += 1\n",
    "            # to check if the current sets have stationery\n",
    "            if items[i][0] in [\"2B pencil\", \"Color pencil\", \"Magic pen\", \"Mini sketch book\"]:\n",
    "                num_stationery_items += 1\n",
    "\n",
    "    if num_stationery_items >= 2 and (total*25) + wrapper_cost <=budget:\n",
    "         # Calculate the fitness score based on the weighted sum of total cost and number of items\n",
    "        total_score = total * num_items\n",
    "        items_score = num_items * 10\n",
    "        score = total_score + items_score\n",
    "        #print(score)\n",
    "        return score\n",
    "    else:\n",
    "        return 0 if total <= 200 else -1"
   ]
  },
  {
   "cell_type": "markdown",
   "id": "02eec99a",
   "metadata": {},
   "source": [
    "## Selection Function"
   ]
  },
  {
   "cell_type": "code",
   "execution_count": 6,
   "id": "41e07ed9",
   "metadata": {},
   "outputs": [],
   "source": [
    "\"\"\"Perform selection using roulette wheel selection.\"\"\"\n",
    "def selection_roulette_wheel(population, fitness_values):\n",
    "    total_fitness = sum(fitness_values)\n",
    "    if total_fitness == 0:\n",
    "        probabilities = [1 / len(population)] * len(population)\n",
    "    else:\n",
    "        probabilities = [fitness / total_fitness for fitness in fitness_values]\n",
    "    selected = random.choices(population, weights=probabilities, k=2)\n",
    "    return selected[0], selected[1]\n",
    "\n",
    "\n",
    "\"\"\"Perform selection using rank selection.\"\"\"\n",
    "def selection_rank(population, fitness_values):\n",
    "    ranked_population = sorted(zip(population, fitness_values), key=lambda x: x[1], reverse=True)\n",
    "    selected = []\n",
    "    while len(selected) < 2:\n",
    "        for chromosome, fitness in ranked_population:\n",
    "            if fitness > 0:  # Select only individuals with positive fitness\n",
    "                selected.append(chromosome.copy())\n",
    "                if len(selected) == 2:\n",
    "                    break\n",
    "    return selected[0], selected[1]\n"
   ]
  },
  {
   "cell_type": "markdown",
   "id": "4d900d89",
   "metadata": {},
   "source": [
    "## Crossover Function"
   ]
  },
  {
   "cell_type": "code",
   "execution_count": 7,
   "id": "45b4d9c3",
   "metadata": {},
   "outputs": [],
   "source": [
    "\"\"\"Perform crossover using single point crossover.\"\"\"\n",
    "def crossover_single_point(parent1, parent2):\n",
    "    single_point = random.randint(1, len(parent1) - 1)\n",
    "    child1 = parent1[:single_point] + parent2[single_point:]\n",
    "    child2 = parent2[:single_point] + parent1[single_point:]\n",
    "    return child1, child2\n",
    "\n",
    "\"\"\"Perform crossover using two point crossover.\"\"\"\n",
    "def crossover_two_point(parent1, parent2):\n",
    "    two_point = sorted(random.sample(range(len(parent1)), 2))\n",
    "    child1 = parent1[:two_point[0]] + parent2[two_point[0]:two_point[1]] + parent1[two_point[1]:]\n",
    "    child2 = parent2[:two_point[0]] + parent1[two_point[0]:two_point[1]] + parent2[two_point[1]:]\n",
    "    return child1, child2"
   ]
  },
  {
   "cell_type": "markdown",
   "id": "1d43729b",
   "metadata": {},
   "source": [
    "## Mutation Function"
   ]
  },
  {
   "cell_type": "code",
   "execution_count": 8,
   "id": "611864b7",
   "metadata": {},
   "outputs": [],
   "source": [
    "\"\"\"Perform inversion mutation.\"\"\"\n",
    "def mutation_inversion(chromosome):\n",
    "    start = random.randint(0, len(chromosome) - 1)\n",
    "    end = random.randint(start + 1, len(chromosome))\n",
    "    mutated_chromosome = chromosome[:start] + chromosome[start:end][::-1] + chromosome[end:]\n",
    "    return mutated_chromosome\n",
    "\n",
    "\"\"\"Perform bit flipping mutation.\"\"\"\n",
    "def mutation_bit_flip(chromosome):\n",
    "    mutated_chromosome = chromosome[:]\n",
    "    for i in range(len(mutated_chromosome)):\n",
    "        if random.random() < 0.1:  # 10% chance for bit flipping\n",
    "            mutated_chromosome[i] = 1 - mutated_chromosome[i]\n",
    "    return mutated_chromosome"
   ]
  },
  {
   "cell_type": "code",
   "execution_count": 9,
   "id": "01aeceec",
   "metadata": {},
   "outputs": [],
   "source": [
    "\"\"\"Perform mutation comparison.\"\"\"\n",
    "# Function to calculate Hamming distance between two chromosomes\n",
    "def calculate_hamming_distance(chromosome1, chromosome2):\n",
    "    return np.sum(chromosome1 != chromosome2)\n",
    "\n",
    "# Function to compare two mutation methods using Hamming distance\n",
    "def compare_mutations(population, selection_method, crossover_method, mutation_method):\n",
    "    # Lists to store Hamming distances for mutation method \n",
    "    hamming_distances = []\n",
    "    \n",
    "    for _ in range(25):\n",
    "        # Calculate fitness values for the population\n",
    "        fitness_values = [fitness_function(chromosome) for chromosome in population]\n",
    "        \n",
    "        # Select parents for crossover\n",
    "        parent1, parent2 = selection_method(population, fitness_values)\n",
    "        \n",
    "        # Perform crossover\n",
    "        offspring1, offspring2 = crossover_method(parent1, parent2)\n",
    "        \n",
    "        # Mutate offspring using mutation method 1\n",
    "        mutated_offspring1 = mutation_method(offspring1)\n",
    "        mutated_offspring2 = mutation_method(offspring2)\n",
    "        \n",
    "        # Calculate Hamming distance for mutation method 1\n",
    "        hamming_distance = calculate_hamming_distance(mutated_offspring1, mutated_offspring2)\n",
    "        hamming_distances.append(hamming_distance)\n",
    "        \n",
    "#     avg_hamming_distance = sum(hamming_distances) / len(hamming_distances)\n",
    "    \n",
    "    # Return the average Hamming distances\n",
    "    return hamming_distances"
   ]
  },
  {
   "cell_type": "markdown",
   "id": "832a7ef1",
   "metadata": {},
   "source": [
    "## Main Function"
   ]
  },
  {
   "cell_type": "code",
   "execution_count": 10,
   "id": "06547353",
   "metadata": {},
   "outputs": [],
   "source": [
    "def evolve(population, fitness_values, selection_method, crossover_method, mutation_method):\n",
    "    next_generation = []\n",
    "    while len(next_generation) < 25:\n",
    "        parent1, parent2 = selection_method(population, fitness_values)\n",
    "        offspring1, offspring2 = crossover_method(parent1, parent2)\n",
    "        next_generation.extend([offspring1, offspring2])\n",
    "        #print(next_generation)\n",
    "    num_mutations = int(0.05 * len(next_generation))  # 5% of the population\n",
    "    mutated_population = random.sample(next_generation, num_mutations)\n",
    "    for i in range(num_mutations):\n",
    "        mutated_chromosome = mutation_method(mutated_population[i])\n",
    "        next_generation[i] = mutated_chromosome\n",
    "    return next_generation[:25]"
   ]
  },
  {
   "cell_type": "code",
   "execution_count": 11,
   "id": "b5047dac",
   "metadata": {
    "scrolled": true
   },
   "outputs": [],
   "source": [
    "def main(population, selection_method, crossover_method, mutation_method):\n",
    "    # Calculate fitness values for each chromosome\n",
    "    avg_fitness_history = []\n",
    "    fitness_values = [fitness_function(chromosome) for chromosome in population]\n",
    "\n",
    "    best_fitness = float('inf')\n",
    "    best_combination = []\n",
    "\n",
    "    for generation in range(150):\n",
    "        # Select parents and perform crossover and mutation\n",
    "        population = evolve(population, fitness_values, selection_method, crossover_method, mutation_method)\n",
    "\n",
    "        # Calculate fitness values for each chromosome\n",
    "        fitness_values = [fitness_function(chromosome) for chromosome in population]\n",
    "        avg_fitness_history.append(sum(fitness_values) / len(fitness_values))\n",
    "\n",
    "       # Find the best fitness value and corresponding combination\n",
    "        best_fitness = max(fitness_values)\n",
    "    best_combination = population[fitness_values.index(best_fitness)].copy()\n",
    "\n",
    "    # Display the total combination and the content of the combination\n",
    "    print(\"Total Combination of Items: \")\n",
    "    total_combination = sum(best_combination)\n",
    "    print(total_combination)\n",
    "\n",
    "    print(\"Content of the Combination of Items:\")\n",
    "    selected_items = []\n",
    "    unit_price = 0\n",
    "    for i, item in enumerate(best_combination):\n",
    "        if item == 1:\n",
    "            item_name = items[i][0]\n",
    "            item_price = items[i][1]\n",
    "            unit_price += item_price\n",
    "            selected_items.append([item_name, item_price])\n",
    "            \n",
    "    selected_items.append(['Wrapper cost', '1'])\n",
    "    unit_price +=1\n",
    "    print(tabulate(selected_items, headers=[\"Item Name\", \"Price (RM)\"], tablefmt=\"grid\"))\n",
    "\n",
    "    print(\"Unit Price: \")\n",
    "    print(unit_price if best_fitness >= 0 else 0)\n",
    "    \n",
    "    print(\"Total Price: \")\n",
    "    print(unit_price * 25 if best_fitness >= 0 else 0)\n",
    "    \n",
    "    # Compare the two mutation methods using Hamming distance\n",
    "    hamming_distances = compare_mutations(population, selection_method, crossover_method, mutation_method)\n",
    "    \n",
    "    return best_combination, avg_fitness_history, hamming_distances"
   ]
  },
  {
   "cell_type": "markdown",
   "id": "cb6ef4f5",
   "metadata": {},
   "source": [
    "## Perfomance Assessment\n",
    "\n"
   ]
  },
  {
   "cell_type": "code",
   "execution_count": 12,
   "id": "74300149",
   "metadata": {},
   "outputs": [],
   "source": [
    "# Generate an initial population\n",
    "population = generate_population(25)"
   ]
  },
  {
   "cell_type": "code",
   "execution_count": 13,
   "id": "f9987614",
   "metadata": {
    "scrolled": true
   },
   "outputs": [
    {
     "name": "stdout",
     "output_type": "stream",
     "text": [
      "Best holiday set (Selection Method: Ranked, Crossover Method: Single Point, Mutation Method: Inversion):\n",
      "\n",
      "Total Combination of Items: \n",
      "4\n",
      "Content of the Combination of Items:\n",
      "+-------------------+--------------+\n",
      "| Item Name         |   Price (RM) |\n",
      "+===================+==============+\n",
      "| Chipsmore Biscuit |            2 |\n",
      "+-------------------+--------------+\n",
      "| 2B pencil         |            1 |\n",
      "+-------------------+--------------+\n",
      "| Potato chip       |            2 |\n",
      "+-------------------+--------------+\n",
      "| Mini sketch book  |            2 |\n",
      "+-------------------+--------------+\n",
      "| Wrapper cost      |            1 |\n",
      "+-------------------+--------------+\n",
      "Unit Price: \n",
      "8.0\n",
      "Total Price: \n",
      "200.0\n"
     ]
    }
   ],
   "source": [
    "# Test 1\n",
    "# Selection Method: Ranked\n",
    "# Crossover Method: Single Point\n",
    "# Mutation Method: Inversion\n",
    "\n",
    "print(\"Best holiday set (Selection Method: Ranked, Crossover Method: Single Point, Mutation Method: Inversion):\")\n",
    "print()\n",
    "best_holiday_set_1, avg_fitness_history_1, hamming_distances1 = main(population, selection_rank, crossover_single_point, mutation_inversion)"
   ]
  },
  {
   "cell_type": "code",
   "execution_count": 14,
   "id": "bc130cf4",
   "metadata": {},
   "outputs": [
    {
     "data": {
      "image/png": "[encoded data removed]",
      "text/plain": [
       "<Figure size 432x288 with 1 Axes>"
      ]
     },
     "metadata": {
      "needs_background": "light"
     },
     "output_type": "display_data"
    }
   ],
   "source": [
    "# Visualize the Hamming distances\n",
    "plt.plot(hamming_distances1)\n",
    "plt.xlabel('Iteration')\n",
    "plt.ylabel('Hamming Distance')\n",
    "plt.title('Hamming Distance for Mutation Method - Inversion')\n",
    "plt.show()"
   ]
  },
  {
   "cell_type": "code",
   "execution_count": 15,
   "id": "99a6fa46",
   "metadata": {},
   "outputs": [
    {
     "name": "stdout",
     "output_type": "stream",
     "text": [
      "Best holiday set (Selection Method: Roulette wheel, Crossover Method: Two Point, Mutation Method: Bit Flip):\n",
      "\n",
      "Total Combination of Items: \n",
      "4\n",
      "Content of the Combination of Items:\n",
      "+-------------------+--------------+\n",
      "| Item Name         |   Price (RM) |\n",
      "+===================+==============+\n",
      "| Chipsmore Biscuit |            2 |\n",
      "+-------------------+--------------+\n",
      "| 2B pencil         |            1 |\n",
      "+-------------------+--------------+\n",
      "| Potato chip       |            2 |\n",
      "+-------------------+--------------+\n",
      "| Mini sketch book  |            2 |\n",
      "+-------------------+--------------+\n",
      "| Wrapper cost      |            1 |\n",
      "+-------------------+--------------+\n",
      "Unit Price: \n",
      "8.0\n",
      "Total Price: \n",
      "200.0\n"
     ]
    }
   ],
   "source": [
    "# Test 1\n",
    "# Selection Method: Roulette wheel\n",
    "# Crossover Method: Two Point\n",
    "# Mutation Method: Bit Flip\n",
    "\n",
    "print(\"Best holiday set (Selection Method: Roulette wheel, Crossover Method: Two Point, Mutation Method: Bit Flip):\")\n",
    "print()\n",
    "best_holiday_set_2, avg_fitness_history_2, hamming_distances2 = main(population, selection_roulette_wheel, crossover_two_point, mutation_bit_flip)"
   ]
  },
  {
   "cell_type": "code",
   "execution_count": 16,
   "id": "ab5f7341",
   "metadata": {},
   "outputs": [
    {
     "data": {
      "image/png": "[encoded data removed]",
      "text/plain": [
       "<Figure size 432x288 with 1 Axes>"
      ]
     },
     "metadata": {
      "needs_background": "light"
     },
     "output_type": "display_data"
    }
   ],
   "source": [
    "# Visualize the Hamming distances\n",
    "plt.plot(hamming_distances2)\n",
    "plt.xlabel('Iteration')\n",
    "plt.ylabel('Hamming Distance')\n",
    "plt.title('Hamming Distance for Mutation Method - Inversion')\n",
    "plt.show()"
   ]
  },
  {
   "cell_type": "code",
   "execution_count": 17,
   "id": "4b585569",
   "metadata": {},
   "outputs": [
    {
     "data": {
      "image/png": "[encoded data removed]",
      "text/plain": [
       "<Figure size 864x432 with 2 Axes>"
      ]
     },
     "metadata": {
      "needs_background": "light"
     },
     "output_type": "display_data"
    }
   ],
   "source": [
    "# Create a figure and two subplots\n",
    "fig, (ax1, ax2) = plt.subplots(1, 2, figsize=(12, 6))\n",
    "\n",
    "# Plot for Best holiday set (Selection Method: Ranked wheel, Crossover Method: Single Point, Mutation Method: Inversion)\n",
    "x1 = range(len(avg_fitness_history_1))\n",
    "y1 = avg_fitness_history_1\n",
    "\n",
    "ax1.plot(x1, y1)\n",
    "ax1.set_title(\"Average Fitness Values per Generation \\n(Selection: Ranked, Crossover: Single Point, Mutation: Inversion)\")\n",
    "ax1.set_xlabel(\"Generation\")\n",
    "ax1.set_ylabel(\"Average Fitness Value\")\n",
    "\n",
    "# Plot for Best holiday set (Selection Method: Roulette wheel, Crossover Method: Two Point, Mutation Method: Bit Flip)\n",
    "x2 = range(len(avg_fitness_history_2))\n",
    "y2 = avg_fitness_history_2\n",
    "\n",
    "ax2.plot(x2, y2)\n",
    "ax2.set_title(\"Average Fitness Values per Generation \\n(Selection: Roulette, Crossover: Two Point, Mutation: Bit Flip)\")\n",
    "ax2.set_xlabel(\"Generation\")\n",
    "ax2.set_ylabel(\"Average Fitness Value\")\n",
    "\n",
    "plt.tight_layout(pad=2.0)  # Add more padding between subplots\n",
    "\n",
    "plt.show()\n"
   ]
  },
  {
   "cell_type": "markdown",
   "id": "5c8d0926",
   "metadata": {},
   "source": [
    "## Summary\n"
   ]
  },
  {
   "cell_type": "code",
   "execution_count": null,
   "id": "2089ee9f",
   "metadata": {},
   "outputs": [],
   "source": []
  },
  {
   "cell_type": "markdown",
   "id": "4ae8de4b",
   "metadata": {},
   "source": [
    "# Question 2\n",
    "\n"
   ]
  },
  {
   "cell_type": "markdown",
   "id": "ff368214",
   "metadata": {},
   "source": [
    "The head of village ABC plans to hold a dodol feast for four consecutive days and have \n",
    "this feast recorded live in FB as part of promoting the village to outsiders. At the end of \n",
    "the dodol feast, the dodol will be shared with villagers and visitors to village ABC. The \n",
    "process of making the dodol, a sweet delicacy, is tedious and it requires a lot of strength \n",
    "to continuously stir the big pot of dodol to avoid it from being burnt. \n",
    "\n",
    "The villagers have been divided into seven teams to stir a pot of dodol on a rotation \n",
    "basis for the next four days. The pot of dodol will be stirred by one team at one time. \n",
    "Each team will stir the pot of dodol for four hours before another team takes over the \n",
    "task of stirring the pot of dodol. Ideally, no team will stir the pot of dodol for more than \n",
    "4 hours a day so that each team gets sufficient rest before their next turn to stir the pot \n",
    "of dodol. Each team will stir the pot of dodol for at least 8 hours during the entire dodol \n",
    "feast.\n",
    "\n",
    "Formulate the problem as Constraint Satisfaction Problem"
   ]
  },
  {
   "cell_type": "markdown",
   "id": "af15f446",
   "metadata": {},
   "source": [
    "## Choice of Packages to use"
   ]
  },
  {
   "cell_type": "markdown",
   "id": "2a2c5e56",
   "metadata": {},
   "source": [
    "Initially we were set to use python constraint package to solve this problem. However we have faced some problems while dealing with that package.\n",
    "### Issues with constraint package\n",
    "- The package has barely any documentation to refer to.\n",
    "- The package is deprecated where the last version was released in 2018\n",
    "- unpredictable behavior when dealing with the logic in constraints"
   ]
  },
  {
   "cell_type": "markdown",
   "id": "6c90bd18",
   "metadata": {},
   "source": [
    "## Variable declaration"
   ]
  },
  {
   "cell_type": "code",
   "execution_count": 18,
   "id": "a86a0677",
   "metadata": {},
   "outputs": [],
   "source": [
    "# Define the teams, days, and slots\n",
    "slots = [1, 2, 3, 4, 5, 6]\n",
    "teams = [1, 2, 3, 4, 5, 6, 7]\n",
    "days = [1, 2, 3, 4]\n",
    "solution_limit = 100  # Number of solutions to print\n",
    "teams_labels = [\"Team 1\", \"Team 2\", \"Team 3\", \"Team 4\", \"Team 5\", \"Team 6\", \"Team 7\"]"
   ]
  },
  {
   "cell_type": "markdown",
   "id": "c799b415",
   "metadata": {},
   "source": [
    "## Solve Dodol Function"
   ]
  },
  {
   "cell_type": "code",
   "execution_count": 19,
   "id": "81d79c8c",
   "metadata": {},
   "outputs": [],
   "source": [
    "def solve_dodol_feast(minimum_slot):\n",
    "     # Create the CP-SAT model\n",
    "    model = cp_model.CpModel()\n",
    "\n",
    "    # Create the decision variables\n",
    "    variables = {}\n",
    "    for day in days:\n",
    "        for slot in slots:\n",
    "            for team in teams:\n",
    "                variables[(day, slot, team)] = model.NewBoolVar(f'time_{team}_{day}_{slot}')\n",
    "\n",
    "    # Constraint 1: Each team must stir the pot for at least 3 times during the feast\n",
    "    for team in teams:\n",
    "        model.Add(sum(variables[(day, slot, team)] for day in days for slot in slots) >= minimum_slot)\n",
    "\n",
    "    # Constraint 2: No team should stir the pot for more than 4 hours a day\n",
    "    for day in days:\n",
    "        for team in teams:\n",
    "            model.Add(sum(variables[(day, slot, team)] for slot in slots) <= 1) #Sum of the slots each team is working daily should be less than or equal to 1\n",
    "\n",
    "    # Constraint 3: No team should stir the pot consecutively\n",
    "    for day in days:\n",
    "        for slot in slots[1:]:\n",
    "            for team in teams:\n",
    "                model.Add(variables[(day, slot, team)] <= sum(variables[(day, slot - 1, t)] for t in teams if t != team)) #indexing over the values to make sure the sum of the previous slot is not equal to the current slot\n",
    "\n",
    "    # Constraint 4: Only one team should stir the pot in each time slot\n",
    "    for day in days:\n",
    "        for slot in slots:\n",
    "            model.Add(sum(variables[(day, slot, team)] for team in teams) == 1) #Sum of the teams working in each slot should be equal to 1\n",
    "\n",
    "    # Create the objective variable\n",
    "    objective_var = model.NewIntVar(0, len(days) * len(slots) * len(teams), 'objective') #Objective variable is the total number of team assignments\n",
    "\n",
    "    # Constraint 5: Minimize the total number of team assignments\n",
    "    model.Add(objective_var == sum(variables[(day, slot, team)] for day in days for slot in slots for team in teams)) #Sum of the team assignments should be equal to the objective variable\n",
    "\n",
    "    # Set the objective function\n",
    "    model.Minimize(objective_var) #Use the Minimize built-in function to minimize the objective variable to achieve the minimum number of team assignments\n",
    "\n",
    "    # Create the solver\n",
    "    solver = cp_model.CpSolver()\n",
    "    solver.parameters.log_search_progress = True\n",
    "    solutions_found = 0\n",
    "    all_solutions = []\n",
    "\n",
    "    while solutions_found < solution_limit: \n",
    "        status = solver.Solve(model)\n",
    "\n",
    "        # Check if a solution is found\n",
    "        if status != cp_model.OPTIMAL:\n",
    "            print(\"No feasible solution found.\")\n",
    "            break\n",
    "\n",
    "        # Extract the solution\n",
    "        solution = {}\n",
    "        for day in days:\n",
    "            for slot in slots:\n",
    "                for team in teams:\n",
    "                    if solver.BooleanValue(variables[(day, slot, team)]):\n",
    "                        solution[(day, slot)] = team\n",
    "\n",
    "        all_solutions.append(solution)\n",
    "        solutions_found += 1\n",
    "\n",
    "        # Add a new constraint to prevent finding the same solution again\n",
    "        model.Add(sum(variables[(day, slot, team)] for day in days for slot in slots for team in teams\n",
    "                      if solution.get((day, slot)) == team) <= len(solution) - 1)\n",
    "\n",
    "    return all_solutions"
   ]
  },
  {
   "cell_type": "markdown",
   "id": "7ca10397",
   "metadata": {},
   "source": [
    "## Main Functions"
   ]
  },
  {
   "cell_type": "code",
   "execution_count": 20,
   "id": "464ecaae",
   "metadata": {},
   "outputs": [
    {
     "name": "stdout",
     "output_type": "stream",
     "text": [
      "Sample Schedule:\n",
      "+-------+---------------+---------------+---------------+---------------+---------------+---------------+\n",
      "|       | Time Slot 1   | Time Slot 2   | Time Slot 3   | Time Slot 4   | Time Slot 5   | Time Slot 6   |\n",
      "+=======+===============+===============+===============+===============+===============+===============+\n",
      "| Day 1 | Team 7        | Team 6        | Team 5        | Team 3        | Team 2        | Team 1        |\n",
      "+-------+---------------+---------------+---------------+---------------+---------------+---------------+\n",
      "| Day 2 | Team 7        | Team 5        | Team 4        | Team 3        | Team 2        | Team 1        |\n",
      "+-------+---------------+---------------+---------------+---------------+---------------+---------------+\n",
      "| Day 3 | Team 6        | Team 5        | Team 4        | Team 3        | Team 2        | Team 1        |\n",
      "+-------+---------------+---------------+---------------+---------------+---------------+---------------+\n",
      "| Day 4 | Team 7        | Team 5        | Team 4        | Team 3        | Team 2        | Team 1        |\n",
      "+-------+---------------+---------------+---------------+---------------+---------------+---------------+\n",
      "\n"
     ]
    }
   ],
   "source": [
    "# Solve the dodol feast problem and get all possible schedules\n",
    "all_solutions_1 = solve_dodol_feast(2)\n",
    "\n",
    "if all_solutions_1:\n",
    "    solution_idx = 0  # Index of the solution to print (99 for the first solution)\n",
    "    solution = all_solutions_1[solution_idx]\n",
    "    print(f\"Sample Schedule:\")\n",
    "    table = []\n",
    "    for day in days:\n",
    "        row = [f\"Day {day}\"]\n",
    "        for slot in slots:\n",
    "            team = solution.get((day, slot), \"-\")\n",
    "            row.append(f\"Team {team}\")\n",
    "        table.append(row)\n",
    "    headers = [\"\"] + [f\"Time Slot {slot}\" for slot in slots]\n",
    "    print(tabulate(table, headers=headers, showindex=False, tablefmt=\"grid\"))\n",
    "    print()\n",
    "else:\n",
    "    print(\"No feasible solution found.\")\n"
   ]
  },
  {
   "cell_type": "code",
   "execution_count": 21,
   "id": "31351186",
   "metadata": {},
   "outputs": [
    {
     "name": "stdout",
     "output_type": "stream",
     "text": [
      " Sample Schedule:\n",
      "+-------+---------------+---------------+---------------+---------------+---------------+---------------+\n",
      "|       | Time Slot 1   | Time Slot 2   | Time Slot 3   | Time Slot 4   | Time Slot 5   | Time Slot 6   |\n",
      "+=======+===============+===============+===============+===============+===============+===============+\n",
      "| Day 1 | Team 6        | Team 5        | Team 2        | Team 4        | Team 1        | Team 7        |\n",
      "+-------+---------------+---------------+---------------+---------------+---------------+---------------+\n",
      "| Day 2 | Team 7        | Team 6        | Team 4        | Team 3        | Team 2        | Team 1        |\n",
      "+-------+---------------+---------------+---------------+---------------+---------------+---------------+\n",
      "| Day 3 | Team 6        | Team 5        | Team 4        | Team 3        | Team 2        | Team 1        |\n",
      "+-------+---------------+---------------+---------------+---------------+---------------+---------------+\n",
      "| Day 4 | Team 7        | Team 5        | Team 4        | Team 3        | Team 2        | Team 1        |\n",
      "+-------+---------------+---------------+---------------+---------------+---------------+---------------+\n",
      "\n"
     ]
    }
   ],
   "source": [
    "# Solve the dodol feast problem and get all possible schedules\n",
    "all_solutions_2 = solve_dodol_feast(3)\n",
    "\n",
    "if all_solutions_2:\n",
    "    solution_idx = 0  # Index of the solution to print (0 for the first solution)\n",
    "    solution = all_solutions_2[solution_idx]\n",
    "    print(f\" Sample Schedule:\")\n",
    "    table = []\n",
    "    for day in days:\n",
    "        row = [f\"Day {day}\"]\n",
    "        for slot in slots:\n",
    "            team = solution.get((day, slot), \"-\")\n",
    "            row.append(f\"Team {team}\")\n",
    "        table.append(row)\n",
    "    headers = [\"\"] + [f\"Time Slot {slot}\" for slot in slots]\n",
    "    print(tabulate(table, headers=headers, showindex=False, tablefmt=\"grid\"))\n",
    "    print()\n",
    "else:\n",
    "    print(\"No feasible solution found.\")\n"
   ]
  },
  {
   "cell_type": "markdown",
   "id": "5615b02b",
   "metadata": {},
   "source": [
    "## Visualise to show the constrast"
   ]
  },
  {
   "cell_type": "code",
   "execution_count": 22,
   "id": "75a51cf5",
   "metadata": {},
   "outputs": [
    {
     "data": {
      "image/png": "[encoded data removed]",
      "text/plain": [
       "<Figure size 864x288 with 2 Axes>"
      ]
     },
     "metadata": {
      "needs_background": "light"
     },
     "output_type": "display_data"
    }
   ],
   "source": [
    "# Calculate the average number of slots worked for each team (First Solution)\n",
    "team_slots_1 = {team: 0 for team in teams}\n",
    "for solution in all_solutions_1:\n",
    "    for team in teams:\n",
    "        team_slots_1[team] += sum(1 for day in days for slot in slots if solution.get((day, slot)) == team)\n",
    "\n",
    "average_slots_1 = {team: slots / len(all_solutions_1) for team, slots in team_slots_1.items()}\n",
    "\n",
    "# Calculate the average number of slots worked for each team (Second Solution)\n",
    "team_slots_2 = {team: 0 for team in teams}\n",
    "for solution in all_solutions_2:\n",
    "    for team in teams:\n",
    "        team_slots_2[team] += sum(1 for day in days for slot in slots if solution.get((day, slot)) == team)\n",
    "\n",
    "average_slots_2 = {team: slots / len(all_solutions_2) for team, slots in team_slots_2.items()}\n",
    "\n",
    "# Set up the subplots\n",
    "fig, axes = plt.subplots(1, 2, figsize=(12, 4))\n",
    "\n",
    "# Plot the first solution\n",
    "axes[0].bar(teams_labels, [average_slots_1[team] for team in teams])\n",
    "axes[0].set_xlabel('Team')\n",
    "axes[0].set_ylabel('Average Slots Worked')\n",
    "axes[0].set_title('Average Number of Slots Worked for Each Team (First Solution)')\n",
    "\n",
    "# Plot the second solution\n",
    "axes[1].bar(teams_labels, [average_slots_2[team] for team in teams])\n",
    "axes[1].set_xlabel('Team')\n",
    "axes[1].set_ylabel('Average Slots Worked')\n",
    "axes[1].set_title('Average Number of Slots Worked for Each Team (Second Solution)')\n",
    "\n",
    "# Adjust the spacing between subplots\n",
    "plt.tight_layout()\n",
    "\n",
    "# Display the plot\n",
    "plt.show()"
   ]
  },
  {
   "cell_type": "markdown",
   "id": "83b216a3",
   "metadata": {},
   "source": [
    "# Ranking Criteria: Inclusion\n",
    "\n",
    "In a scheduling problem, one crucial criterion to measure the quality of a solution is inclusivity. A higher-quality solution is determined by ensuring that all teams participate equally, with minimal time differences.\n",
    "\n",
    "## Conventional Method, with unoptimized paremeters\n",
    "When initially approaching the problem, we followed the given instructions, which stated that each team should participate for a minimum of 8 hours throughout the entire feast. This approach, as shown in Figure 1, resulted in a semi-optimal solution where each team participated as equally as possible. However, we realized that the solution could be further optimized to better meet our criteria.\n",
    "\n",
    "## Conventional Method, with optimized paremeters\n",
    "By making a slight modification to the problem parameters, we were able to achieve improved results in terms of equal participation for each team. We raised the minimum working hours for the entire feast from 8 to 12. As depicted in Figure 2, we can observe that the disparity between the hours worked by each team is more evenly distributed.\n",
    "\n",
    "### Justification for optimizing the parameters\n",
    "The justification for optimizing the parameters lies in our understanding of the variables involved and calculating the most optimal minimum working hours for each team to promote better inclusion. A slot in our scheduling system represents a 4-hour time interval. Therefore, a day contains 6 slots, and the entire feast comprises 24 slots. If we divide these 24 slots equally among the 7 teams, we would get 24 / 7 = 3.428 slots per team. Since we are working with 4-hour slots, rounding this value to the nearest integer results in 3 slots. Consequently, allocating 3 slots (12 hours) to each team would achieve better inclusivity."
   ]
  },
  {
   "cell_type": "markdown",
   "id": "e7cce1d3",
   "metadata": {},
   "source": [
    "## Summary\n",
    "\n",
    "The Dodle Feast problem is a scheduling constraint satisfaction problem, so in order to maximise performance and accuracy, it is necessary to assess the problem description and choose the ideal library. We carefully created constraints based on a thorough understanding of the variables involved to align our code with the issue. Through investigation, we discovered a chance for further optimisation: raising the minimum work hours from eight to twelve hours. By making this change, we hoped to improve inclusion within teams. We used charts to compare the initial and optimised solutions visually, demonstrating that the latter was superior in terms of inclusion. In conclusion, understanding variables, exact constraint formulation, analysis for optimisation, and visual appraisal of solutions were all necessary to solve the Dodle Feast problem, which finally led to a more comprehensive scheduling solution."
   ]
  },
  {
   "cell_type": "markdown",
   "id": "ca7d9ecf",
   "metadata": {},
   "source": [
    "# Question 3\n"
   ]
  },
  {
   "cell_type": "markdown",
   "id": "65f3b789",
   "metadata": {},
   "source": [
    "As an expert in data analytics, you are hired to analyse sports data. Given the NBA \n",
    "datasets, build TWO classification and ONE cluster analysis programs in Python.\n",
    "\n",
    "You are allowed to add ONE additional and relevant data as supplementary data to assist \n",
    "you to do further analysis but the given datasets will serve as main dataset for analysis."
   ]
  },
  {
   "cell_type": "markdown",
   "id": "f837101f",
   "metadata": {},
   "source": [
    "## Part 1: Data Cleaning"
   ]
  },
  {
   "cell_type": "markdown",
   "id": "757d75d8",
   "metadata": {},
   "source": [
    "## Player List Dataset"
   ]
  },
  {
   "cell_type": "markdown",
   "id": "612eb8dc",
   "metadata": {},
   "source": [
    "### Import dataset"
   ]
  },
  {
   "cell_type": "code",
   "execution_count": 23,
   "id": "0e0dd822",
   "metadata": {},
   "outputs": [
    {
     "ename": "FileNotFoundError",
     "evalue": "[Errno 2] No such file or directory: 'Question-3-Dataset/NBA-playerlist.csv'",
     "output_type": "error",
     "traceback": [
      "\u001b[1;31m---------------------------------------------------------------------------\u001b[0m",
      "\u001b[1;31mFileNotFoundError\u001b[0m                         Traceback (most recent call last)",
      "Input \u001b[1;32mIn [23]\u001b[0m, in \u001b[0;36m<module>\u001b[1;34m\u001b[0m\n\u001b[0;32m      1\u001b[0m \u001b[38;5;66;03m# Load data\u001b[39;00m\n\u001b[1;32m----> 2\u001b[0m playerlist \u001b[38;5;241m=\u001b[39m \u001b[43mpd\u001b[49m\u001b[38;5;241;43m.\u001b[39;49m\u001b[43mread_csv\u001b[49m\u001b[43m(\u001b[49m\u001b[38;5;124;43m\"\u001b[39;49m\u001b[38;5;124;43mQuestion-3-Dataset/NBA-playerlist.csv\u001b[39;49m\u001b[38;5;124;43m\"\u001b[39;49m\u001b[43m)\u001b[49m\n\u001b[0;32m      3\u001b[0m playerlist\n",
      "File \u001b[1;32mC:\\Python310\\lib\\site-packages\\pandas\\util\\_decorators.py:311\u001b[0m, in \u001b[0;36mdeprecate_nonkeyword_arguments.<locals>.decorate.<locals>.wrapper\u001b[1;34m(*args, **kwargs)\u001b[0m\n\u001b[0;32m    305\u001b[0m \u001b[38;5;28;01mif\u001b[39;00m \u001b[38;5;28mlen\u001b[39m(args) \u001b[38;5;241m>\u001b[39m num_allow_args:\n\u001b[0;32m    306\u001b[0m     warnings\u001b[38;5;241m.\u001b[39mwarn(\n\u001b[0;32m    307\u001b[0m         msg\u001b[38;5;241m.\u001b[39mformat(arguments\u001b[38;5;241m=\u001b[39marguments),\n\u001b[0;32m    308\u001b[0m         \u001b[38;5;167;01mFutureWarning\u001b[39;00m,\n\u001b[0;32m    309\u001b[0m         stacklevel\u001b[38;5;241m=\u001b[39mstacklevel,\n\u001b[0;32m    310\u001b[0m     )\n\u001b[1;32m--> 311\u001b[0m \u001b[38;5;28;01mreturn\u001b[39;00m func(\u001b[38;5;241m*\u001b[39margs, \u001b[38;5;241m*\u001b[39m\u001b[38;5;241m*\u001b[39mkwargs)\n",
      "File \u001b[1;32mC:\\Python310\\lib\\site-packages\\pandas\\io\\parsers\\readers.py:586\u001b[0m, in \u001b[0;36mread_csv\u001b[1;34m(filepath_or_buffer, sep, delimiter, header, names, index_col, usecols, squeeze, prefix, mangle_dupe_cols, dtype, engine, converters, true_values, false_values, skipinitialspace, skiprows, skipfooter, nrows, na_values, keep_default_na, na_filter, verbose, skip_blank_lines, parse_dates, infer_datetime_format, keep_date_col, date_parser, dayfirst, cache_dates, iterator, chunksize, compression, thousands, decimal, lineterminator, quotechar, quoting, doublequote, escapechar, comment, encoding, encoding_errors, dialect, error_bad_lines, warn_bad_lines, on_bad_lines, delim_whitespace, low_memory, memory_map, float_precision, storage_options)\u001b[0m\n\u001b[0;32m    571\u001b[0m kwds_defaults \u001b[38;5;241m=\u001b[39m _refine_defaults_read(\n\u001b[0;32m    572\u001b[0m     dialect,\n\u001b[0;32m    573\u001b[0m     delimiter,\n\u001b[1;32m   (...)\u001b[0m\n\u001b[0;32m    582\u001b[0m     defaults\u001b[38;5;241m=\u001b[39m{\u001b[38;5;124m\"\u001b[39m\u001b[38;5;124mdelimiter\u001b[39m\u001b[38;5;124m\"\u001b[39m: \u001b[38;5;124m\"\u001b[39m\u001b[38;5;124m,\u001b[39m\u001b[38;5;124m\"\u001b[39m},\n\u001b[0;32m    583\u001b[0m )\n\u001b[0;32m    584\u001b[0m kwds\u001b[38;5;241m.\u001b[39mupdate(kwds_defaults)\n\u001b[1;32m--> 586\u001b[0m \u001b[38;5;28;01mreturn\u001b[39;00m \u001b[43m_read\u001b[49m\u001b[43m(\u001b[49m\u001b[43mfilepath_or_buffer\u001b[49m\u001b[43m,\u001b[49m\u001b[43m \u001b[49m\u001b[43mkwds\u001b[49m\u001b[43m)\u001b[49m\n",
      "File \u001b[1;32mC:\\Python310\\lib\\site-packages\\pandas\\io\\parsers\\readers.py:482\u001b[0m, in \u001b[0;36m_read\u001b[1;34m(filepath_or_buffer, kwds)\u001b[0m\n\u001b[0;32m    479\u001b[0m _validate_names(kwds\u001b[38;5;241m.\u001b[39mget(\u001b[38;5;124m\"\u001b[39m\u001b[38;5;124mnames\u001b[39m\u001b[38;5;124m\"\u001b[39m, \u001b[38;5;28;01mNone\u001b[39;00m))\n\u001b[0;32m    481\u001b[0m \u001b[38;5;66;03m# Create the parser.\u001b[39;00m\n\u001b[1;32m--> 482\u001b[0m parser \u001b[38;5;241m=\u001b[39m TextFileReader(filepath_or_buffer, \u001b[38;5;241m*\u001b[39m\u001b[38;5;241m*\u001b[39mkwds)\n\u001b[0;32m    484\u001b[0m \u001b[38;5;28;01mif\u001b[39;00m chunksize \u001b[38;5;129;01mor\u001b[39;00m iterator:\n\u001b[0;32m    485\u001b[0m     \u001b[38;5;28;01mreturn\u001b[39;00m parser\n",
      "File \u001b[1;32mC:\\Python310\\lib\\site-packages\\pandas\\io\\parsers\\readers.py:811\u001b[0m, in \u001b[0;36mTextFileReader.__init__\u001b[1;34m(self, f, engine, **kwds)\u001b[0m\n\u001b[0;32m    808\u001b[0m \u001b[38;5;28;01mif\u001b[39;00m \u001b[38;5;124m\"\u001b[39m\u001b[38;5;124mhas_index_names\u001b[39m\u001b[38;5;124m\"\u001b[39m \u001b[38;5;129;01min\u001b[39;00m kwds:\n\u001b[0;32m    809\u001b[0m     \u001b[38;5;28mself\u001b[39m\u001b[38;5;241m.\u001b[39moptions[\u001b[38;5;124m\"\u001b[39m\u001b[38;5;124mhas_index_names\u001b[39m\u001b[38;5;124m\"\u001b[39m] \u001b[38;5;241m=\u001b[39m kwds[\u001b[38;5;124m\"\u001b[39m\u001b[38;5;124mhas_index_names\u001b[39m\u001b[38;5;124m\"\u001b[39m]\n\u001b[1;32m--> 811\u001b[0m \u001b[38;5;28mself\u001b[39m\u001b[38;5;241m.\u001b[39m_engine \u001b[38;5;241m=\u001b[39m \u001b[38;5;28;43mself\u001b[39;49m\u001b[38;5;241;43m.\u001b[39;49m\u001b[43m_make_engine\u001b[49m\u001b[43m(\u001b[49m\u001b[38;5;28;43mself\u001b[39;49m\u001b[38;5;241;43m.\u001b[39;49m\u001b[43mengine\u001b[49m\u001b[43m)\u001b[49m\n",
      "File \u001b[1;32mC:\\Python310\\lib\\site-packages\\pandas\\io\\parsers\\readers.py:1040\u001b[0m, in \u001b[0;36mTextFileReader._make_engine\u001b[1;34m(self, engine)\u001b[0m\n\u001b[0;32m   1036\u001b[0m     \u001b[38;5;28;01mraise\u001b[39;00m \u001b[38;5;167;01mValueError\u001b[39;00m(\n\u001b[0;32m   1037\u001b[0m         \u001b[38;5;124mf\u001b[39m\u001b[38;5;124m\"\u001b[39m\u001b[38;5;124mUnknown engine: \u001b[39m\u001b[38;5;132;01m{\u001b[39;00mengine\u001b[38;5;132;01m}\u001b[39;00m\u001b[38;5;124m (valid options are \u001b[39m\u001b[38;5;132;01m{\u001b[39;00mmapping\u001b[38;5;241m.\u001b[39mkeys()\u001b[38;5;132;01m}\u001b[39;00m\u001b[38;5;124m)\u001b[39m\u001b[38;5;124m\"\u001b[39m\n\u001b[0;32m   1038\u001b[0m     )\n\u001b[0;32m   1039\u001b[0m \u001b[38;5;66;03m# error: Too many arguments for \"ParserBase\"\u001b[39;00m\n\u001b[1;32m-> 1040\u001b[0m \u001b[38;5;28;01mreturn\u001b[39;00m mapping[engine](\u001b[38;5;28mself\u001b[39m\u001b[38;5;241m.\u001b[39mf, \u001b[38;5;241m*\u001b[39m\u001b[38;5;241m*\u001b[39m\u001b[38;5;28mself\u001b[39m\u001b[38;5;241m.\u001b[39moptions)\n",
      "File \u001b[1;32mC:\\Python310\\lib\\site-packages\\pandas\\io\\parsers\\c_parser_wrapper.py:51\u001b[0m, in \u001b[0;36mCParserWrapper.__init__\u001b[1;34m(self, src, **kwds)\u001b[0m\n\u001b[0;32m     48\u001b[0m kwds[\u001b[38;5;124m\"\u001b[39m\u001b[38;5;124musecols\u001b[39m\u001b[38;5;124m\"\u001b[39m] \u001b[38;5;241m=\u001b[39m \u001b[38;5;28mself\u001b[39m\u001b[38;5;241m.\u001b[39musecols\n\u001b[0;32m     50\u001b[0m \u001b[38;5;66;03m# open handles\u001b[39;00m\n\u001b[1;32m---> 51\u001b[0m \u001b[38;5;28;43mself\u001b[39;49m\u001b[38;5;241;43m.\u001b[39;49m\u001b[43m_open_handles\u001b[49m\u001b[43m(\u001b[49m\u001b[43msrc\u001b[49m\u001b[43m,\u001b[49m\u001b[43m \u001b[49m\u001b[43mkwds\u001b[49m\u001b[43m)\u001b[49m\n\u001b[0;32m     52\u001b[0m \u001b[38;5;28;01massert\u001b[39;00m \u001b[38;5;28mself\u001b[39m\u001b[38;5;241m.\u001b[39mhandles \u001b[38;5;129;01mis\u001b[39;00m \u001b[38;5;129;01mnot\u001b[39;00m \u001b[38;5;28;01mNone\u001b[39;00m\n\u001b[0;32m     54\u001b[0m \u001b[38;5;66;03m# Have to pass int, would break tests using TextReader directly otherwise :(\u001b[39;00m\n",
      "File \u001b[1;32mC:\\Python310\\lib\\site-packages\\pandas\\io\\parsers\\base_parser.py:222\u001b[0m, in \u001b[0;36mParserBase._open_handles\u001b[1;34m(self, src, kwds)\u001b[0m\n\u001b[0;32m    218\u001b[0m \u001b[38;5;28;01mdef\u001b[39;00m \u001b[38;5;21m_open_handles\u001b[39m(\u001b[38;5;28mself\u001b[39m, src: FilePathOrBuffer, kwds: \u001b[38;5;28mdict\u001b[39m[\u001b[38;5;28mstr\u001b[39m, Any]) \u001b[38;5;241m-\u001b[39m\u001b[38;5;241m>\u001b[39m \u001b[38;5;28;01mNone\u001b[39;00m:\n\u001b[0;32m    219\u001b[0m     \u001b[38;5;124;03m\"\"\"\u001b[39;00m\n\u001b[0;32m    220\u001b[0m \u001b[38;5;124;03m    Let the readers open IOHandles after they are done with their potential raises.\u001b[39;00m\n\u001b[0;32m    221\u001b[0m \u001b[38;5;124;03m    \"\"\"\u001b[39;00m\n\u001b[1;32m--> 222\u001b[0m     \u001b[38;5;28mself\u001b[39m\u001b[38;5;241m.\u001b[39mhandles \u001b[38;5;241m=\u001b[39m \u001b[43mget_handle\u001b[49m\u001b[43m(\u001b[49m\n\u001b[0;32m    223\u001b[0m \u001b[43m        \u001b[49m\u001b[43msrc\u001b[49m\u001b[43m,\u001b[49m\n\u001b[0;32m    224\u001b[0m \u001b[43m        \u001b[49m\u001b[38;5;124;43m\"\u001b[39;49m\u001b[38;5;124;43mr\u001b[39;49m\u001b[38;5;124;43m\"\u001b[39;49m\u001b[43m,\u001b[49m\n\u001b[0;32m    225\u001b[0m \u001b[43m        \u001b[49m\u001b[43mencoding\u001b[49m\u001b[38;5;241;43m=\u001b[39;49m\u001b[43mkwds\u001b[49m\u001b[38;5;241;43m.\u001b[39;49m\u001b[43mget\u001b[49m\u001b[43m(\u001b[49m\u001b[38;5;124;43m\"\u001b[39;49m\u001b[38;5;124;43mencoding\u001b[39;49m\u001b[38;5;124;43m\"\u001b[39;49m\u001b[43m,\u001b[49m\u001b[43m \u001b[49m\u001b[38;5;28;43;01mNone\u001b[39;49;00m\u001b[43m)\u001b[49m\u001b[43m,\u001b[49m\n\u001b[0;32m    226\u001b[0m \u001b[43m        \u001b[49m\u001b[43mcompression\u001b[49m\u001b[38;5;241;43m=\u001b[39;49m\u001b[43mkwds\u001b[49m\u001b[38;5;241;43m.\u001b[39;49m\u001b[43mget\u001b[49m\u001b[43m(\u001b[49m\u001b[38;5;124;43m\"\u001b[39;49m\u001b[38;5;124;43mcompression\u001b[39;49m\u001b[38;5;124;43m\"\u001b[39;49m\u001b[43m,\u001b[49m\u001b[43m \u001b[49m\u001b[38;5;28;43;01mNone\u001b[39;49;00m\u001b[43m)\u001b[49m\u001b[43m,\u001b[49m\n\u001b[0;32m    227\u001b[0m \u001b[43m        \u001b[49m\u001b[43mmemory_map\u001b[49m\u001b[38;5;241;43m=\u001b[39;49m\u001b[43mkwds\u001b[49m\u001b[38;5;241;43m.\u001b[39;49m\u001b[43mget\u001b[49m\u001b[43m(\u001b[49m\u001b[38;5;124;43m\"\u001b[39;49m\u001b[38;5;124;43mmemory_map\u001b[39;49m\u001b[38;5;124;43m\"\u001b[39;49m\u001b[43m,\u001b[49m\u001b[43m \u001b[49m\u001b[38;5;28;43;01mFalse\u001b[39;49;00m\u001b[43m)\u001b[49m\u001b[43m,\u001b[49m\n\u001b[0;32m    228\u001b[0m \u001b[43m        \u001b[49m\u001b[43mstorage_options\u001b[49m\u001b[38;5;241;43m=\u001b[39;49m\u001b[43mkwds\u001b[49m\u001b[38;5;241;43m.\u001b[39;49m\u001b[43mget\u001b[49m\u001b[43m(\u001b[49m\u001b[38;5;124;43m\"\u001b[39;49m\u001b[38;5;124;43mstorage_options\u001b[39;49m\u001b[38;5;124;43m\"\u001b[39;49m\u001b[43m,\u001b[49m\u001b[43m \u001b[49m\u001b[38;5;28;43;01mNone\u001b[39;49;00m\u001b[43m)\u001b[49m\u001b[43m,\u001b[49m\n\u001b[0;32m    229\u001b[0m \u001b[43m        \u001b[49m\u001b[43merrors\u001b[49m\u001b[38;5;241;43m=\u001b[39;49m\u001b[43mkwds\u001b[49m\u001b[38;5;241;43m.\u001b[39;49m\u001b[43mget\u001b[49m\u001b[43m(\u001b[49m\u001b[38;5;124;43m\"\u001b[39;49m\u001b[38;5;124;43mencoding_errors\u001b[39;49m\u001b[38;5;124;43m\"\u001b[39;49m\u001b[43m,\u001b[49m\u001b[43m \u001b[49m\u001b[38;5;124;43m\"\u001b[39;49m\u001b[38;5;124;43mstrict\u001b[39;49m\u001b[38;5;124;43m\"\u001b[39;49m\u001b[43m)\u001b[49m\u001b[43m,\u001b[49m\n\u001b[0;32m    230\u001b[0m \u001b[43m    \u001b[49m\u001b[43m)\u001b[49m\n",
      "File \u001b[1;32mC:\\Python310\\lib\\site-packages\\pandas\\io\\common.py:702\u001b[0m, in \u001b[0;36mget_handle\u001b[1;34m(path_or_buf, mode, encoding, compression, memory_map, is_text, errors, storage_options)\u001b[0m\n\u001b[0;32m    697\u001b[0m \u001b[38;5;28;01melif\u001b[39;00m \u001b[38;5;28misinstance\u001b[39m(handle, \u001b[38;5;28mstr\u001b[39m):\n\u001b[0;32m    698\u001b[0m     \u001b[38;5;66;03m# Check whether the filename is to be opened in binary mode.\u001b[39;00m\n\u001b[0;32m    699\u001b[0m     \u001b[38;5;66;03m# Binary mode does not support 'encoding' and 'newline'.\u001b[39;00m\n\u001b[0;32m    700\u001b[0m     \u001b[38;5;28;01mif\u001b[39;00m ioargs\u001b[38;5;241m.\u001b[39mencoding \u001b[38;5;129;01mand\u001b[39;00m \u001b[38;5;124m\"\u001b[39m\u001b[38;5;124mb\u001b[39m\u001b[38;5;124m\"\u001b[39m \u001b[38;5;129;01mnot\u001b[39;00m \u001b[38;5;129;01min\u001b[39;00m ioargs\u001b[38;5;241m.\u001b[39mmode:\n\u001b[0;32m    701\u001b[0m         \u001b[38;5;66;03m# Encoding\u001b[39;00m\n\u001b[1;32m--> 702\u001b[0m         handle \u001b[38;5;241m=\u001b[39m \u001b[38;5;28;43mopen\u001b[39;49m\u001b[43m(\u001b[49m\n\u001b[0;32m    703\u001b[0m \u001b[43m            \u001b[49m\u001b[43mhandle\u001b[49m\u001b[43m,\u001b[49m\n\u001b[0;32m    704\u001b[0m \u001b[43m            \u001b[49m\u001b[43mioargs\u001b[49m\u001b[38;5;241;43m.\u001b[39;49m\u001b[43mmode\u001b[49m\u001b[43m,\u001b[49m\n\u001b[0;32m    705\u001b[0m \u001b[43m            \u001b[49m\u001b[43mencoding\u001b[49m\u001b[38;5;241;43m=\u001b[39;49m\u001b[43mioargs\u001b[49m\u001b[38;5;241;43m.\u001b[39;49m\u001b[43mencoding\u001b[49m\u001b[43m,\u001b[49m\n\u001b[0;32m    706\u001b[0m \u001b[43m            \u001b[49m\u001b[43merrors\u001b[49m\u001b[38;5;241;43m=\u001b[39;49m\u001b[43merrors\u001b[49m\u001b[43m,\u001b[49m\n\u001b[0;32m    707\u001b[0m \u001b[43m            \u001b[49m\u001b[43mnewline\u001b[49m\u001b[38;5;241;43m=\u001b[39;49m\u001b[38;5;124;43m\"\u001b[39;49m\u001b[38;5;124;43m\"\u001b[39;49m\u001b[43m,\u001b[49m\n\u001b[0;32m    708\u001b[0m \u001b[43m        \u001b[49m\u001b[43m)\u001b[49m\n\u001b[0;32m    709\u001b[0m     \u001b[38;5;28;01melse\u001b[39;00m:\n\u001b[0;32m    710\u001b[0m         \u001b[38;5;66;03m# Binary mode\u001b[39;00m\n\u001b[0;32m    711\u001b[0m         handle \u001b[38;5;241m=\u001b[39m \u001b[38;5;28mopen\u001b[39m(handle, ioargs\u001b[38;5;241m.\u001b[39mmode)\n",
      "\u001b[1;31mFileNotFoundError\u001b[0m: [Errno 2] No such file or directory: 'Question-3-Dataset/NBA-playerlist.csv'"
     ]
    }
   ],
   "source": [
    "# Load data\n",
    "playerlist = pd.read_csv(\"Question-3-Dataset/NBA-playerlist.csv\")\n",
    "playerlist "
   ]
  },
  {
   "cell_type": "code",
   "execution_count": null,
   "id": "36767170",
   "metadata": {},
   "outputs": [],
   "source": [
    "# Drop unnecessary columns\n",
    "playerlist = playerlist.drop(['Unnamed: 0', 'DISPLAY_LAST_COMMA_FIRST'], axis=1)\n",
    "playerlist = playerlist.rename(columns={'DISPLAY_FIRST_LAST': 'PLAYER_NAME'})\n",
    "\n",
    "# Rearrange the columns\n",
    "person_id_col = playerlist.pop('PERSON_ID')  # Remove 'PERSON_ID' column from DataFrame\n",
    "playerlist.insert(0, 'PERSON_ID', person_id_col)  # Insert 'PERSON_ID' column at the front\n",
    "\n",
    "# Display data\n",
    "playerlist"
   ]
  },
  {
   "cell_type": "code",
   "execution_count": null,
   "id": "0ed4c59a",
   "metadata": {},
   "outputs": [],
   "source": [
    "# Check data types\n",
    "playerlist.dtypes"
   ]
  },
  {
   "cell_type": "markdown",
   "id": "14e7111b",
   "metadata": {},
   "source": [
    "### Handle duplicates and missing values"
   ]
  },
  {
   "cell_type": "code",
   "execution_count": null,
   "id": "efdef4f4",
   "metadata": {},
   "outputs": [],
   "source": [
    "def check_duplicates(data):\n",
    "    duplicate_rows = data[data.duplicated()]\n",
    "    print(\"Duplicate Rows:\", len(duplicate_rows))\n",
    "    \n",
    "    if len(duplicate_rows) > 0:\n",
    "        data.drop_duplicates(inplace=True)\n",
    "        print(\"Duplicate rows dropped.\")\n",
    "        \n",
    "def check_missing_values(data):\n",
    "    has_missing_values = False  # Flag variable\n",
    "\n",
    "    for column in data.columns:\n",
    "        null_val = data[column].isna().sum()\n",
    "        total_data = len(data[column])\n",
    "\n",
    "        if null_val > 0:\n",
    "            print(column, \":\", null_val, \"out of\", total_data)\n",
    "            has_missing_values = True  # Set the flag to True if missing values are found\n",
    "\n",
    "    # Print \"No missing values\" if no missing values were found\n",
    "    if not has_missing_values:\n",
    "        print(\"No missing values.\")"
   ]
  },
  {
   "cell_type": "code",
   "execution_count": null,
   "id": "8132f836",
   "metadata": {},
   "outputs": [],
   "source": [
    "# Check duplicte data\n",
    "check_duplicates(playerlist)\n",
    "print()\n",
    "\n",
    "# Check missing value\n",
    "print(\"Missing values =======================\")\n",
    "check_missing_values(playerlist)\n",
    "\n",
    "# Check TEAM_ID with 0 as value:\n",
    "total_null = len(playerlist[playerlist['TEAM_ID'] == 0])\n",
    "total_data = len(playerlist['TEAM_ID'])\n",
    "print('TEAM_ID : ', total_null, \"out of\", total_data)\n",
    "\n",
    "# Replace TEAM_ID with 0 as value to \"-\"\n",
    "playerlist['TEAM_ID'] = playerlist['TEAM_ID'].replace(0, '-')"
   ]
  },
  {
   "cell_type": "markdown",
   "id": "f36eb158",
   "metadata": {},
   "source": [
    "### Explaination for team abbreviation, city, code, ID and name being null"
   ]
  },
  {
   "cell_type": "markdown",
   "id": "e740b389",
   "metadata": {},
   "source": [
    "Roster status 0 means the player is not active, therefore there no team data recorded<br>\n",
    "Roster status 1 means the player is active, therefore there team data recorded<b>"
   ]
  },
  {
   "cell_type": "code",
   "execution_count": null,
   "id": "b304bd58",
   "metadata": {},
   "outputs": [],
   "source": [
    "# Check if columns are null when ROSTERSTATUS is 0\n",
    "null_values_roster_0 = playerlist.loc[playerlist['ROSTERSTATUS'] == 0, ['TEAM_ABBREVIATION', 'TEAM_CITY', 'TEAM_CODE', 'TEAM_NAME']].isnull().sum()\n",
    "print(\"Null values when ROSTERSTATUS is 0:\")\n",
    "print(null_values_roster_0)\n",
    "print()\n",
    "\n",
    "# Check if columns have values when ROSTERSTATUS is 1\n",
    "not_null_values_roster_1 = playerlist.loc[playerlist['ROSTERSTATUS'] == 1, ['TEAM_ABBREVIATION', 'TEAM_CITY', 'TEAM_CODE', 'TEAM_NAME']].notnull().sum()\n",
    "print(\"Non-null values when ROSTERSTATUS is 1:\")\n",
    "print(not_null_values_roster_1)\n",
    "\n",
    "# Fill NaN value with \"-\"\n",
    "columns_to_fill = ['TEAM_ABBREVIATION', 'TEAM_CITY', 'TEAM_CODE', 'TEAM_NAME']\n",
    "playerlist[columns_to_fill] = playerlist[columns_to_fill].fillna('-')\n",
    "playerlist"
   ]
  },
  {
   "cell_type": "markdown",
   "id": "e6f279fb",
   "metadata": {},
   "source": [
    "### Explaination for missing playercode"
   ]
  },
  {
   "cell_type": "code",
   "execution_count": null,
   "id": "642501df",
   "metadata": {},
   "outputs": [],
   "source": [
    "playerlist['PLAYERCODE'] = playerlist['PLAYERCODE'].fillna(\"-\")"
   ]
  },
  {
   "cell_type": "code",
   "execution_count": null,
   "id": "7d3c61c0",
   "metadata": {},
   "outputs": [],
   "source": [
    "# Check inconsistency\n",
    "for column in playerlist.columns:\n",
    "    val_count = playerlist[column].value_counts()\n",
    "    print(\"value count for \", column, \":\")\n",
    "    print(val_count)\n",
    "    print()"
   ]
  },
  {
   "cell_type": "markdown",
   "id": "942fff33",
   "metadata": {},
   "source": [
    "Based on the observation:\n",
    "- TEAM_CITY has both LA and Los Angeles"
   ]
  },
  {
   "cell_type": "code",
   "execution_count": null,
   "id": "098b4ab0",
   "metadata": {},
   "outputs": [],
   "source": [
    "# Replace \"LA\" with \"Los Angeles\"\n",
    "playerlist['TEAM_CITY'] = playerlist['TEAM_CITY'].replace('LA', 'Los Angeles')\n",
    "\n",
    "# Count the occurrences of each team name again\n",
    "team_counts = playerlist['TEAM_CITY'].value_counts()\n",
    "\n",
    "# Print the updated team counts\n",
    "print(team_counts)"
   ]
  },
  {
   "cell_type": "markdown",
   "id": "9fd85e6d",
   "metadata": {},
   "source": [
    "### Finalise cleaned data"
   ]
  },
  {
   "cell_type": "code",
   "execution_count": null,
   "id": "9c26795c",
   "metadata": {},
   "outputs": [],
   "source": [
    "check_missing_values(playerlist)"
   ]
  },
  {
   "cell_type": "code",
   "execution_count": null,
   "id": "5d095781",
   "metadata": {},
   "outputs": [],
   "source": [
    "playerlist.to_csv('playerlist_cleaned.csv', index=False)"
   ]
  },
  {
   "cell_type": "markdown",
   "id": "1898f79a",
   "metadata": {},
   "source": [
    "## NBA Season Dataset"
   ]
  },
  {
   "cell_type": "markdown",
   "id": "16d04a73",
   "metadata": {},
   "source": [
    "### Import dataset"
   ]
  },
  {
   "cell_type": "code",
   "execution_count": null,
   "id": "92504c43",
   "metadata": {},
   "outputs": [],
   "source": [
    "NBA1 = pd.read_csv(\"Question-3-Dataset/NBA-Season-2016-2017.csv\")\n",
    "NBA2 = pd.read_csv(\"Question-3-Dataset/NBA-Season-2017-2018.csv\")\n",
    "NBA3 = pd.read_csv(\"Question-3-Dataset/NBA-Season-2018-2020.csv\")\n",
    "\n",
    "pd.set_option('display.max_columns', None)"
   ]
  },
  {
   "cell_type": "code",
   "execution_count": null,
   "id": "f37e6794",
   "metadata": {},
   "outputs": [],
   "source": [
    "NBA1"
   ]
  },
  {
   "cell_type": "code",
   "execution_count": null,
   "id": "faf5b828",
   "metadata": {},
   "outputs": [],
   "source": [
    "NBA2"
   ]
  },
  {
   "cell_type": "code",
   "execution_count": null,
   "id": "b6a6365b",
   "metadata": {},
   "outputs": [],
   "source": [
    "NBA3"
   ]
  },
  {
   "cell_type": "code",
   "execution_count": null,
   "id": "13a575b6",
   "metadata": {},
   "outputs": [],
   "source": [
    "# Drop unnecessary columns\n",
    "NBA1 = NBA1.drop('Unnamed: 0', axis=1)\n",
    "NBA2 = NBA2.drop('Unnamed: 0', axis=1)\n",
    "NBA3 = NBA3.drop('Unnamed: 0', axis=1)\n",
    "\n",
    "# Add a 'SEASON' column\n",
    "NBA1['SEASON'] = '2016-2017'\n",
    "NBA2['SEASON'] = '2017-2018'\n",
    "NBA3['SEASON'] = '2018-2020'\n",
    "\n",
    "# Merge data into one dataframe\n",
    "NBA_data = pd.concat([NBA1, NBA2, NBA3], axis=0)\n",
    "\n",
    "# Rearrange the column\n",
    "game_id_col = NBA_data.pop('GAME_ID')  # Remove 'PERSON_ID' column from DataFrame\n",
    "NBA_data.insert(0, 'GAME_ID', game_id_col)  # Insert 'PERSON_ID' column at the front\n",
    "\n",
    "# Display data\n",
    "NBA_data"
   ]
  },
  {
   "cell_type": "code",
   "execution_count": null,
   "id": "cbde29c8",
   "metadata": {},
   "outputs": [],
   "source": [
    "NBA_data.dtypes"
   ]
  },
  {
   "cell_type": "code",
   "execution_count": null,
   "id": "e56e2df1",
   "metadata": {},
   "outputs": [],
   "source": [
    "# Convert datatypes\n",
    "columns_to_convert = ['PLAYER1_ID','PLAYER1_TEAM_ID', \n",
    "                      'PLAYER2_ID', 'PLAYER2_TEAM_ID', \n",
    "                      'PLAYER3_ID', 'PLAYER3_TEAM_ID',\n",
    "                      'PERIOD','PERSON1TYPE','PERSON2TYPE', 'PERSON3TYPE']\n",
    "\n",
    "# Fill NaN with 0, then convert float to int, then to string\n",
    "NBA_data[columns_to_convert] = NBA_data[columns_to_convert].replace([np.inf, -np.inf], np.nan).fillna(0).astype(int).astype(str)\n",
    "NBA_data['GAME_ID'] = NBA_data['GAME_ID'].astype(str)\n",
    "\n",
    "# Fill 0 back into NaN, which will handle later on\n",
    "NBA_data[columns_to_convert] = NBA_data[columns_to_convert].replace(\"0\", np.nan)\n",
    "\n",
    "# Display datatype\n",
    "print(NBA_data.dtypes)\n",
    "\n",
    "# Display data\n",
    "NBA_data"
   ]
  },
  {
   "cell_type": "markdown",
   "id": "b39cbe18",
   "metadata": {},
   "source": [
    "### Handle duplicates and missing values"
   ]
  },
  {
   "cell_type": "code",
   "execution_count": null,
   "id": "45eb4571",
   "metadata": {},
   "outputs": [],
   "source": [
    "# Check duplicates\n",
    "check_duplicates(NBA_data)\n",
    "\n",
    "print(\"Missing values =====================\")\n",
    "\n",
    "check_missing_values(NBA_data)"
   ]
  },
  {
   "cell_type": "markdown",
   "id": "e57b0a2c",
   "metadata": {},
   "source": [
    "- SCORE AND SCOREMARGIN"
   ]
  },
  {
   "cell_type": "code",
   "execution_count": null,
   "id": "60f75ee7",
   "metadata": {},
   "outputs": [],
   "source": [
    "# Fill NaN value with \"0-0\", since theres no score was made during the event\n",
    "NBA_data['SCORE'] = NBA_data['SCORE'].fillna('0 - 0')\n",
    "\n",
    "# If score is \"0-0\", then score margin is 0\n",
    "NBA_data.loc[NBA_data['SCORE'] == '0 - 0', 'SCOREMARGIN'] = 0\n",
    "NBA_data[['GAME_ID', 'SCORE', 'SCOREMARGIN']]"
   ]
  },
  {
   "cell_type": "markdown",
   "id": "a5cc30be",
   "metadata": {},
   "source": [
    "- OTHERS"
   ]
  },
  {
   "cell_type": "code",
   "execution_count": null,
   "id": "6cf033ae",
   "metadata": {},
   "outputs": [],
   "source": [
    "# Convert datatypes\n",
    "columns_to_convert = ['PERSON1TYPE', 'PERSON2TYPE', 'PERSON3TYPE', 'PLAYER1_ID',\n",
    "       'PLAYER1_NAME', 'PLAYER1_TEAM_ABBREVIATION', 'PLAYER1_TEAM_CITY',\n",
    "       'PLAYER1_TEAM_ID', 'PLAYER1_TEAM_NICKNAME', 'PLAYER2_ID',\n",
    "       'PLAYER2_NAME', 'PLAYER2_TEAM_ABBREVIATION', 'PLAYER2_TEAM_CITY',\n",
    "       'PLAYER2_TEAM_ID', 'PLAYER2_TEAM_NICKNAME', 'PLAYER3_ID',\n",
    "       'PLAYER3_NAME', 'PLAYER3_TEAM_ABBREVIATION', 'PLAYER3_TEAM_CITY',\n",
    "       'PLAYER3_TEAM_ID', 'PLAYER3_TEAM_NICKNAME', 'VISITORDESCRIPTION', 'HOMEDESCRIPTION']\n",
    "\n",
    "# Fill NaN with \"-\", since we can't simply replace it with other value\n",
    "NBA_data[columns_to_convert] = NBA_data[columns_to_convert].fillna(\"-\")\n",
    "\n",
    "# Apply forward fill bcs the EVENTTYPE is during period end, so the WCTime probably follow the previous event\n",
    "NBA_data['WCTIMESTRING'] = NBA_data['WCTIMESTRING'].ffill()\n",
    "NBA_data['PERIOD'] = NBA_data['PERIOD'].ffill()\n",
    "\n",
    "# Drop the this column bcs there only NaN value for every row\n",
    "NBA_data = NBA_data.drop('NEUTRALDESCRIPTION', axis=1)\n",
    "NBA_data"
   ]
  },
  {
   "cell_type": "code",
   "execution_count": null,
   "id": "520d9627",
   "metadata": {},
   "outputs": [],
   "source": [
    "EVENTMSGTYPE_mapping = {\n",
    "    1: 'FIELD_GOAL_MADE',\n",
    "    2: 'FIELD_GOAL_MISSED',\n",
    "    3: 'FREE_THROW_ATTEMPT',\n",
    "    4: 'REBOUND',\n",
    "    5: 'TURNOVER',\n",
    "    6: 'FOUL',\n",
    "    7: 'VIOLATION',\n",
    "    8: 'SUBSTITUTION',\n",
    "    9: 'TIMEOUT',\n",
    "    10: 'JUMP_BALL',\n",
    "    11: 'EJECTION',\n",
    "    12: 'PERIOD_BEGIN',\n",
    "    13: 'PERIOD_END'\n",
    "}\n",
    "\n",
    "EVENTMSGACTIONTYPE_mapping = {\n",
    "    1: '3PT_JUMP_SHOT',\n",
    "    79: '3PT_PULLUP_JUMP_SHOT',\n",
    "    80: '3PT_STEP_BACK_JUMP_SHOT',\n",
    "    52: 'ALLEY_OOP_DUNK',\n",
    "    108: 'CUTTING_DUNK_SHOT',\n",
    "    99: 'CUTTING_FINGER_ROLL_LAYUP_SHOT',\n",
    "    98: 'CUTTING_LAYUP_SHOT',\n",
    "    75: 'DRIVING_FINGER_ROLL_LAYUP',\n",
    "    6: 'DRIVING_LAYUP',\n",
    "    73: 'DRIVING_REVERSE_LAYUP',\n",
    "    7: 'DUNK',\n",
    "    71: 'FINGER_ROLL_LAYUP',\n",
    "    78: 'FLOATING_JUMP_SHOT',\n",
    "    3: 'HOOK_SHOT',\n",
    "    66: 'JUMP_BANK_SHOT',\n",
    "    5: 'LAYUP',\n",
    "    79: 'PULLUP_JUMP_SHOT',\n",
    "    72: 'PUTBACK_LAYUP',\n",
    "    44: 'REVERSE_LAYUP',\n",
    "    50: 'RUNNING_DUNK',\n",
    "    76: 'RUNNING_FINGER_ROLL_LAYUP',\n",
    "    41: 'RUNNING_LAYUP',\n",
    "    80: 'STEP_BACK_JUMP_SHOT',\n",
    "    97: 'TIP_LAYUP_SHOT',\n",
    "    86: 'TURNAROUND_FADEAWAY',\n",
    "    58: 'TURNAROUND_HOOK_SHOT',\n",
    "    47: 'TURNAROUND_JUMP_SHOT'\n",
    "}\n",
    "\n",
    "NBA_data['EVENTMSGTYPE_DESCRIPTION'] = NBA_data['EVENTMSGTYPE'].map(EVENTMSGTYPE_mapping).fillna('-')\n",
    "NBA_data['EVENTMSGACTIONTYPE_DESCRIPTION'] = NBA_data['EVENTMSGACTIONTYPE'].map(EVENTMSGACTIONTYPE_mapping).fillna('-')\n",
    "\n",
    "# Rearrange the column\n",
    "NBA_data = NBA_data.reindex(columns=['GAME_ID', 'EVENTNUM', 'EVENTMSGTYPE', 'EVENTMSGTYPE_DESCRIPTION', 'EVENTMSGACTIONTYPE', 'EVENTMSGACTIONTYPE_DESCRIPTION', \n",
    "                                     'HOMEDESCRIPTION', 'PCTIMESTRING', 'PERIOD', 'PERSON1TYPE',\n",
    "                                       'PERSON2TYPE', 'PERSON3TYPE', 'PLAYER1_ID', 'PLAYER1_NAME',\n",
    "                                       'PLAYER1_TEAM_ID', 'PLAYER2_ID', 'PLAYER2_NAME', 'PLAYER2_TEAM_ID',\n",
    "                                       'PLAYER3_ID', 'PLAYER3_NAME', 'PLAYER3_TEAM_ID', 'SCORE', 'SCOREMARGIN',\n",
    "                                       'VISITORDESCRIPTION', 'WCTIMESTRING', 'SEASON'])\n",
    "NBA_data"
   ]
  },
  {
   "cell_type": "markdown",
   "id": "30157938",
   "metadata": {},
   "source": [
    "### Finalized cleaned data"
   ]
  },
  {
   "cell_type": "code",
   "execution_count": null,
   "id": "291efd68",
   "metadata": {},
   "outputs": [],
   "source": [
    "check_missing_values(NBA_data)"
   ]
  },
  {
   "cell_type": "code",
   "execution_count": null,
   "id": "93895994",
   "metadata": {},
   "outputs": [],
   "source": [
    "NBA_data.to_csv('nba_cleaned.csv', index=False)"
   ]
  },
  {
   "cell_type": "markdown",
   "id": "d8d946de",
   "metadata": {},
   "source": [
    "## Part 2: Classification"
   ]
  },
  {
   "cell_type": "markdown",
   "id": "8100f2b4",
   "metadata": {},
   "source": [
    "## Classification Problem 1:\n",
    "#### Based on PERSON_ID, FROM_YEAR, GAMES_PLAYED_FLAG, OTHERLEAGUE_EXPERIENCE_CH and TO_YEAR columns, predict whether the player's ROSTERSTATUS is Active(1) or Inactive(0)"
   ]
  },
  {
   "cell_type": "markdown",
   "id": "53ea036c",
   "metadata": {},
   "source": [
    "### Prepare dataset"
   ]
  },
  {
   "cell_type": "code",
   "execution_count": null,
   "id": "0327b61e",
   "metadata": {},
   "outputs": [],
   "source": [
    "# Use Playerlist dataset\n",
    "playerlist_data = playerlist"
   ]
  },
  {
   "cell_type": "code",
   "execution_count": null,
   "id": "4d1e85f9",
   "metadata": {},
   "outputs": [],
   "source": [
    "# Drop unnecessary columns\n",
    "drop_list = ['PLAYERCODE', 'PLAYER_NAME', 'ROSTERSTATUS', 'TEAM_ABBREVIATION', 'TEAM_CITY', 'TEAM_CODE', 'TEAM_ID', 'TEAM_NAME']\n",
    "playerlist_data_final = playerlist_data.drop(playerlist_data[drop_list], axis=1)\n",
    "\n",
    "playerlist_data_final.head()"
   ]
  },
  {
   "cell_type": "markdown",
   "id": "f8e80ff5",
   "metadata": {},
   "source": [
    "### Label Encoding"
   ]
  },
  {
   "cell_type": "code",
   "execution_count": null,
   "id": "568d4d1b",
   "metadata": {},
   "outputs": [],
   "source": [
    "# Apply Label Encoding to convert to numerical data\n",
    "\n",
    "# Extract columns with object datatype\n",
    "col_list = playerlist_data_final.select_dtypes(include=[\"object\",\"bool\"]).columns.to_list()\n",
    "\n",
    "# Initialize a LabelEncoder for each object column\n",
    "encoders = {}\n",
    "for col in col_list:\n",
    "    encoders[col] = LabelEncoder()\n",
    "    \n",
    "# Encode the object columns in the DataFrame\n",
    "for col in col_list:\n",
    "    playerlist_data_final[col] = encoders[col].fit_transform(playerlist_data_final[col])\n",
    "\n",
    "playerlist_data_final.head()"
   ]
  },
  {
   "cell_type": "markdown",
   "id": "5e464631",
   "metadata": {},
   "source": [
    "### Final check all column datatypes"
   ]
  },
  {
   "cell_type": "code",
   "execution_count": null,
   "id": "53c36c61",
   "metadata": {},
   "outputs": [],
   "source": [
    "# Make sure all columns are numerical\n",
    "playerlist_data_final.dtypes"
   ]
  },
  {
   "cell_type": "markdown",
   "id": "8bc1fc10",
   "metadata": {},
   "source": [
    "## Model 1: Naive Bayes"
   ]
  },
  {
   "cell_type": "code",
   "execution_count": null,
   "id": "67ecb083",
   "metadata": {},
   "outputs": [],
   "source": [
    "# Use Naive Bayes classifier to predict ROSTERSTATUS\n",
    "\n",
    "# Train test split\n",
    "X = playerlist_data_final\n",
    "y = playerlist_data['ROSTERSTATUS']\n",
    "X_train, X_test, y_train, y_test = train_test_split(X, y, test_size=0.2, random_state=0)\n",
    "\n",
    "# Construct the NB model\n",
    "nb = GaussianNB()\n",
    "\n",
    "# Train the model using the training sets\n",
    "nb.fit(X_train, y_train) \n",
    "\n",
    "# Predict y based on X test set\n",
    "y_pred = nb.predict(X_test)\n",
    "\n",
    "# Evaluate the model\n",
    "nb_accuracy = accuracy_score(y_test, y_pred)\n",
    "nb_precision = precision_score(y_test, y_pred)\n",
    "nb_recall = recall_score(y_test, y_pred)\n",
    "nb_f1 = f1_score(y_test, y_pred)\n",
    "\n",
    "# Print model results\n",
    "nb_result = pd.DataFrame({'Metrics': ['Accuracy', 'Precision', 'Recall', 'F1 Score'], 'Results': [nb_accuracy, nb_precision, nb_recall, nb_f1]})\n",
    "nb_result.set_index('Metrics', inplace=True)\n",
    "\n",
    "nb_result"
   ]
  },
  {
   "cell_type": "markdown",
   "id": "bf01b9e1",
   "metadata": {},
   "source": [
    "### Compare actual and predicted values"
   ]
  },
  {
   "cell_type": "code",
   "execution_count": null,
   "id": "61988e80",
   "metadata": {},
   "outputs": [],
   "source": [
    "# Plot a Grouped Bar Chart to compare between actual and predicted values\n",
    "actual_value_count = y_test.value_counts() \n",
    "y_pred_df = pd.DataFrame({'y_pred': y_pred})\n",
    "pred_value_count = y_pred_df.value_counts() \n",
    "\n",
    "x_labels = ['True', 'False']\n",
    "y_values_1 = [actual_value_count[1], actual_value_count[0]]  # Values for the first group\n",
    "y_values_2 = [pred_value_count[1], pred_value_count[0]]  # Values for the second group\n",
    "\n",
    "bar_width = 0.35\n",
    "\n",
    "x_pos = np.arange(len(x_labels))\n",
    "\n",
    "plt.bar(x_pos, y_values_1, width=bar_width, label='Actual values')\n",
    "plt.bar(x_pos + bar_width, y_values_2, width=bar_width, label='Predicted values')\n",
    "\n",
    "plt.xticks(x_pos + bar_width / 2, x_labels)\n",
    "\n",
    "plt.xlabel('Values')\n",
    "plt.ylabel('Count')\n",
    "plt.title('Naive Bayes: Actual vs Predicted comparison')\n",
    "\n",
    "plt.legend()\n",
    "plt.show()"
   ]
  },
  {
   "cell_type": "markdown",
   "id": "19426eac",
   "metadata": {},
   "source": [
    "## Model 2: Support Vector Machine (SVM)"
   ]
  },
  {
   "cell_type": "code",
   "execution_count": null,
   "id": "21ee6a7a",
   "metadata": {},
   "outputs": [],
   "source": [
    "# Use SVM classifier to predict ROSTERSTATUS\n",
    "\n",
    "# Train test split\n",
    "X = playerlist_data_final\n",
    "y = playerlist_data['ROSTERSTATUS']\n",
    "X_train, X_test, y_train, y_test = train_test_split(X, y, test_size=0.2, random_state=0)\n",
    "\n",
    "# Construct the NB model\n",
    "svm_clf = svm.SVC(kernel='rbf', gamma='auto') \n",
    "\n",
    "# Train the model using the training sets\n",
    "svm_clf.fit(X_train, y_train) \n",
    "\n",
    "# Predict y based on X test set\n",
    "y_pred = svm_clf.predict(X_test)\n",
    "\n",
    "# Evaluate the model\n",
    "svm_accuracy = accuracy_score(y_test, y_pred)\n",
    "svm_precision = precision_score(y_test, y_pred)\n",
    "svm_recall = recall_score(y_test, y_pred)\n",
    "svm_f1 = f1_score(y_test, y_pred)\n",
    "\n",
    "# Print model results\n",
    "svm_result = pd.DataFrame({'Metrics': ['Accuracy', 'Precision', 'Recall', 'F1 Score'], 'Results': [svm_accuracy, svm_precision, svm_recall, svm_f1]})\n",
    "svm_result.set_index('Metrics', inplace=True)\n",
    "\n",
    "svm_result"
   ]
  },
  {
   "cell_type": "markdown",
   "id": "10fa7439",
   "metadata": {},
   "source": [
    "### Compare actual and predicted values"
   ]
  },
  {
   "cell_type": "code",
   "execution_count": null,
   "id": "547cb015",
   "metadata": {},
   "outputs": [],
   "source": [
    "# Plot a Grouped Bar Chart to compare between actual and predicted values\n",
    "actual_value_count = y_test.value_counts() \n",
    "y_pred_df = pd.DataFrame({'y_pred': y_pred})\n",
    "pred_value_count = y_pred_df.value_counts() \n",
    "\n",
    "x_labels = ['True', 'False']\n",
    "y_values_1 = [actual_value_count[1], actual_value_count[0]]  # Values for the first group\n",
    "y_values_2 = [pred_value_count[1], pred_value_count[0]]  # Values for the second group\n",
    "\n",
    "bar_width = 0.35\n",
    "\n",
    "x_pos = np.arange(len(x_labels))\n",
    "\n",
    "plt.bar(x_pos, y_values_1, width=bar_width, label='Actual values')\n",
    "plt.bar(x_pos + bar_width, y_values_2, width=bar_width, label='Predicted values')\n",
    "\n",
    "plt.xticks(x_pos + bar_width / 2, x_labels)\n",
    "\n",
    "plt.xlabel('Values')\n",
    "plt.ylabel('Count')\n",
    "plt.title('SVM: Actual vs Predicted comparison')\n",
    "\n",
    "plt.legend()\n",
    "plt.show()"
   ]
  },
  {
   "cell_type": "markdown",
   "id": "cfbf0850",
   "metadata": {},
   "source": [
    "## Classification Problem 2:\n",
    "#### Predict the possibility of EVENTMSGTYPE based on the NBA data"
   ]
  },
  {
   "cell_type": "markdown",
   "id": "dcbdf62f",
   "metadata": {},
   "source": [
    "### Prepare dataset"
   ]
  },
  {
   "cell_type": "code",
   "execution_count": null,
   "id": "4a59db03",
   "metadata": {},
   "outputs": [],
   "source": [
    "# Use NBA Season dataset\n",
    "nba_data = NBA_data"
   ]
  },
  {
   "cell_type": "code",
   "execution_count": null,
   "id": "416610df",
   "metadata": {},
   "outputs": [],
   "source": [
    "# Drop unnecessary columns\n",
    "drop_list = ['EVENTMSGTYPE', 'EVENTMSGTYPE_DESCRIPTION', 'EVENTMSGACTIONTYPE_DESCRIPTION', 'HOMEDESCRIPTION', 'PLAYER1_ID', 'PLAYER1_NAME', 'PLAYER1_TEAM_ID', 'PLAYER2_ID', 'PLAYER2_NAME', 'PLAYER2_TEAM_ID', 'PLAYER3_ID', 'PLAYER3_NAME', 'PLAYER3_TEAM_ID', 'SCORE', 'VISITORDESCRIPTION']\n",
    "nba_data_final = nba_data.drop(nba_data[drop_list], axis=1)\n",
    "\n",
    "nba_data_final.head()"
   ]
  },
  {
   "cell_type": "markdown",
   "id": "edb35bc7",
   "metadata": {},
   "source": [
    "### Convert columns datatype to numerical"
   ]
  },
  {
   "cell_type": "code",
   "execution_count": null,
   "id": "8f94edc1",
   "metadata": {},
   "outputs": [],
   "source": [
    "# Convert WCTIMESTRING column datatype\n",
    "nba_data_final['WCTIMESTRING'] = pd.to_datetime(nba_data_final['WCTIMESTRING'])\n",
    "nba_data_final['WCTIME_Hour'] = nba_data_final['WCTIMESTRING'].dt.hour\n",
    "nba_data_final['WCTIME_Minute'] = nba_data_final['WCTIMESTRING'].dt.minute\n",
    "\n",
    "# Drop original WCTIMESTRING column\n",
    "nba_data_final = nba_data_final.drop('WCTIMESTRING', axis=1)\n",
    "nba_data_final.head()"
   ]
  },
  {
   "cell_type": "code",
   "execution_count": null,
   "id": "be654a10",
   "metadata": {},
   "outputs": [],
   "source": [
    "# Convert PCTIMESTRING column datatype\n",
    "temp_df = pd.DataFrame(columns=['Minutes', 'Seconds'])\n",
    "temp_df = nba_data_final['PCTIMESTRING'].str.split(':', expand=True)\n",
    "\n",
    "# Convert minutes and seconds to numeric values\n",
    "nba_data_final['PCTIME_Minute'] = temp_df[0].astype(int)\n",
    "nba_data_final['PCTIME_Second'] = temp_df[1].astype(int)\n",
    "\n",
    "# Drop original PCTIMESTRING column\n",
    "nba_data_final = nba_data_final.drop('PCTIMESTRING', axis=1)\n",
    "nba_data_final.head()"
   ]
  },
  {
   "cell_type": "code",
   "execution_count": null,
   "id": "ebb01832",
   "metadata": {},
   "outputs": [],
   "source": [
    "# Replace \"-\" with 0\n",
    "nba_data_final = nba_data_final.replace('-', 0)\n",
    "\n",
    "# Replace \"TIE\" value in SCOREMARGIN column\n",
    "nba_data_final['SCOREMARGIN'] = nba_data_final['SCOREMARGIN'].replace('TIE', 0)\n",
    "\n",
    "nba_data_final.head()"
   ]
  },
  {
   "cell_type": "markdown",
   "id": "cb8f6c28",
   "metadata": {},
   "source": [
    "### Label Encoding"
   ]
  },
  {
   "cell_type": "code",
   "execution_count": null,
   "id": "1833970d",
   "metadata": {},
   "outputs": [],
   "source": [
    "# Apply Label Encoding to convert to numerical data\n",
    "\n",
    "# Create a LabelEncoder object\n",
    "label_encoder = LabelEncoder()\n",
    "\n",
    "# Fit and transform the 'SEASON' column\n",
    "nba_data_final['SEASON_ENCODED'] = label_encoder.fit_transform(nba_data_final['SEASON'])\n",
    "\n",
    "# Drop original SEASON column\n",
    "nba_data_final = nba_data_final.drop('SEASON', axis=1)\n",
    "nba_data_final.head()"
   ]
  },
  {
   "cell_type": "code",
   "execution_count": null,
   "id": "f8a9a372",
   "metadata": {},
   "outputs": [],
   "source": [
    "# Convert object datatype columns to int datatype\n",
    "object_columns = nba_data_final.select_dtypes(include='object').columns\n",
    "nba_data_final[object_columns] = nba_data_final[object_columns].astype(int)\n",
    "nba_data_final.head()"
   ]
  },
  {
   "cell_type": "markdown",
   "id": "c8343d3f",
   "metadata": {},
   "source": [
    "### Final check all column datatypes"
   ]
  },
  {
   "cell_type": "code",
   "execution_count": null,
   "id": "55935d9d",
   "metadata": {},
   "outputs": [],
   "source": [
    "# Make sure all columns are numerical\n",
    "nba_data_final.dtypes"
   ]
  },
  {
   "cell_type": "markdown",
   "id": "d919c04a",
   "metadata": {},
   "source": [
    "## Model 1: Naive Bayes"
   ]
  },
  {
   "cell_type": "code",
   "execution_count": null,
   "id": "300d7dc6",
   "metadata": {},
   "outputs": [],
   "source": [
    "# Use Naive Bayes classifier to predict EVENTMSGTYPE\n",
    "\n",
    "# Train test split\n",
    "X = nba_data_final\n",
    "y = nba_data['EVENTMSGTYPE']\n",
    "X_train, X_test, y_train, y_test = train_test_split(X, y, test_size=0.2, random_state=0)\n",
    "\n",
    "# Construct the NB model\n",
    "nb = GaussianNB()\n",
    "\n",
    "# Train the model using the training sets\n",
    "nb.fit(X_train, y_train) \n",
    "\n",
    "# Predict y based on X test set\n",
    "y_pred = nb.predict(X_test)\n",
    "\n",
    "# Evaluate the model\n",
    "nb_accuracy = accuracy_score(y_test, y_pred)\n",
    "nb_precision = precision_score(y_test, y_pred, average='macro')\n",
    "nb_recall = recall_score(y_test, y_pred, average='macro')\n",
    "nb_f1 = f1_score(y_test, y_pred, average='macro')\n",
    "\n",
    "# Print model results\n",
    "nb_result = pd.DataFrame({'Metrics': ['Accuracy', 'Precision', 'Recall', 'F1 Score'], 'Results': [nb_accuracy, nb_precision, nb_recall, nb_f1]})\n",
    "nb_result.set_index('Metrics', inplace=True)\n",
    "\n",
    "nb_result"
   ]
  },
  {
   "cell_type": "markdown",
   "id": "c2c38040",
   "metadata": {},
   "source": [
    "### Compare actual and predicted values"
   ]
  },
  {
   "cell_type": "code",
   "execution_count": null,
   "id": "942ac477",
   "metadata": {},
   "outputs": [],
   "source": [
    "# Compare y_test and y_pred values\n",
    "compare_df = pd.DataFrame({'y_test': y_test, 'y_pred': y_pred})\n",
    "\n",
    "# Add a new column to check if the values are the same\n",
    "compare_df['Match'] = compare_df['y_test'] == compare_df['y_pred']\n",
    "\n",
    "compare_df"
   ]
  },
  {
   "cell_type": "code",
   "execution_count": null,
   "id": "1d69f40b",
   "metadata": {},
   "outputs": [],
   "source": [
    "# Print number of Matches\n",
    "compare_df['Match'].value_counts()"
   ]
  },
  {
   "cell_type": "markdown",
   "id": "f608f6a4",
   "metadata": {},
   "source": [
    "## Model 2: Logistic Regression"
   ]
  },
  {
   "cell_type": "code",
   "execution_count": null,
   "id": "b9bcc0bf",
   "metadata": {},
   "outputs": [],
   "source": [
    "# Use Logistic Regression classifier to predict EVENTMSGTYPE\n",
    "\n",
    "# Split the data into training and test sets\n",
    "X = nba_data_final\n",
    "y = nba_data['EVENTMSGTYPE']\n",
    "X_train, X_test, y_train, y_test = train_test_split(X,  y, test_size=0.2, random_state=2) # 20% test set, 80% training set\n",
    "\n",
    "# Create the linear regression model\n",
    "logisticReg = LogisticRegression()\n",
    "\n",
    "# Train the model on the training data\n",
    "logisticReg.fit(X_train, y_train)\n",
    "\n",
    "# Evaluate the model\n",
    "lg_accuracy = accuracy_score(y_test, y_pred)\n",
    "lg_precision = precision_score(y_test, y_pred, average='macro')\n",
    "lg_recall = recall_score(y_test, y_pred, average='macro')\n",
    "lg_f1 = f1_score(y_test, y_pred, average='macro')\n",
    "\n",
    "# Print model results\n",
    "lg_result = pd.DataFrame({'Metrics': ['Accuracy', 'Precision', 'Recall', 'F1 Score'], 'Results': [nb_accuracy, nb_precision, nb_recall, nb_f1]})\n",
    "lg_result.set_index('Metrics', inplace=True)\n",
    "\n",
    "lg_result"
   ]
  },
  {
   "cell_type": "markdown",
   "id": "79cf2601",
   "metadata": {},
   "source": [
    "\n",
    "### Compare actual and predicted values"
   ]
  },
  {
   "cell_type": "code",
   "execution_count": null,
   "id": "7548cf12",
   "metadata": {},
   "outputs": [],
   "source": [
    "# Compare y_test and y_pred values\n",
    "compare_df = pd.DataFrame({'y_test': y_test, 'y_pred': y_pred})\n",
    "\n",
    "# Add a new column to check if the values are the same\n",
    "compare_df['Match'] = compare_df['y_test'] == compare_df['y_pred']\n",
    "\n",
    "compare_df"
   ]
  },
  {
   "cell_type": "code",
   "execution_count": null,
   "id": "76e6bf79",
   "metadata": {},
   "outputs": [],
   "source": [
    "# Print number of Matches\n",
    "compare_df['Match'].value_counts()"
   ]
  },
  {
   "cell_type": "markdown",
   "id": "02c00938",
   "metadata": {},
   "source": [
    "## Part 3: Cluster Analysis"
   ]
  },
  {
   "cell_type": "markdown",
   "id": "bdd55ed7",
   "metadata": {},
   "source": [
    "Group players together based on similarities in their performance."
   ]
  },
  {
   "cell_type": "markdown",
   "id": "f721af2c",
   "metadata": {},
   "source": [
    "### Read dataset"
   ]
  },
  {
   "cell_type": "code",
   "execution_count": null,
   "id": "e6bc3626",
   "metadata": {},
   "outputs": [],
   "source": [
    "NBA_data = pd.read_csv('nba_cleaned.csv')\n",
    "NBA_data_LE = NBA_data[['EVENTMSGTYPE_DESCRIPTION', 'EVENTMSGACTIONTYPE_DESCRIPTION', 'SCORE', 'SCOREMARGIN']]\n",
    "NBA_data_LE"
   ]
  },
  {
   "cell_type": "code",
   "execution_count": null,
   "id": "954f9172",
   "metadata": {},
   "outputs": [],
   "source": [
    "NBA_data.columns"
   ]
  },
  {
   "cell_type": "code",
   "execution_count": null,
   "id": "e9aa3f13",
   "metadata": {},
   "outputs": [],
   "source": [
    "NBA_data_LE.columns"
   ]
  },
  {
   "cell_type": "markdown",
   "id": "9f260e2c",
   "metadata": {},
   "source": [
    "### Label encoding"
   ]
  },
  {
   "cell_type": "code",
   "execution_count": null,
   "id": "1c04cfe9",
   "metadata": {},
   "outputs": [],
   "source": [
    "# Select relevant columns for clustering\n",
    "columns_for_clustering = ['EVENTMSGTYPE_DESCRIPTION', 'EVENTMSGACTIONTYPE_DESCRIPTION', 'SCORE', 'SCOREMARGIN']\n",
    "\n",
    "encoders = {}\n",
    "for col in columns_for_clustering:\n",
    "    encoders[col] = LabelEncoder()\n",
    "\n",
    "# Encode the object columns in the DataFrame\n",
    "for col in columns_for_clustering:\n",
    "    NBA_data_LE[col] = encoders[col].fit_transform(NBA_data_LE[col])\n",
    "\n",
    "NBA_data_LE"
   ]
  },
  {
   "cell_type": "markdown",
   "id": "c486f464",
   "metadata": {},
   "source": [
    "###  Elbow method\n",
    "Find the best number of clusters we should use."
   ]
  },
  {
   "cell_type": "code",
   "execution_count": null,
   "id": "59f15be7",
   "metadata": {},
   "outputs": [],
   "source": [
    "distortions = []\n",
    "for i in range(2, 11):\n",
    "    km = KMeans(\n",
    "        n_clusters=i, init='random',\n",
    "        n_init=10, max_iter=100,\n",
    "        tol=1e-04, random_state=0\n",
    "    )\n",
    "    km.fit(NBA_data_LE)\n",
    "    distortions.append(km.inertia_)\n",
    "\n",
    "# plot\n",
    "plt.plot(range(2, 11), distortions, marker='o')\n",
    "plt.xlabel('Number of clusters')\n",
    "plt.ylabel('Distortion')\n",
    "plt.show()"
   ]
  },
  {
   "cell_type": "markdown",
   "id": "9b9f0410",
   "metadata": {},
   "source": [
    "### K-Mean Clustering"
   ]
  },
  {
   "cell_type": "code",
   "execution_count": null,
   "id": "9ed25e11",
   "metadata": {},
   "outputs": [],
   "source": [
    "# Apply k-means clustering\n",
    "k = 3  # Number of clusters\n",
    "kmeans = KMeans(n_clusters=k, random_state=42)\n",
    "NBA_data_LE['Cluster'] = kmeans.fit_predict(NBA_data_LE)\n",
    "\n",
    "# Get the cluster centers\n",
    "centers = kmeans.cluster_centers_\n",
    "\n",
    "# Create a DataFrame to store the cluster centers\n",
    "centers_df = pd.DataFrame(centers, columns=columns_for_clustering)\n",
    "centers_df.index = np.arange(1, len(centers_df) + 1)\n",
    "\n",
    "# Display the cluster centers\n",
    "display(centers_df)"
   ]
  },
  {
   "cell_type": "markdown",
   "id": "3ac316f5",
   "metadata": {},
   "source": [
    "### Characteristic of each clusters"
   ]
  },
  {
   "cell_type": "code",
   "execution_count": null,
   "id": "725ce732",
   "metadata": {},
   "outputs": [],
   "source": [
    "# Iterate over each cluster\n",
    "for cluster_num in range(1, len(centers_df) + 1):\n",
    "    \n",
    "    # Get the integer part of the first value in each column\n",
    "    score_int = int(centers_df['SCORE'].iloc[cluster_num - 1])\n",
    "    scoremargin_int = int(centers_df['SCOREMARGIN'].iloc[cluster_num - 1])\n",
    "\n",
    "    # Identify the label's classes\n",
    "    print(\"Cluster\", cluster_num, \"characteristic ==================================\")\n",
    "    print('SCORE cluster', cluster_num, ':', encoders['SCORE'].classes_[score_int])\n",
    "    print('SCOREMARGIN cluster', cluster_num, ':', encoders['SCOREMARGIN'].classes_[scoremargin_int])\n",
    "    print()"
   ]
  },
  {
   "cell_type": "markdown",
   "id": "18add56d",
   "metadata": {},
   "source": [
    "> <b>Cluster 1:</b>\n",
    "><li>The average score in this cluster is low, with score of 10 - 0.</li>\n",
    "><li>The score margin is -9, implying that the team is trailing by 9 points on average.</li>\n",
    "><li>The players in this cluster can be represent as the low performance player.</li>\n",
    ">\n",
    "><b>Cluster 2:</b>\n",
    "><li>The average score in this cluster is moderate, with score of 79 - 124.</li>\n",
    "><li>The score margin is 0, suggesting that there is no significant lead for either team.</li>\n",
    "><li>The players in this cluster can be represent as the average performance player.</li>\n",
    ">\n",
    "><b>Cluster 3:</b>\n",
    "><li>The average score in this cluster is high, with score of 36 - 70.</li>\n",
    "><li>The score margin is 12, indicating that the team has a lead of 12 points on average</li>\n",
    "><li>The players in this cluster can be represent as the high performance player.</li>"
   ]
  },
  {
   "cell_type": "code",
   "execution_count": null,
   "id": "7739e943",
   "metadata": {},
   "outputs": [],
   "source": [
    "print('EVENTMSGTYPE_DESCRIPTION cluster', cluster_num, ':', encoders['EVENTMSGTYPE_DESCRIPTION'].classes_[3])"
   ]
  },
  {
   "cell_type": "code",
   "execution_count": null,
   "id": "c48d9657",
   "metadata": {},
   "outputs": [],
   "source": [
    "# Retrieve the data for each cluster\n",
    "cluster_1_data = NBA_data[NBA_data_LE['Cluster'] == 0]\n",
    "cluster_2_data = NBA_data[NBA_data_LE['Cluster'] == 1]\n",
    "cluster_3_data = NBA_data[NBA_data_LE['Cluster'] == 2]\n",
    "\n",
    "# Retrieve the data for each cluster\n",
    "cluster_1_data = NBA_data.loc[cluster_1_data.index, ['EVENTMSGTYPE_DESCRIPTION', 'EVENTMSGACTIONTYPE_DESCRIPTION', 'SCORE', 'SCOREMARGIN']]\n",
    "cluster_2_data = NBA_data.loc[cluster_2_data.index, ['EVENTMSGTYPE_DESCRIPTION', 'EVENTMSGACTIONTYPE_DESCRIPTION', 'SCORE', 'SCOREMARGIN']]\n",
    "cluster_3_data = NBA_data.loc[cluster_3_data.index, ['EVENTMSGTYPE_DESCRIPTION', 'EVENTMSGACTIONTYPE_DESCRIPTION', 'SCORE', 'SCOREMARGIN']]\n",
    "\n",
    "cluster_1_data"
   ]
  },
  {
   "cell_type": "markdown",
   "id": "d2fb192b",
   "metadata": {},
   "source": [
    "### Comparison of each cluster for EVENTMSGTYPE and EVENTMSGACTIONTYPE"
   ]
  },
  {
   "cell_type": "code",
   "execution_count": null,
   "id": "8d7962d9",
   "metadata": {},
   "outputs": [],
   "source": [
    "# Retrieve the data for each cluster\n",
    "cluster_1_data = NBA_data[NBA_data_LE['Cluster'] == 0]\n",
    "cluster_2_data = NBA_data[NBA_data_LE['Cluster'] == 1]\n",
    "cluster_3_data = NBA_data[NBA_data_LE['Cluster'] == 2]\n",
    "\n",
    "# Retrieve the eventmsg for each cluster\n",
    "cluster_1_eventmsg = NBA_data.loc[cluster_1_data.index, 'EVENTMSGTYPE_DESCRIPTION']\n",
    "cluster_2_eventmsg = NBA_data.loc[cluster_2_data.index, 'EVENTMSGTYPE_DESCRIPTION']\n",
    "cluster_3_eventmsg = NBA_data.loc[cluster_3_data.index, 'EVENTMSGTYPE_DESCRIPTION']\n",
    "\n",
    "# Retrieve the eventactionmsg for each cluster\n",
    "cluster_1_eventactionmsg = NBA_data.loc[cluster_1_data.index, 'EVENTMSGACTIONTYPE_DESCRIPTION']\n",
    "cluster_2_eventactionmsg = NBA_data.loc[cluster_2_data.index, 'EVENTMSGACTIONTYPE_DESCRIPTION']\n",
    "cluster_3_eventactionmsg = NBA_data.loc[cluster_3_data.index, 'EVENTMSGACTIONTYPE_DESCRIPTION']\n",
    "\n",
    "# Create DataFrames for each cluster\n",
    "cluster_1_df = pd.DataFrame({\n",
    "    'Eventmsg': cluster_1_eventmsg.values,\n",
    "    'Eventactionmsg': cluster_1_eventactionmsg.values\n",
    "})\n",
    "\n",
    "cluster_2_df = pd.DataFrame({\n",
    "    'Eventmsg': cluster_2_eventmsg.values,\n",
    "    'Eventactionmsg': cluster_2_eventactionmsg.values\n",
    "})\n",
    "\n",
    "cluster_3_df = pd.DataFrame({\n",
    "    'Eventmsg': cluster_3_eventmsg.values,\n",
    "    'Eventactionmsg': cluster_3_eventactionmsg.values\n",
    "})"
   ]
  },
  {
   "cell_type": "markdown",
   "id": "48d643de",
   "metadata": {},
   "source": [
    "<b> Cluster 1"
   ]
  },
  {
   "cell_type": "code",
   "execution_count": null,
   "id": "1a6ca374",
   "metadata": {},
   "outputs": [],
   "source": [
    "# Value counts for Eventmsg\n",
    "eventmsg_counts = cluster_1_df['Eventmsg'].value_counts()\n",
    "\n",
    "# Remove the \"-\" value if it exists\n",
    "if '-' in eventmsg_counts.index:\n",
    "    eventmsg_counts = eventmsg_counts.drop('-')\n",
    "\n",
    "# Sort values in descending order\n",
    "eventmsg_counts = eventmsg_counts.sort_values(ascending=True)\n",
    "\n",
    "# Select the top 5 values\n",
    "top_eventmsg_counts = eventmsg_counts.head(5)\n",
    "\n",
    "# Value counts for Eventactionmsg\n",
    "eventactionmsg_counts = cluster_1_df['Eventactionmsg'].value_counts()\n",
    "\n",
    "# Remove the \"-\" value if it exists\n",
    "if '-' in eventactionmsg_counts.index:\n",
    "    eventactionmsg_counts = eventactionmsg_counts.drop('-')\n",
    "\n",
    "# Sort values in descending order\n",
    "eventactionmsg_counts = eventactionmsg_counts.sort_values(ascending=True)\n",
    "\n",
    "# Select the top 5 values\n",
    "top_eventactionmsg_counts = eventactionmsg_counts.head(5)\n",
    "\n",
    "# Create figure and axes\n",
    "fig, (ax1, ax2) = plt.subplots(1, 2, figsize=(12, 6))\n",
    "\n",
    "# Plot Eventmsg horizontal bar chart\n",
    "ax1.barh(top_eventmsg_counts.index, top_eventmsg_counts.values)\n",
    "ax1.set_xlabel('Count')\n",
    "ax1.set_ylabel('Eventmsg')\n",
    "ax1.set_title('Cluster 1 - Top 5 Eventmsg')\n",
    "\n",
    "# Plot Eventactionmsg horizontal bar chart\n",
    "ax2.barh(top_eventactionmsg_counts.index, top_eventactionmsg_counts.values)\n",
    "ax2.set_xlabel('Count')\n",
    "ax2.set_ylabel('Eventactionmsg')\n",
    "ax2.set_title('Cluster 1 - Top 5 Eventactionmsg')\n",
    "\n",
    "# Adjust spacing between subplots\n",
    "plt.tight_layout()\n",
    "\n",
    "# Display the plot\n",
    "plt.show()"
   ]
  },
  {
   "cell_type": "markdown",
   "id": "135e7a31",
   "metadata": {},
   "source": [
    "> Cluster 1 is characterized by players with low performance. Within this cluster, players frequently face violations, which refer to rule infractions during gameplay, and jump ball situations, which occur when two opposing players simultaneously gain possession of the ball. These events indicate challenges and struggles faced by the players in this cluster. Also, players in Cluster 1 demonstrate strong offensive skills, as evidenced by the frequent occurrence of the alley-oop dunk."
   ]
  },
  {
   "cell_type": "markdown",
   "id": "63510130",
   "metadata": {},
   "source": [
    "<b> Cluster 2"
   ]
  },
  {
   "cell_type": "code",
   "execution_count": null,
   "id": "c2a34c0b",
   "metadata": {},
   "outputs": [],
   "source": [
    "# Value counts for Eventmsg\n",
    "eventmsg_counts = cluster_2_df['Eventmsg'].value_counts()\n",
    "\n",
    "# Remove the \"-\" value if it exists\n",
    "if '-' in eventmsg_counts.index:\n",
    "    eventmsg_counts = eventmsg_counts.drop('-')\n",
    "\n",
    "# Sort values in descending order\n",
    "eventmsg_counts = eventmsg_counts.sort_values(ascending=True)\n",
    "\n",
    "# Select the top 5 values\n",
    "top_eventmsg_counts = eventmsg_counts.head(5)\n",
    "\n",
    "# Value counts for Eventactionmsg\n",
    "eventactionmsg_counts = cluster_2_df['Eventactionmsg'].value_counts()\n",
    "\n",
    "# Remove the \"-\" value if it exists\n",
    "if '-' in eventactionmsg_counts.index:\n",
    "    eventactionmsg_counts = eventactionmsg_counts.drop('-')\n",
    "\n",
    "# Sort values in descending order\n",
    "eventactionmsg_counts = eventactionmsg_counts.sort_values(ascending=True)\n",
    "\n",
    "# Select the top 5 values\n",
    "top_eventactionmsg_counts = eventactionmsg_counts.head(5)\n",
    "\n",
    "# Create figure and axes\n",
    "fig, (ax1, ax2) = plt.subplots(1, 2, figsize=(12, 6))\n",
    "\n",
    "# Plot Eventmsg horizontal bar chart\n",
    "ax1.barh(top_eventmsg_counts.index, top_eventmsg_counts.values)\n",
    "ax1.set_xlabel('Count')\n",
    "ax1.set_ylabel('Eventmsg')\n",
    "ax1.set_title('Cluster 2 - Top 5 Eventmsg')\n",
    "\n",
    "# Plot Eventactionmsg horizontal bar chart\n",
    "ax2.barh(top_eventactionmsg_counts.index, top_eventactionmsg_counts.values)\n",
    "ax2.set_xlabel('Count')\n",
    "ax2.set_ylabel('Eventactionmsg')\n",
    "ax2.set_title('Cluster 2 - Top 5 Eventactionmsg')\n",
    "\n",
    "# Adjust spacing between subplots\n",
    "plt.tight_layout()\n",
    "\n",
    "# Display the plot\n",
    "plt.show()"
   ]
  },
  {
   "cell_type": "markdown",
   "id": "cb86c267",
   "metadata": {},
   "source": [
    ">Cluster 2 consists of players with average performance. Within this cluster, players display consistent shooting ability and earn free throw opportunities when fouled by opponents. The most frequently used actions by players in this cluster are the turnaround fadeaway, running finger roll layup, and jump bank shot. These actions reflect their skill in executing challenging and effective moves, contributing to their performance level within Cluster 2."
   ]
  },
  {
   "cell_type": "markdown",
   "id": "ffce3e51",
   "metadata": {},
   "source": [
    "<b> Cluster 3"
   ]
  },
  {
   "cell_type": "code",
   "execution_count": null,
   "id": "6a2bc174",
   "metadata": {},
   "outputs": [],
   "source": [
    "# Value counts for Eventmsg\n",
    "eventmsg_counts = cluster_3_df['Eventmsg'].value_counts()\n",
    "\n",
    "# Remove the \"-\" value if it exists\n",
    "if '-' in eventmsg_counts.index:\n",
    "    eventmsg_counts = eventmsg_counts.drop('-')\n",
    "\n",
    "# Sort values in descending order\n",
    "eventmsg_counts = eventmsg_counts.sort_values(ascending=True)\n",
    "\n",
    "# Select the top 5 values\n",
    "top_eventmsg_counts = eventmsg_counts.head(5)\n",
    "\n",
    "# Value counts for Eventactionmsg\n",
    "eventactionmsg_counts = cluster_3_df['Eventactionmsg'].value_counts()\n",
    "\n",
    "# Remove the \"-\" value if it exists\n",
    "if '-' in eventactionmsg_counts.index:\n",
    "    eventactionmsg_counts = eventactionmsg_counts.drop('-')\n",
    "\n",
    "# Sort values in descending order\n",
    "eventactionmsg_counts = eventactionmsg_counts.sort_values(ascending=True)\n",
    "\n",
    "# Select the top 5 values\n",
    "top_eventactionmsg_counts = eventactionmsg_counts.head(5)\n",
    "\n",
    "# Create figure and axes\n",
    "fig, (ax1, ax2) = plt.subplots(1, 2, figsize=(12, 6))\n",
    "\n",
    "# Plot Eventmsg horizontal bar chart\n",
    "ax1.barh(top_eventmsg_counts.index, top_eventmsg_counts.values)\n",
    "ax1.set_xlabel('Count')\n",
    "ax1.set_ylabel('Eventmsg')\n",
    "ax1.set_title('Cluster 3 - Top 5 Eventmsg')\n",
    "\n",
    "# Plot Eventactionmsg horizontal bar chart\n",
    "ax2.barh(top_eventactionmsg_counts.index, top_eventactionmsg_counts.values)\n",
    "ax2.set_xlabel('Count')\n",
    "ax2.set_ylabel('Eventactionmsg')\n",
    "ax2.set_title('Cluster 3 - Top 5 Eventactionmsg')\n",
    "\n",
    "# Adjust spacing between subplots\n",
    "plt.tight_layout()\n",
    "\n",
    "# Display the plot\n",
    "plt.show()"
   ]
  },
  {
   "cell_type": "markdown",
   "id": "8067bcb7",
   "metadata": {},
   "source": [
    ">Cluster 3 represents players with high performance. In this cluster, players demonstrate exceptional skills by consistently making successful shots and earning opportunities to attempt free throws, which are awarded when fouled by an opposing player. The most common action used by players in this cluster is the turnaround fadeaway, running finger rol layup and jump bank shot. These actions highlight the players' ability to execute challenging and effective moves, contributing to their high-performance status within Cluster 3."
   ]
  },
  {
   "cell_type": "markdown",
   "id": "cb74b18b",
   "metadata": {},
   "source": [
    "## Summary"
   ]
  },
  {
   "cell_type": "code",
   "execution_count": null,
   "id": "9cacca1f",
   "metadata": {},
   "outputs": [],
   "source": []
  }
 ],
 "metadata": {
  "kernelspec": {
   "display_name": "Python 3 (ipykernel)",
   "language": "python",
   "name": "python3"
  },
  "language_info": {
   "codemirror_mode": {
    "name": "ipython",
    "version": 3
   },
   "file_extension": ".py",
   "mimetype": "text/x-python",
   "name": "python",
   "nbconvert_exporter": "python",
   "pygments_lexer": "ipython3",
   "version": "3.10.1"
  }
 },
 "nbformat": 4,
 "nbformat_minor": 5
}
