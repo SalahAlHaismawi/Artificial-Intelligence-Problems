{
 "cells": [
  {
   "cell_type": "markdown",
   "id": "6d81adfa",
   "metadata": {},
   "source": [
    "<img src=\"tic3151.png\" style=\"height: 70px; width: 200px\" align=left> \n",
    "<img src=\"logo-MMU.png\" style=\"height: 70px; width: 200px\" align=right> "
   ]
  },
  {
   "cell_type": "markdown",
   "id": "319a1af8",
   "metadata": {},
   "source": [
    "### Team members\n",
    "\n",
    "Ahmad Ayaan - 1191302794 \n",
    "\n",
    "Salah Fayeq y. AlHaismawi - 1201303035\n",
    "\n",
    "Aisha Sakinah Binti Saadon - 1191101867\n",
    "\n",
    "Aryssa Amanda Binti Azhar - 1191100575\n",
    "\n",
    "\n",
    "### The assignment contains following questions\n"
   ]
  },
  {
   "cell_type": "markdown",
   "id": "92e13a0d",
   "metadata": {},
   "source": [
    "# Installing Libraries\n",
    "\n",
    "##### Note: Uncomment the code the code to install the relevant libraries"
   ]
  },
  {
   "cell_type": "code",
   "execution_count": 59,
   "id": "c41f5244",
   "metadata": {},
   "outputs": [
    {
     "ename": "SyntaxError",
     "evalue": "invalid syntax (<ipython-input-59-54c4d1f45157>, line 2)",
     "output_type": "error",
     "traceback": [
      "\u001b[1;36m  File \u001b[1;32m\"<ipython-input-59-54c4d1f45157>\"\u001b[1;36m, line \u001b[1;32m2\u001b[0m\n\u001b[1;33m    pip install ortools.sat.python\u001b[0m\n\u001b[1;37m        ^\u001b[0m\n\u001b[1;31mSyntaxError\u001b[0m\u001b[1;31m:\u001b[0m invalid syntax\n"
     ]
    }
   ],
   "source": [
    "# pip install matplotlib.pyplot\n",
    "# pip install ortools\n",
    "# pip install pulp"
   ]
  },
  {
   "cell_type": "markdown",
   "id": "3b5d1a44",
   "metadata": {},
   "source": [
    "# Importing Libraries"
   ]
  },
  {
   "cell_type": "code",
   "execution_count": 77,
   "id": "533bec51",
   "metadata": {},
   "outputs": [],
   "source": [
    "from random import randint\n",
    "import random\n",
    "from tabulate import tabulate\n",
    "import matplotlib.pyplot as plt\n",
    "import constraint\n",
    "import pulp\n",
    "from ortools.sat.python import cp_model"
   ]
  },
  {
   "cell_type": "markdown",
   "id": "8b5aef07",
   "metadata": {},
   "source": [
    "# Question 1\n",
    "\n",
    "Year-end school holiday is coming soon. A kindergarten teacher would like to give each\n",
    "of the student in her class, an amazing holiday set by November 2023. There are 25\n",
    "students in her class consisting of 15 girls and 10 boys. She has approached you for\n",
    "help and provided the following details to you:\n",
    "\n",
    "• Budget for 25 holiday sets = RM 200.00\n",
    "\n",
    "• Each holiday set must be wrapped using a sheet of paper i.e. blue wrapper for\n",
    "boy’s holiday set and pink wrapper for girl’s holiday set. Each wrapper cost\n",
    "RM1.00\n",
    "\n",
    "• Each holiday set should have at least 2 items being stationery\n",
    "\n"
   ]
  },
  {
   "cell_type": "markdown",
   "id": "733dc0af",
   "metadata": {},
   "source": [
    "## Variables Declaration"
   ]
  },
  {
   "cell_type": "code",
   "execution_count": 3,
   "id": "e82136fa",
   "metadata": {},
   "outputs": [],
   "source": [
    "# Constant variables\n",
    "budget = 200.00\n",
    "minimum_stationary_item = 2\n",
    "wrapper_cost = 1.00\n",
    "\n",
    "# List of items and their prices\n",
    "items = [\n",
    "    (\"Chipsmore Biscuit\", 2.00),\n",
    "    (\"2B pencil\", 1.00),\n",
    "    (\"Color pencil\", 3.00),\n",
    "    (\"Magic pen\", 3.00),\n",
    "    (\"Potato chip\", 2.00),\n",
    "    (\"Milo packet\", 1.00),\n",
    "    (\"Mini sketch book\", 2.00),\n",
    "    (\"Milk biscuit\", 3.00)\n",
    "]\n",
    "\n",
    "mutation_rate = 0.1\n",
    "wrapper_cost = 1 * 25  # Wrapper cost for 25 sets"
   ]
  },
  {
   "cell_type": "markdown",
   "id": "f83bcd7c",
   "metadata": {},
   "source": [
    "## Population and Individuals\n",
    "\n"
   ]
  },
  {
   "cell_type": "code",
   "execution_count": 4,
   "id": "94049811",
   "metadata": {},
   "outputs": [],
   "source": [
    "def individuals():\n",
    "    return [random.randint(0, 1) for items in range(len(items))]\n",
    "\n",
    "def generate_population(population_size):\n",
    "    return [individuals() for x in range(population_size)]"
   ]
  },
  {
   "cell_type": "markdown",
   "id": "1efd853b",
   "metadata": {},
   "source": [
    "## Fitness Function\n",
    "\n",
    "The fitness function calculates the total cost of items in a chromosome, after deducting the cost of wrappers and ensuring that atleast 2 of the items are stationery."
   ]
  },
  {
   "cell_type": "code",
   "execution_count": 5,
   "id": "81b5aea4",
   "metadata": {},
   "outputs": [],
   "source": [
    "def fitness_function(chromosome):\n",
    "    total = 0\n",
    "    num_stationery_items = 0\n",
    "    num_items = 0\n",
    "    for i, j in enumerate(chromosome):\n",
    "        if j == 1:\n",
    "            # to calculate the total cost of the items present in the set\n",
    "            total += items[i][1]\n",
    "            num_items += 1\n",
    "            # to check if the current sets have stationery\n",
    "            if items[i][0] in [\"2B pencil\", \"Color pencil\", \"Magic pen\", \"Mini sketch book\"]:\n",
    "                num_stationery_items += 1\n",
    "\n",
    "    if num_stationery_items >= 2 and (total*25) + wrapper_cost <=budget:\n",
    "         # Calculate the fitness score based on the weighted sum of total cost and number of items\n",
    "        total_score = total * num_items\n",
    "        items_score = num_items * 10\n",
    "        score = total_score + items_score\n",
    "        #print(score)\n",
    "        return score\n",
    "    else:\n",
    "        return 0 if total <= 200 else -1"
   ]
  },
  {
   "cell_type": "markdown",
   "id": "02eec99a",
   "metadata": {},
   "source": [
    "## Selection Function"
   ]
  },
  {
   "cell_type": "code",
   "execution_count": 6,
   "id": "41e07ed9",
   "metadata": {},
   "outputs": [],
   "source": [
    "\"\"\"Perform selection using roulette wheel selection.\"\"\"\n",
    "def selection_roulette_wheel(population, fitness_values):\n",
    "    total_fitness = sum(fitness_values)\n",
    "    if total_fitness == 0:\n",
    "        probabilities = [1 / len(population)] * len(population)\n",
    "    else:\n",
    "        probabilities = [fitness / total_fitness for fitness in fitness_values]\n",
    "    selected = random.choices(population, weights=probabilities, k=2)\n",
    "    return selected[0], selected[1]\n",
    "\n",
    "\n",
    "\"\"\"Perform selection using rank selection.\"\"\"\n",
    "def selection_rank(population, fitness_values):\n",
    "    ranked_population = sorted(zip(population, fitness_values), key=lambda x: x[1], reverse=True)\n",
    "    selected = []\n",
    "    while len(selected) < 2:\n",
    "        for chromosome, fitness in ranked_population:\n",
    "            if fitness > 0:  # Select only individuals with positive fitness\n",
    "                selected.append(chromosome.copy())\n",
    "                if len(selected) == 2:\n",
    "                    break\n",
    "    return selected[0], selected[1]\n"
   ]
  },
  {
   "cell_type": "markdown",
   "id": "4d900d89",
   "metadata": {},
   "source": [
    "## Crossover Function"
   ]
  },
  {
   "cell_type": "code",
   "execution_count": 7,
   "id": "45b4d9c3",
   "metadata": {},
   "outputs": [],
   "source": [
    "\"\"\"Perform crossover using single point crossover.\"\"\"\n",
    "def crossover_single_point(parent1, parent2):\n",
    "    single_point = random.randint(1, len(parent1) - 1)\n",
    "    child1 = parent1[:single_point] + parent2[single_point:]\n",
    "    child2 = parent2[:single_point] + parent1[single_point:]\n",
    "    return child1, child2\n",
    "\n",
    "\"\"\"Perform crossover using two point crossover.\"\"\"\n",
    "def crossover_two_point(parent1, parent2):\n",
    "    two_point = sorted(random.sample(range(len(parent1)), 2))\n",
    "    child1 = parent1[:two_point[0]] + parent2[two_point[0]:two_point[1]] + parent1[two_point[1]:]\n",
    "    child2 = parent2[:two_point[0]] + parent1[two_point[0]:two_point[1]] + parent2[two_point[1]:]\n",
    "    return child1, child2"
   ]
  },
  {
   "cell_type": "markdown",
   "id": "1d43729b",
   "metadata": {},
   "source": [
    "## Mutation Function"
   ]
  },
  {
   "cell_type": "code",
   "execution_count": 8,
   "id": "611864b7",
   "metadata": {},
   "outputs": [],
   "source": [
    "\"\"\"Perform inversion mutation.\"\"\"\n",
    "def mutation_inversion(chromosome):\n",
    "    start = random.randint(0, len(chromosome) - 1)\n",
    "    end = random.randint(start + 1, len(chromosome))\n",
    "    mutated_chromosome = chromosome[:start] + chromosome[start:end][::-1] + chromosome[end:]\n",
    "    return mutated_chromosome\n",
    "\n",
    "\"\"\"Perform bit flipping mutation.\"\"\"\n",
    "def mutation_bit_flip(chromosome):\n",
    "    mutated_chromosome = chromosome[:]\n",
    "    for i in range(len(mutated_chromosome)):\n",
    "        if random.random() < mutation_rate:\n",
    "            mutated_chromosome[i] = 1 - mutated_chromosome[i]\n",
    "    return mutated_chromosome"
   ]
  },
  {
   "cell_type": "markdown",
   "id": "832a7ef1",
   "metadata": {},
   "source": [
    "## Main Function"
   ]
  },
  {
   "cell_type": "code",
   "execution_count": 9,
   "id": "06547353",
   "metadata": {},
   "outputs": [],
   "source": [
    "def evolve(population, fitness_values, selection_method, crossover_method, mutation_method):\n",
    "    next_generation = []\n",
    "    while len(next_generation) < 25:\n",
    "        parent1, parent2 = selection_method(population, fitness_values)\n",
    "        #print(parent1, parent2)\n",
    "        offspring1, offspring2 = crossover_method(parent1, parent2)\n",
    "        #print(offspring1, offspring2)\n",
    "        offspring1 = mutation_method(offspring1)\n",
    "        offspring2 = mutation_method(offspring2)\n",
    "        next_generation.extend([offspring1, offspring2])\n",
    "        #print(next_generation)\n",
    "    return next_generation[:25]\n"
   ]
  },
  {
   "cell_type": "code",
   "execution_count": 10,
   "id": "b5047dac",
   "metadata": {
    "scrolled": true
   },
   "outputs": [],
   "source": [
    "def main(selection_method, crossover_method, mutation_method):\n",
    "    # Generate an initial population\n",
    "    population = generate_population(25)\n",
    "    \n",
    "    # Calculate fitness values for each chromosome\n",
    "    fitness_values = [fitness_function(chromosome) for chromosome in population]\n",
    "    fitness_history = []\n",
    "\n",
    "    best_fitness = float('inf')\n",
    "    best_combination = []\n",
    "\n",
    "    for generation in range(100):\n",
    "        # Select parents and perform crossover and mutation\n",
    "        population = evolve(population, fitness_values, selection_method, crossover_method, mutation_method)\n",
    "\n",
    "        # Calculate fitness values for each chromosome\n",
    "        fitness_values = [fitness_function(chromosome) for chromosome in population]\n",
    "        fitness_history.append(max(fitness_values))\n",
    "\n",
    "       # Find the best fitness value and corresponding combination\n",
    "    best_fitness = max(fitness_values)\n",
    "    best_combination = population[fitness_values.index(best_fitness)].copy()\n",
    "\n",
    "\n",
    "    # Display the total combination and the content of the combination\n",
    "    print(\"Total Combination of Items: \")\n",
    "    total_combination = sum(best_combination)\n",
    "    print(total_combination)\n",
    "\n",
    "    print(\"Content of the Combination of Items:\")\n",
    "    selected_items = []\n",
    "    unit_price = 0\n",
    "    for i, item in enumerate(best_combination):\n",
    "        if item == 1:\n",
    "            item_name = items[i][0]\n",
    "            item_price = items[i][1]\n",
    "            unit_price += item_price\n",
    "            selected_items.append([item_name, item_price])\n",
    "            \n",
    "    selected_items.append(['Wrapper cost', '1'])\n",
    "    unit_price +=1\n",
    "    print(tabulate(selected_items, headers=[\"Item Name\", \"Price (RM)\"], tablefmt=\"grid\"))\n",
    "\n",
    "    print(\"Unit Price: \")\n",
    "    print(unit_price if best_fitness >= 0 else 0)\n",
    "    \n",
    "    print(\"Total Price: \")\n",
    "    print(unit_price * 25 if best_fitness >= 0 else 0)\n",
    "    \n",
    "    return best_combination, fitness_history\n"
   ]
  },
  {
   "cell_type": "markdown",
   "id": "cb6ef4f5",
   "metadata": {},
   "source": [
    "## Perfomance Assessment\n",
    "\n"
   ]
  },
  {
   "cell_type": "code",
   "execution_count": 11,
   "id": "74300149",
   "metadata": {},
   "outputs": [
    {
     "name": "stdout",
     "output_type": "stream",
     "text": [
      "Best holiday set (Selection Method: Ranked, Crossover Method: Single Point, Mutation Method: Inversion):\n",
      "\n",
      "Total Combination of Items: \n",
      "4\n",
      "Content of the Combination of Items:\n",
      "+-------------------+--------------+\n",
      "| Item Name         |   Price (RM) |\n",
      "+===================+==============+\n",
      "| Chipsmore Biscuit |            2 |\n",
      "+-------------------+--------------+\n",
      "| 2B pencil         |            1 |\n",
      "+-------------------+--------------+\n",
      "| Color pencil      |            3 |\n",
      "+-------------------+--------------+\n",
      "| Milo packet       |            1 |\n",
      "+-------------------+--------------+\n",
      "| Wrapper cost      |            1 |\n",
      "+-------------------+--------------+\n",
      "Unit Price: \n",
      "8.0\n",
      "Total Price: \n",
      "200.0\n"
     ]
    }
   ],
   "source": [
    "# Test 1\n",
    "print(\"Best holiday set (Selection Method: Ranked, Crossover Method: Single Point, Mutation Method: Inversion):\")\n",
    "print()\n",
    "best_holiday_set_1, fitness_history_1 = main(selection_roulette_wheel, crossover_two_point, mutation_bit_flip)"
   ]
  },
  {
   "cell_type": "code",
   "execution_count": 12,
   "id": "4b585569",
   "metadata": {},
   "outputs": [
    {
     "data": {
      "image/png": "[encoded data removed]",
      "text/plain": [
       "<Figure size 432x288 with 1 Axes>"
      ]
     },
     "metadata": {
      "needs_background": "light"
     },
     "output_type": "display_data"
    }
   ],
   "source": [
    "x = range(0,len(fitness_history_1))\n",
    "y = fitness_history_1\n",
    "\n",
    "plt.plot(x, y)\n",
    "\n",
    "plt.title(\"Best Fitness Values per Generation\")\n",
    "plt.xlabel(\"Generation\")\n",
    "plt.ylabel(\"Fitness value\")\n",
    "\n",
    "plt.show()"
   ]
  },
  {
   "cell_type": "markdown",
   "id": "5c8d0926",
   "metadata": {},
   "source": [
    "## Summary\n"
   ]
  },
  {
   "cell_type": "markdown",
   "id": "4ae8de4b",
   "metadata": {},
   "source": [
    "# Question 2\n",
    "\n"
   ]
  },
  {
   "cell_type": "markdown",
   "id": "6c90bd18",
   "metadata": {},
   "source": [
    "## OrTools Library"
   ]
  },
  {
   "cell_type": "code",
   "execution_count": 82,
   "id": "a86a0677",
   "metadata": {},
   "outputs": [
    {
     "name": "stdout",
     "output_type": "stream",
     "text": [
      "Feast schedule:\n",
      "+-------+---------------+---------------+---------------+---------------+---------------+---------------+\n",
      "|       | Time Slot 1   | Time Slot 2   | Time Slot 3   | Time Slot 4   | Time Slot 5   | Time Slot 6   |\n",
      "+=======+===============+===============+===============+===============+===============+===============+\n",
      "| Day 1 | Team 7        | Team 1        | Team 3        | Team 4        | Team 6        | Team 5        |\n",
      "+-------+---------------+---------------+---------------+---------------+---------------+---------------+\n",
      "| Day 2 | Team 5        | Team 4        | Team 6        | Team 2        | Team 1        | Team 7        |\n",
      "+-------+---------------+---------------+---------------+---------------+---------------+---------------+\n",
      "| Day 3 | Team 6        | Team 3        | Team 4        | Team 2        | Team 1        | Team 5        |\n",
      "+-------+---------------+---------------+---------------+---------------+---------------+---------------+\n",
      "| Day 4 | Team 7        | Team 5        | Team 3        | Team 2        | Team 4        | Team 6        |\n",
      "+-------+---------------+---------------+---------------+---------------+---------------+---------------+\n"
     ]
    }
   ],
   "source": [
    "slots = [1, 2, 3, 4, 5, 6]\n",
    "# Define the teams, days, and slots\n",
    "teams = [1, 2, 3, 4, 5, 6, 7]\n",
    "days = [1, 2, 3, 4]\n",
    "def solve_dodol_feast():\n",
    "\n",
    "\n",
    "\n",
    "    # Create the CP-SAT model\n",
    "    model = cp_model.CpModel()\n",
    "\n",
    "    # Create the decision variables\n",
    "    variables = {}\n",
    "    for day in days:\n",
    "        for slot in slots:\n",
    "            for team in teams:\n",
    "                variables[(day, slot, team)] = model.NewBoolVar(f'time_{team}_{day}_{slot}')\n",
    "\n",
    "    # Constraint 1: Each team must stir the pot for at least 8 hours during the feast\n",
    "    for team in teams:\n",
    "        model.Add(sum(variables[(day, slot, team)] for day in days for slot in slots) >= 2)\n",
    "\n",
    "    # Constraint 2: No team should stir the pot for more than 4 hours a day\n",
    "    for day in days:\n",
    "        for team in teams:\n",
    "            model.Add(sum(variables[(day, slot, team)] for slot in slots) <= 1)\n",
    "\n",
    "    # Constraint 3: No team should stir the pot consecutively\n",
    "    for day in days:\n",
    "        for slot in slots[1:]:\n",
    "            for team in teams:\n",
    "                model.Add(variables[(day, slot, team)] <= sum(variables[(day, slot - 1, t)] for t in teams if t != team))\n",
    "\n",
    "    # Constraint 4: Only one team should stir the pot in each time slot\n",
    "    for day in days:\n",
    "        for slot in slots:\n",
    "            model.Add(sum(variables[(day, slot, team)] for team in teams) == 1)\n",
    "\n",
    "    # Create the objective variable\n",
    "    objective_var = model.NewIntVar(0, len(days) * len(slots) * len(teams), 'objective')\n",
    "\n",
    "    # Constraint 5: Minimize the total number of team assignments\n",
    "    model.Add(objective_var == sum(variables[(day, slot, team)] for day in days for slot in slots for team in teams))\n",
    "\n",
    "    # Set the objective function\n",
    "    model.Minimize(objective_var)\n",
    "\n",
    "    # Create the solver and solve the model\n",
    "    solver = cp_model.CpSolver()\n",
    "    solver.parameters.log_search_progress = True\n",
    "    status = solver.Solve(model)\n",
    "\n",
    "    # Check if a solution is found\n",
    "    if status != cp_model.OPTIMAL:\n",
    "        print(\"No feasible solution found.\")\n",
    "        return None\n",
    "\n",
    "    # Extract the solution\n",
    "    solution = {}\n",
    "    for day in days:\n",
    "        for slot in slots:\n",
    "            for team in teams:\n",
    "                if solver.BooleanValue(variables[(day, slot, team)]):\n",
    "                    solution[(day, slot)] = team\n",
    "                    \n",
    "    return solution\n",
    "\n",
    "# Solve the dodol feast problem\n",
    "solution = solve_dodol_feast()\n",
    "\n",
    "# Print the solution\n",
    "if solution:\n",
    "    # Create a table to display the feast schedule\n",
    "    table = []\n",
    "    for day in days:\n",
    "        row = [f\"Day {day}\"]\n",
    "        for slot in slots:\n",
    "            team = solution.get((day, slot), \"-\")\n",
    "            row.append(f\"Team {team}\")\n",
    "        table.append(row)\n",
    "\n",
    "    # Display the feast schedule table\n",
    "    headers = [\"\"] + [f\"Time Slot {slot}\" for slot in slots]\n",
    "    print(\"Feast schedule:\")\n",
    "    print(tabulate(table, headers=headers, showindex=False, tablefmt=\"grid\"))\n"
   ]
  },
  {
   "cell_type": "markdown",
   "id": "7ca10397",
   "metadata": {},
   "source": [
    "## Pulp Library"
   ]
  },
  {
   "cell_type": "code",
   "execution_count": 76,
   "id": "464ecaae",
   "metadata": {},
   "outputs": [
    {
     "name": "stdout",
     "output_type": "stream",
     "text": [
      "Feast schedule:\n",
      "+-------+---------------+---------------+---------------+---------------+---------------+---------------+\n",
      "|       | Time Slot 1   | Time Slot 2   | Time Slot 3   | Time Slot 4   | Time Slot 5   | Time Slot 6   |\n",
      "+=======+===============+===============+===============+===============+===============+===============+\n",
      "| Day 1 | Team 1        | Team 3        | Team 4        | Team 5        | Team 7        | Team 6        |\n",
      "+-------+---------------+---------------+---------------+---------------+---------------+---------------+\n",
      "| Day 2 | Team 7        | Team 6        | Team 3        | Team 5        | Team 4        | Team 1        |\n",
      "+-------+---------------+---------------+---------------+---------------+---------------+---------------+\n",
      "| Day 3 | Team 4        | Team 7        | Team 3        | Team 2        | Team 5        | Team 1        |\n",
      "+-------+---------------+---------------+---------------+---------------+---------------+---------------+\n",
      "| Day 4 | Team 6        | Team 2        | Team 4        | Team 1        | Team 3        | Team 5        |\n",
      "+-------+---------------+---------------+---------------+---------------+---------------+---------------+\n"
     ]
    }
   ],
   "source": [
    "# Create a problem instance\n",
    "problem = pulp.LpProblem(\"DodolFeast\", pulp.LpMinimize)\n",
    "\n",
    "# Define the variables and domains\n",
    "teams = [1, 2, 3, 4, 5, 6, 7]\n",
    "days = [1, 2, 3, 4]\n",
    "time_slots = [1, 2, 3, 4, 5, 6]\n",
    "\n",
    "# Define the decision variables\n",
    "x = pulp.LpVariable.dicts(\"TeamAssignment\", (days, time_slots, teams), cat=\"Binary\")\n",
    "\n",
    "# Define the constraints\n",
    "for day in days:\n",
    "    # Constraint 1: Each team stirs the pot of dodol for four hours at a time\n",
    "    for time_slot in time_slots:\n",
    "        problem += pulp.lpSum(x[day][time_slot][team] for team in teams) == 1\n",
    "\n",
    "for time_slot in time_slots:\n",
    "    # Constraint 2: No team stirs the pot of dodol for more than four hours a day\n",
    "    for day in days:\n",
    "        problem += pulp.lpSum(x[day][time_slot][team] for team in teams) <= 1\n",
    "\n",
    "# Constraint 3: Each team stirs the pot of dodol for at least 2 slots during the entire feast\n",
    "for team in teams:\n",
    "    problem += pulp.lpSum(x[day][time_slot][team] for day in days for time_slot in time_slots) >= 2\n",
    "\n",
    "# Constraint 4: No team can be assigned to multiple time slots on the same day\n",
    "for day in days:\n",
    "    for team in teams:\n",
    "        problem += pulp.lpSum(x[day][time_slot][team] for time_slot in time_slots) <= 1\n",
    "\n",
    "# Solve the problem\n",
    "problem.solve()\n",
    "\n",
    "# Create a table to display the duty rosters\n",
    "table = []\n",
    "for day in days:\n",
    "    row = [f\"Day {day}\"]\n",
    "    for time_slot in time_slots:\n",
    "        team_assigned = [f\"Team {team}\" for team in teams if pulp.value(x[day][time_slot][team]) == 1]\n",
    "        row.append(\", \".join(team_assigned))\n",
    "    table.append(row)\n",
    "\n",
    "# Display the duty rosters table\n",
    "headers = [\"\"] + [f\"Time Slot {ts}\" for ts in time_slots]\n",
    "print(\"Feast schedule:\")\n",
    "print(tabulate(table, headers=headers, showindex=False, tablefmt=\"grid\"))\n"
   ]
  },
  {
   "cell_type": "markdown",
   "id": "e7cce1d3",
   "metadata": {},
   "source": [
    "## Summary"
   ]
  },
  {
   "cell_type": "markdown",
   "id": "ca7d9ecf",
   "metadata": {},
   "source": [
    "# Question 3\n"
   ]
  },
  {
   "cell_type": "code",
   "execution_count": null,
   "id": "2385dc77",
   "metadata": {},
   "outputs": [],
   "source": []
  },
  {
   "cell_type": "code",
   "execution_count": null,
   "id": "41b3a17e",
   "metadata": {},
   "outputs": [],
   "source": []
  },
  {
   "cell_type": "markdown",
   "id": "cb74b18b",
   "metadata": {},
   "source": [
    "## Summary"
   ]
  },
  {
   "cell_type": "code",
   "execution_count": null,
   "id": "9cacca1f",
   "metadata": {},
   "outputs": [],
   "source": []
  }
 ],
 "metadata": {
  "kernelspec": {
   "display_name": "Python 3",
   "language": "python",
   "name": "python3"
  },
  "language_info": {
   "codemirror_mode": {
    "name": "ipython",
    "version": 3
   },
   "file_extension": ".py",
   "mimetype": "text/x-python",
   "name": "python",
   "nbconvert_exporter": "python",
   "pygments_lexer": "ipython3",
   "version": "3.8.8"
  }
 },
 "nbformat": 4,
 "nbformat_minor": 5
}
