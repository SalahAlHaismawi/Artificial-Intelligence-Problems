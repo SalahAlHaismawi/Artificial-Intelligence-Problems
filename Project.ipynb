{
 "cells": [
  {
   "attachments": {},
   "cell_type": "markdown",
   "id": "6d81adfa",
   "metadata": {},
   "source": [
    "<img src=\"tic3151.png\" style=\"height: 70px; width: 200px\" align=left> \n",
    "<img src=\"logo-MMU.png\" style=\"height: 70px; width: 200px\" align=right> "
   ]
  },
  {
   "attachments": {},
   "cell_type": "markdown",
   "id": "319a1af8",
   "metadata": {},
   "source": [
    "### Team members\n",
    "\n",
    "Ahmad Ayaan - 1191302794 \n",
    "\n",
    "Salah Fayeq y. AlHaismawi - 1201303035\n",
    "\n",
    "Aisha Sakinah Binti Saadon - 1191101867\n",
    "\n",
    "Aryssa Amanda Binti Azhar - 1191100575\n",
    "\n",
    "\n",
    "### The assignment contains following questions\n"
   ]
  },
  {
   "attachments": {},
   "cell_type": "markdown",
   "id": "92e13a0d",
   "metadata": {},
   "source": [
    "# Installing Libraries\n",
    "\n",
    "##### Note: Uncomment the code the code to install the relevant libraries"
   ]
  },
  {
   "cell_type": "code",
   "execution_count": 1,
   "id": "c41f5244",
   "metadata": {},
   "outputs": [],
   "source": [
    "# pip install matplotlib.pyplot"
   ]
  },
  {
   "attachments": {},
   "cell_type": "markdown",
   "id": "3b5d1a44",
   "metadata": {},
   "source": [
    "# Importing Libraries"
   ]
  },
  {
   "cell_type": "code",
   "execution_count": 2,
   "id": "533bec51",
   "metadata": {},
   "outputs": [],
   "source": [
    "from random import randint\n",
    "import random\n",
    "from tabulate import tabulate\n",
    "import matplotlib.pyplot as plt\n",
    "import constraint"
   ]
  },
  {
   "attachments": {},
   "cell_type": "markdown",
   "id": "8b5aef07",
   "metadata": {},
   "source": [
    "# Question 1\n",
    "\n",
    "Year-end school holiday is coming soon. A kindergarten teacher would like to give each\n",
    "of the student in her class, an amazing holiday set by November 2023. There are 25\n",
    "students in her class consisting of 15 girls and 10 boys. She has approached you for\n",
    "help and provided the following details to you:\n",
    "\n",
    "• Budget for 25 holiday sets = RM 200.00\n",
    "\n",
    "• Each holiday set must be wrapped using a sheet of paper i.e. blue wrapper for\n",
    "boy’s holiday set and pink wrapper for girl’s holiday set. Each wrapper cost\n",
    "RM1.00\n",
    "\n",
    "• Each holiday set should have at least 2 items being stationery\n",
    "\n"
   ]
  },
  {
   "attachments": {},
   "cell_type": "markdown",
   "id": "733dc0af",
   "metadata": {},
   "source": [
    "## Variables Declaration"
   ]
  },
  {
   "cell_type": "code",
   "execution_count": 3,
   "id": "e82136fa",
   "metadata": {},
   "outputs": [],
   "source": [
    "# Constant variables\n",
    "budget = 200.00\n",
    "minimum_stationary_item = 2\n",
    "wrapper_cost = 1.00\n",
    "\n",
    "# List of items and their prices\n",
    "items = [\n",
    "    (\"Chipsmore Biscuit\", 2.00),\n",
    "    (\"2B pencil\", 1.00),\n",
    "    (\"Color pencil\", 3.00),\n",
    "    (\"Magic pen\", 3.00),\n",
    "    (\"Potato chip\", 2.00),\n",
    "    (\"Milo packet\", 1.00),\n",
    "    (\"Mini sketch book\", 2.00),\n",
    "    (\"Milk biscuit\", 3.00)\n",
    "]\n",
    "\n",
    "mutation_rate = 0.1\n",
    "wrapper_cost = 1 * 25  # Wrapper cost for 25 sets"
   ]
  },
  {
   "attachments": {},
   "cell_type": "markdown",
   "id": "f83bcd7c",
   "metadata": {},
   "source": [
    "## Population and Individuals\n",
    "\n"
   ]
  },
  {
   "cell_type": "code",
   "execution_count": 4,
   "id": "94049811",
   "metadata": {},
   "outputs": [],
   "source": [
    "def individuals():\n",
    "    return [random.randint(0, 1) for items in range(len(items))]\n",
    "\n",
    "def generate_population(population_size):\n",
    "    return [individuals() for x in range(population_size)]"
   ]
  },
  {
   "attachments": {},
   "cell_type": "markdown",
   "id": "1efd853b",
   "metadata": {},
   "source": [
    "## Fitness Function\n",
    "\n",
    "The fitness function calculates the total cost of items in a chromosome, after deducting the cost of wrappers and ensuring that atleast 2 of the items are stationery."
   ]
  },
  {
   "cell_type": "code",
   "execution_count": 5,
   "id": "81b5aea4",
   "metadata": {},
   "outputs": [],
   "source": [
    "def fitness_function(chromosome):\n",
    "    total = 0\n",
    "    num_stationery_items = 0\n",
    "    num_items = 0\n",
    "    for i, j in enumerate(chromosome):\n",
    "        if j == 1:\n",
    "            # to calculate the total cost of the items present in the set\n",
    "            total += items[i][1]\n",
    "            num_items += 1\n",
    "            # to check if the current sets have stationery\n",
    "            if items[i][0] in [\"2B pencil\", \"Color pencil\", \"Magic pen\", \"Mini sketch book\"]:\n",
    "                num_stationery_items += 1\n",
    "\n",
    "    if num_stationery_items >= 2 and (total*25) + wrapper_cost <=200:\n",
    "         # Calculate the fitness score based on the weighted sum of total cost and number of items\n",
    "        total_score = total * num_items\n",
    "        items_score = num_items * 10\n",
    "        score = total_score + items_score\n",
    "        #print(score)\n",
    "        return score\n",
    "    else:\n",
    "        return 0 if total <= 200 else -1"
   ]
  },
  {
   "attachments": {},
   "cell_type": "markdown",
   "id": "02eec99a",
   "metadata": {},
   "source": [
    "## Selection Function"
   ]
  },
  {
   "cell_type": "code",
   "execution_count": 6,
   "id": "41e07ed9",
   "metadata": {},
   "outputs": [],
   "source": [
    "\"\"\"Perform selection using roulette wheel selection.\"\"\"\n",
    "def selection_roulette_wheel(population, fitness_values):\n",
    "    total_fitness = sum(fitness_values)\n",
    "    if total_fitness == 0:\n",
    "        probabilities = [1 / len(population)] * len(population)\n",
    "    else:\n",
    "        probabilities = [fitness / total_fitness for fitness in fitness_values]\n",
    "    selected = random.choices(population, weights=probabilities, k=2)\n",
    "    return selected[0], selected[1]\n",
    "\n",
    "\n",
    "\"\"\"Perform selection using rank selection.\"\"\"\n",
    "def selection_rank(population, fitness_values):\n",
    "    ranked_population = sorted(zip(population, fitness_values), key=lambda x: x[1], reverse=True)\n",
    "    selected = []\n",
    "    while len(selected) < 2:\n",
    "        for chromosome, fitness in ranked_population:\n",
    "            if fitness > 0:  # Select only individuals with positive fitness\n",
    "                selected.append(chromosome.copy())\n",
    "                if len(selected) == 2:\n",
    "                    break\n",
    "    return selected[0], selected[1]\n"
   ]
  },
  {
   "attachments": {},
   "cell_type": "markdown",
   "id": "4d900d89",
   "metadata": {},
   "source": [
    "## Crossover Function"
   ]
  },
  {
   "cell_type": "code",
   "execution_count": 7,
   "id": "45b4d9c3",
   "metadata": {},
   "outputs": [],
   "source": [
    "\"\"\"Perform crossover using single point crossover.\"\"\"\n",
    "def crossover_single_point(parent1, parent2):\n",
    "    single_point = random.randint(1, len(parent1) - 1)\n",
    "    child1 = parent1[:single_point] + parent2[single_point:]\n",
    "    child2 = parent2[:single_point] + parent1[single_point:]\n",
    "    return child1, child2\n",
    "\n",
    "\"\"\"Perform crossover using two point crossover.\"\"\"\n",
    "def crossover_two_point(parent1, parent2):\n",
    "    two_point = sorted(random.sample(range(len(parent1)), 2))\n",
    "    child1 = parent1[:two_point[0]] + parent2[two_point[0]:two_point[1]] + parent1[two_point[1]:]\n",
    "    child2 = parent2[:two_point[0]] + parent1[two_point[0]:two_point[1]] + parent2[two_point[1]:]\n",
    "    return child1, child2"
   ]
  },
  {
   "attachments": {},
   "cell_type": "markdown",
   "id": "1d43729b",
   "metadata": {},
   "source": [
    "## Mutation Function"
   ]
  },
  {
   "cell_type": "code",
   "execution_count": 8,
   "id": "611864b7",
   "metadata": {},
   "outputs": [],
   "source": [
    "\"\"\"Perform inversion mutation.\"\"\"\n",
    "def mutation_inversion(chromosome):\n",
    "    start = random.randint(0, len(chromosome) - 1)\n",
    "    end = random.randint(start + 1, len(chromosome))\n",
    "    mutated_chromosome = chromosome[:start] + chromosome[start:end][::-1] + chromosome[end:]\n",
    "    return mutated_chromosome\n",
    "\n",
    "\"\"\"Perform bit flipping mutation.\"\"\"\n",
    "def mutation_bit_flip(chromosome):\n",
    "    mutated_chromosome = chromosome[:]\n",
    "    for i in range(len(mutated_chromosome)):\n",
    "        if random.random() < mutation_rate:\n",
    "            mutated_chromosome[i] = 1 - mutated_chromosome[i]\n",
    "    return mutated_chromosome"
   ]
  },
  {
   "attachments": {},
   "cell_type": "markdown",
   "id": "832a7ef1",
   "metadata": {},
   "source": [
    "## Main Function"
   ]
  },
  {
   "cell_type": "code",
   "execution_count": 9,
   "id": "06547353",
   "metadata": {},
   "outputs": [],
   "source": [
    "def evolve(population, fitness_values, selection_method, crossover_method, mutation_method):\n",
    "    next_generation = []\n",
    "    while len(next_generation) < 25:\n",
    "        parent1, parent2 = selection_method(population, fitness_values)\n",
    "        #print(parent1, parent2)\n",
    "        offspring1, offspring2 = crossover_method(parent1, parent2)\n",
    "        #print(offspring1, offspring2)\n",
    "        offspring1 = mutation_method(offspring1)\n",
    "        offspring2 = mutation_method(offspring2)\n",
    "        next_generation.extend([offspring1, offspring2])\n",
    "        #print(next_generation)\n",
    "    return next_generation[:25]\n"
   ]
  },
  {
   "cell_type": "code",
   "execution_count": 13,
   "id": "b5047dac",
   "metadata": {
    "scrolled": true
   },
   "outputs": [],
   "source": [
    "def main(selection_method, crossover_method, mutation_method):\n",
    "    # Generate an initial population\n",
    "    population = generate_population(25)\n",
    "    \n",
    "    # Calculate fitness values for each chromosome\n",
    "    fitness_values = [fitness_function(chromosome) for chromosome in population]\n",
    "    fitness_history = []\n",
    "\n",
    "    best_fitness = float('inf')\n",
    "    best_combination = []\n",
    "\n",
    "    for generation in range(150):\n",
    "        # Select parents and perform crossover and mutation\n",
    "        population = evolve(population, fitness_values, selection_method, crossover_method, mutation_method)\n",
    "\n",
    "        # Calculate fitness values for each chromosome\n",
    "        fitness_values = [fitness_function(chromosome) for chromosome in population]\n",
    "        fitness_history.append(max(fitness_values))\n",
    "\n",
    "       # Find the best fitness value and corresponding combination\n",
    "    best_fitness = max(fitness_values)\n",
    "    best_combination = population[fitness_values.index(best_fitness)].copy()\n",
    "\n",
    "\n",
    "    # Display the total combination and the content of the combination\n",
    "    print(\"Total Combination of Items: \")\n",
    "    total_combination = sum(best_combination)\n",
    "    print(total_combination)\n",
    "\n",
    "    print(\"Content of the Combination of Items:\")\n",
    "    selected_items = []\n",
    "    unit_price = 0\n",
    "    for i, item in enumerate(best_combination):\n",
    "        if item == 1:\n",
    "            item_name = items[i][0]\n",
    "            item_price = items[i][1]\n",
    "            unit_price += item_price\n",
    "            selected_items.append([item_name, item_price])\n",
    "            \n",
    "    selected_items.append(['Wrapper cost', '1'])\n",
    "    unit_price +=1\n",
    "    print(tabulate(selected_items, headers=[\"Item Name\", \"Price (RM)\"], tablefmt=\"grid\"))\n",
    "\n",
    "    print(\"Unit Price: \")\n",
    "    print(unit_price if best_fitness >= 0 else 0)\n",
    "    \n",
    "    print(\"Total Price: \")\n",
    "    print(unit_price * 25 if best_fitness >= 0 else 0)\n",
    "    \n",
    "    return best_combination, fitness_history\n"
   ]
  },
  {
   "attachments": {},
   "cell_type": "markdown",
   "id": "cb6ef4f5",
   "metadata": {},
   "source": [
    "## Perfomance Assessment\n",
    "\n"
   ]
  },
  {
   "cell_type": "code",
   "execution_count": 16,
   "id": "74300149",
   "metadata": {},
   "outputs": [
    {
     "name": "stdout",
     "output_type": "stream",
     "text": [
      "Best holiday set (Selection Method: Ranked, Crossover Method: Single Point, Mutation Method: Inversion):\n",
      "\n",
      "Total Combination of Items: \n",
      "4\n",
      "Content of the Combination of Items:\n",
<<<<<<< Updated upstream
      "+--------------+--------------+\n",
      "| Item Name    |   Price (RM) |\n",
      "+==============+==============+\n",
      "| 2B pencil    |            1 |\n",
      "+--------------+--------------+\n",
      "| Magic pen    |            3 |\n",
      "+--------------+--------------+\n",
      "| Potato chip  |            2 |\n",
      "+--------------+--------------+\n",
      "| Milo packet  |            1 |\n",
      "+--------------+--------------+\n",
      "| Wrapper cost |            1 |\n",
      "+--------------+--------------+\n",
=======
      "+------------------+--------------+\n",
      "| Item Name        |   Price (RM) |\n",
      "+==================+==============+\n",
      "| 2B pencil        |            1 |\n",
      "+------------------+--------------+\n",
      "| Magic pen        |            3 |\n",
      "+------------------+--------------+\n",
      "| Milo packet      |            1 |\n",
      "+------------------+--------------+\n",
      "| Mini sketch book |            2 |\n",
      "+------------------+--------------+\n",
      "| Wrapper cost     |            1 |\n",
      "+------------------+--------------+\n",
>>>>>>> Stashed changes
      "Unit Price: \n",
      "8.0\n",
      "Total Price: \n",
      "200.0\n"
     ]
    }
   ],
   "source": [
    "# Test 1\n",
    "print(\"Best holiday set (Selection Method: Ranked, Crossover Method: Single Point, Mutation Method: Inversion):\")\n",
    "print()\n",
    "best_holiday_set_1, fitness_history_1 = main(selection_roulette_wheel, crossover_two_point, mutation_bit_flip)"
   ]
  },
  {
   "cell_type": "code",
   "execution_count": 18,
   "id": "4b585569",
   "metadata": {},
   "outputs": [
    {
     "data": {
<<<<<<< Updated upstream
      "image/png": "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",
=======
      "image/png": "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\n",
>>>>>>> Stashed changes
      "text/plain": [
       "<Figure size 432x288 with 1 Axes>"
      ]
     },
     "metadata": {
      "needs_background": "light"
     },
     "output_type": "display_data"
    }
   ],
   "source": [
    "x = range(0,len(fitness_history_1))\n",
    "y = fitness_history_1\n",
    "\n",
    "plt.plot(x, y)\n",
    "\n",
    "plt.title(\"Best Fitness Values per Generation\")\n",
    "plt.xlabel(\"Generation\")\n",
    "plt.ylabel(\"Fitness value\")\n",
    "\n",
    "plt.show()"
   ]
  },
  {
   "attachments": {},
   "cell_type": "markdown",
   "id": "5c8d0926",
   "metadata": {},
   "source": [
    "## Summary\n"
   ]
  },
  {
   "attachments": {},
   "cell_type": "markdown",
   "id": "4ae8de4b",
   "metadata": {},
   "source": [
    "# Question 2\n",
    "\n"
   ]
  },
  {
   "attachments": {},
   "cell_type": "markdown",
   "id": "4816eecf",
   "metadata": {},
   "source": [
    "## Defining variables"
   ]
  },
  {
   "cell_type": "code",
   "execution_count": 60,
   "id": "52de3cf2",
   "metadata": {},
   "outputs": [],
   "source": [
    "# Create a problem instance\n",
    "problem = constraint.Problem()\n",
    "\n",
    "# Define the variables\n",
    "teams = range(1, 8)\n",
    "days = range(1, 5)\n",
    "time_slots = range(0, 24, 4)\n",
    "\n",
    "\n",
    "# Add variables to the problem\n",
    "for team in teams:\n",
    "    problem.addVariable(team, days)\n",
    "    for day in days:\n",
    "        problem.addVariable(f\"time_{team}_{day}\", time_slots)"
   ]
  },
  {
   "attachments": {},
   "cell_type": "markdown",
   "id": "6c90bd18",
   "metadata": {},
   "source": [
<<<<<<< Updated upstream
    "## Defining constraints"
=======
    "## Variable Declarations"
>>>>>>> Stashed changes
   ]
  },
  {
   "cell_type": "code",
<<<<<<< Updated upstream
   "execution_count": 61,
   "id": "a86a0677",
   "metadata": {},
   "outputs": [],
   "source": [
    "# Define the constraints\n",
    "def each_team_four_hours(*args):\n",
    "    return sum(args) == 4\n",
    "\n",
    "def no_team_more_than_four_hours(*args):\n",
    "    return sum(args) <= 4\n",
    "\n",
    "def at_least_eight_hours(*args):\n",
    "    return sum(args) >= 8\n",
    "\n",
    "\n",
    "def dodol_feast():\n",
    "    # Constraint 1: Each team should stir the pot of dodol for 4 hours on each day\n",
    "    for day in days:\n",
    "        problem.addConstraint(each_team_four_hours, [f\"time_{team}_{day}\" for team in teams])\n",
=======
   "execution_count": 13,
   "id": "0196b82d",
   "metadata": {},
   "outputs": [],
   "source": [
    "# Define the teams, days, and slots\n",
    "slots = [1, 2, 3, 4, 5, 6]\n",
    "teams = [1, 2, 3, 4, 5, 6, 7]\n",
    "days = [1, 2, 3, 4]\n",
    "solution_limit = 100  # Number of solutions to print"
   ]
  },
  {
   "cell_type": "markdown",
   "id": "86ff5a57",
   "metadata": {},
   "source": [
    " ## Dodol Feast Function"
   ]
  },
  {
   "cell_type": "code",
   "execution_count": 18,
   "id": "a86a0677",
   "metadata": {},
   "outputs": [],
   "source": [
    "def solve_dodol_feast(minimum_slot):\n",
    "    # Create the CP-SAT model\n",
    "    model = cp_model.CpModel()\n",
    "\n",
    "    # Create the decision variables\n",
    "    variables = {}\n",
    "    for day in days:\n",
    "        for slot in slots:\n",
    "            for team in teams:\n",
    "                variables[(day, slot, team)] = model.NewBoolVar(f'time_{team}_{day}_{slot}')\n",
    "\n",
    "    # Constraint 1: Each team must stir the pot for at least 3 times during the feast\n",
    "    for team in teams:\n",
    "        model.Add(sum(variables[(day, slot, team)] for day in days for slot in slots) >= minimum_slot)\n",
>>>>>>> Stashed changes
    "\n",
    "    # Constraint 2: No team should stir the pot for more than 4 hours a day\n",
    "    for team in teams:\n",
    "        problem.addConstraint(no_team_more_than_four_hours, [f\"time_{team}_{day}\" for day in days])\n",
    "\n",
    "    # Constraint 3: Each team should stir the pot for at least 8 hours during the entire dodol feast\n",
    "    problem.addConstraint(at_least_eight_hours, [f\"time_{team}_{day}\" for team in teams for day in days])\n",
    "    \n",
    "    # Constraint 4:  No team should have consecutive shifts\n",
    "    for team1 in teams:\n",
    "        for team2 in teams:\n",
    "            if team1 != team2:\n",
    "                for day1 in days:\n",
    "                    for day2 in days:\n",
    "                        if day1 != day2:\n",
    "                            problem.addConstraint(lambda t1, t2, d1, d2: (t1 + 4) % 8 <= t2 or (t2 + 4) % 8 <= t1,\n",
    "                                                  (team1, team2, day1, day2))\n",
    "    \n",
    "\n",
<<<<<<< Updated upstream
    "    return problem"
=======
    "    # Constraint 4: Only one team should stir the pot in each time slot\n",
    "    for day in days:\n",
    "        for slot in slots:\n",
    "            model.Add(sum(variables[(day, slot, team)] for team in teams) == 1)\n",
    "\n",
    "    # Create the objective variable\n",
    "    objective_var = model.NewIntVar(0, len(days) * len(slots) * len(teams), 'objective')\n",
    "\n",
    "    # Constraint 5: Minimize the total number of team assignments\n",
    "    model.Add(objective_var == sum(variables[(day, slot, team)] for day in days for slot in slots for team in teams))\n",
    "\n",
    "    # Set the objective function\n",
    "    model.Minimize(objective_var)\n",
    "\n",
    "    # Create the solver\n",
    "    solver = cp_model.CpSolver()\n",
    "    solver.parameters.log_search_progress = True\n",
    "    solutions_found = 0\n",
    "    all_solutions = []\n",
    "\n",
    "    while solutions_found < solution_limit:\n",
    "        status = solver.Solve(model)\n",
    "\n",
    "        # Check if a solution is found\n",
    "        if status != cp_model.OPTIMAL:\n",
    "            print(\"No feasible solution found.\")\n",
    "            break\n",
    "\n",
    "        # Extract the solution\n",
    "        solution = {}\n",
    "        for day in days:\n",
    "            for slot in slots:\n",
    "                for team in teams:\n",
    "                    if solver.BooleanValue(variables[(day, slot, team)]):\n",
    "                        solution[(day, slot)] = team\n",
    "\n",
    "        all_solutions.append(solution)\n",
    "        solutions_found += 1\n",
    "\n",
    "        # Add a new constraint to prevent finding the same solution again\n",
    "        model.Add(sum(variables[(day, slot, team)] for day in days for slot in slots for team in teams\n",
    "                      if solution.get((day, slot)) == team) <= len(solution) - 1)\n",
    "\n",
    "    return all_solutions"
   ]
  },
  {
   "cell_type": "markdown",
   "id": "792189f1",
   "metadata": {},
   "source": [
    "## Printing Sample Solutions"
   ]
  },
  {
   "cell_type": "code",
   "execution_count": 19,
   "id": "9e3e14f2",
   "metadata": {},
   "outputs": [
    {
     "name": "stdout",
     "output_type": "stream",
     "text": [
      "Sample Feast schedule:\n",
      "+-------+---------------+---------------+---------------+---------------+---------------+---------------+\n",
      "|       | Time Slot 1   | Time Slot 2   | Time Slot 3   | Time Slot 4   | Time Slot 5   | Time Slot 6   |\n",
      "+=======+===============+===============+===============+===============+===============+===============+\n",
      "| Day 1 | Team 7        | Team 6        | Team 5        | Team 3        | Team 2        | Team 1        |\n",
      "+-------+---------------+---------------+---------------+---------------+---------------+---------------+\n",
      "| Day 2 | Team 7        | Team 5        | Team 4        | Team 3        | Team 2        | Team 1        |\n",
      "+-------+---------------+---------------+---------------+---------------+---------------+---------------+\n",
      "| Day 3 | Team 6        | Team 5        | Team 4        | Team 3        | Team 2        | Team 1        |\n",
      "+-------+---------------+---------------+---------------+---------------+---------------+---------------+\n",
      "| Day 4 | Team 7        | Team 5        | Team 4        | Team 3        | Team 2        | Team 1        |\n",
      "+-------+---------------+---------------+---------------+---------------+---------------+---------------+\n"
     ]
    }
   ],
   "source": [
    "# Solve the dodol feast problem and print one solution with minimum_slot = 2\n",
    "solution_1 = solve_dodol_feast(2)\n",
    "\n",
    "# Print one sample solution\n",
    "if solution_1:\n",
    "    sample_solution = solution_1[0]  # Get the first solution from the list\n",
    "    table = []\n",
    "    for day in days:\n",
    "        row = [f\"Day {day}\"]\n",
    "        for slot in slots:\n",
    "            team = sample_solution.get((day, slot), \"-\")\n",
    "            row.append(f\"Team {team}\")\n",
    "        table.append(row)\n",
    "\n",
    "    # Display the feast schedule table\n",
    "    headers = [\"\"] + [f\"Time Slot {slot}\" for slot in slots]\n",
    "    print(\"Sample Feast schedule:\")\n",
    "    print(tabulate(table, headers=headers, showindex=False, tablefmt=\"grid\"))\n"
   ]
  },
  {
   "cell_type": "code",
   "execution_count": 20,
   "id": "4d9f5be6",
   "metadata": {
    "scrolled": true
   },
   "outputs": [
    {
     "name": "stdout",
     "output_type": "stream",
     "text": [
      "Sample Feast schedule:\n",
      "+-------+---------------+---------------+---------------+---------------+---------------+---------------+\n",
      "|       | Time Slot 1   | Time Slot 2   | Time Slot 3   | Time Slot 4   | Time Slot 5   | Time Slot 6   |\n",
      "+=======+===============+===============+===============+===============+===============+===============+\n",
      "| Day 1 | Team 6        | Team 5        | Team 2        | Team 4        | Team 1        | Team 7        |\n",
      "+-------+---------------+---------------+---------------+---------------+---------------+---------------+\n",
      "| Day 2 | Team 7        | Team 6        | Team 4        | Team 3        | Team 2        | Team 1        |\n",
      "+-------+---------------+---------------+---------------+---------------+---------------+---------------+\n",
      "| Day 3 | Team 6        | Team 5        | Team 4        | Team 3        | Team 2        | Team 1        |\n",
      "+-------+---------------+---------------+---------------+---------------+---------------+---------------+\n",
      "| Day 4 | Team 7        | Team 5        | Team 4        | Team 3        | Team 2        | Team 1        |\n",
      "+-------+---------------+---------------+---------------+---------------+---------------+---------------+\n"
     ]
    }
   ],
   "source": [
    "# Solve the dodol feast problem and print one solution with minimum_slot = 3\n",
    "solution_2 = solve_dodol_feast(3)\n",
    "\n",
    "# Print one sample solution\n",
    "if solution_2:\n",
    "    sample_solution = solution_2[0]  # Get the first solution from the list\n",
    "    table = []\n",
    "    for day in days:\n",
    "        row = [f\"Day {day}\"]\n",
    "        for slot in slots:\n",
    "            team = sample_solution.get((day, slot), \"-\")\n",
    "            row.append(f\"Team {team}\")\n",
    "        table.append(row)\n",
    "\n",
    "    # Display the feast schedule table\n",
    "    headers = [\"\"] + [f\"Time Slot {slot}\" for slot in slots]\n",
    "    print(\"Sample Feast schedule:\")\n",
    "    print(tabulate(table, headers=headers, showindex=False, tablefmt=\"grid\"))\n"
>>>>>>> Stashed changes
   ]
  },
  {
   "attachments": {},
   "cell_type": "markdown",
<<<<<<< Updated upstream
   "id": "9e82d356",
=======
   "id": "f5964f17",
   "metadata": {},
   "source": [
    "## Plotting Graph to showcase difference"
   ]
  },
  {
   "cell_type": "code",
   "execution_count": 24,
   "id": "9e7345f5",
   "metadata": {
    "scrolled": true
   },
   "outputs": [
    {
     "data": {
      "image/png": "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\n",
      "text/plain": [
       "<Figure size 864x432 with 2 Axes>"
      ]
     },
     "metadata": {
      "needs_background": "light"
     },
     "output_type": "display_data"
    }
   ],
   "source": [
    "# Create subplots for Solution 1 and Solution 2\n",
    "fig, (ax1, ax2) = plt.subplots(1, 2, figsize=(12, 6))\n",
    "\n",
    "# Plot for Solution 1\n",
    "ax1.bar(teams_labels, average_slots_values_1)\n",
    "ax1.set_xlabel('Team')\n",
    "ax1.set_ylabel('Average Slots Worked')\n",
    "ax1.set_title('Average Number of Slots Worked for Each Team (Solution 1)')\n",
    "\n",
    "# Plot for Solution 2\n",
    "ax2.bar(teams_labels, average_slots_values_2)\n",
    "ax2.set_xlabel('Team')\n",
    "ax2.set_ylabel('Average Slots Worked')\n",
    "ax2.set_title('Average Number of Slots Worked for Each Team (Solution 2)')\n",
    "\n",
    "# Adjust spacing between subplots\n",
    "plt.tight_layout()\n",
    "\n",
    "# Show the plot\n",
    "plt.show()\n"
   ]
  },
  {
   "cell_type": "markdown",
   "id": "dc6d39f4",
>>>>>>> Stashed changes
   "metadata": {},
   "source": [
    "## Main Function"
   ]
  },
  {
   "cell_type": "code",
<<<<<<< Updated upstream
   "execution_count": 62,
   "id": "464ecaae",
   "metadata": {},
   "outputs": [
    {
     "name": "stdout",
     "output_type": "stream",
     "text": [
      "Possible solutions (1 out of 18480):\n",
      "Solution 1:\n",
      "Day 1: Team 4\n",
      "Day 2: Team 4\n",
      "Day 3: Team 4\n",
      "Day 4: Team 4\n",
      "Day 5: Team 4\n",
      "Day 6: Team 4\n",
      "Day 7: Team 4\n",
      "Day time_1_1: Team 4\n",
      "Day time_1_2: Team 0\n",
      "Day time_1_3: Team 0\n",
      "Day time_1_4: Team 0\n",
      "Day time_2_1: Team 0\n",
      "Day time_2_2: Team 4\n",
      "Day time_2_3: Team 0\n",
      "Day time_2_4: Team 0\n",
      "Day time_3_1: Team 0\n",
      "Day time_3_2: Team 0\n",
      "Day time_3_3: Team 4\n",
      "Day time_3_4: Team 0\n",
      "Day time_4_1: Team 0\n",
      "Day time_4_2: Team 0\n",
      "Day time_4_3: Team 0\n",
      "Day time_4_4: Team 4\n",
      "Day time_5_1: Team 0\n",
      "Day time_5_2: Team 0\n",
      "Day time_5_3: Team 0\n",
      "Day time_5_4: Team 0\n",
      "Day time_6_1: Team 0\n",
      "Day time_7_1: Team 0\n",
      "Day time_6_2: Team 0\n",
      "Day time_7_2: Team 0\n",
      "Day time_6_3: Team 0\n",
      "Day time_7_3: Team 0\n",
      "Day time_6_4: Team 0\n",
      "Day time_7_4: Team 0\n",
      "\n"
     ]
    }
   ],
=======
   "execution_count": null,
   "id": "464ecaae",
   "metadata": {},
   "outputs": [],
>>>>>>> Stashed changes
   "source": [
    "# Solve the CSP\n",
    "problem_dodol = dodol_feast()\n",
    "solutions = problem_dodol.getSolutions()\n",
    "\n",
    "# Set the maximum number of solutions to display\n",
    "max_solutions = 1\n",
    "\n",
<<<<<<< Updated upstream
    "# Print the solutions\n",
    "if solutions:\n",
    "    print(f\"Possible solutions ({min(max_solutions, len(solutions))} out of {len(solutions)}):\")\n",
    "    for i, solution in enumerate(solutions[:max_solutions]):\n",
    "        print(f\"Solution {i+1}:\")\n",
    "        for day, team in solution.items():\n",
    "            print(f\"Day {day}: Team {team}\")\n",
    "        print()\n",
    "else:\n",
    "    print(\"No solutions found.\")"
=======
    "# Define the decision variables\n",
    "x = pulp.LpVariable.dicts(\"TeamAssignment\", (days, time_slots, teams), cat=\"Binary\")\n",
    "\n",
    "# Define the constraints\n",
    "for day in days:\n",
    "    # Constraint 1: Each team stirs the pot of dodol for four hours at a time\n",
    "    for time_slot in time_slots:\n",
    "        problem += pulp.lpSum(x[day][time_slot][team] for team in teams) == 1\n",
    "\n",
    "for time_slot in time_slots:\n",
    "    # Constraint 2: No team stirs the pot of dodol for more than four hours a day\n",
    "    for day in days:\n",
    "        problem += pulp.lpSum(x[day][time_slot][team] for team in teams) <= 1\n",
    "\n",
    "# Constraint 3: Each team must stir the pot for at least 3 times during the feast to be fair\n",
    "for team in teams:\n",
    "    problem += pulp.lpSum(x[day][time_slot][team] for day in days for time_slot in time_slots) >= 3\n",
    "\n",
    "# Constraint 4: No team can be assigned to multiple time slots on the same day\n",
    "for day in days:\n",
    "    for team in teams:\n",
    "        problem += pulp.lpSum(x[day][time_slot][team] for time_slot in time_slots) <= 1\n",
    "\n",
    "# Solve the problem\n",
    "problem.solve()\n",
    "\n",
    "# Create a table to display the duty rosters\n",
    "table = []\n",
    "for day in days:\n",
    "    row = [f\"Day {day}\"]\n",
    "    for time_slot in time_slots:\n",
    "        team_assigned = [f\"Team {team}\" for team in teams if pulp.value(x[day][time_slot][team]) == 1]\n",
    "        row.append(\", \".join(team_assigned))\n",
    "    table.append(row)\n",
    "\n",
    "# Display the duty rosters table\n",
    "headers = [\"\"] + [f\"Time Slot {ts}\" for ts in time_slots]\n",
    "print(\"Feast schedule:\")\n",
    "print(tabulate(table, headers=headers, showindex=False, tablefmt=\"grid\"))\n",
    "\n",
    "# Calculate the total time taken by each team\n",
    "team_times = []\n",
    "for team in teams:\n",
    "    team_time = sum(pulp.value(x[day][time_slot][team]) for day in days for time_slot in time_slots)\n",
    "    team_times.append(team_time)\n",
    "\n",
    "# Plot the bar chart\n",
    "plt.bar(teams, team_times)\n",
    "plt.xlabel('Team')\n",
    "plt.ylabel('Time Taken')\n",
    "plt.title('Time Taken by Each Team')\n",
    "plt.show()"
>>>>>>> Stashed changes
   ]
  },
  {
   "attachments": {},
   "cell_type": "markdown",
   "id": "e7cce1d3",
   "metadata": {},
   "source": [
    "## Summary"
   ]
  },
  {
   "attachments": {},
   "cell_type": "markdown",
   "id": "ca7d9ecf",
   "metadata": {},
   "source": [
    "# Question 3\n"
   ]
  },
  {
   "cell_type": "code",
   "execution_count": null,
   "id": "2385dc77",
   "metadata": {},
   "outputs": [],
   "source": []
  },
  {
   "cell_type": "code",
   "execution_count": null,
   "id": "41b3a17e",
   "metadata": {},
   "outputs": [],
   "source": []
  },
  {
   "attachments": {},
   "cell_type": "markdown",
   "id": "cb74b18b",
   "metadata": {},
   "source": [
    "## Summary"
   ]
  },
  {
   "cell_type": "code",
   "execution_count": null,
   "id": "9cacca1f",
   "metadata": {},
   "outputs": [],
   "source": []
  }
 ],
 "metadata": {
  "kernelspec": {
   "display_name": "Python 3",
   "language": "python",
   "name": "python3"
  },
  "language_info": {
   "codemirror_mode": {
    "name": "ipython",
    "version": 3
   },
   "file_extension": ".py",
   "mimetype": "text/x-python",
   "name": "python",
   "nbconvert_exporter": "python",
   "pygments_lexer": "ipython3",
   "version": "3.10.8"
  }
 },
 "nbformat": 4,
 "nbformat_minor": 5
}
