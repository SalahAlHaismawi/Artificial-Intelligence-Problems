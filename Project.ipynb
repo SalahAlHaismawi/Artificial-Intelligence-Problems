{
 "cells": [
  {
   "cell_type": "markdown",
   "id": "6d81adfa",
   "metadata": {},
   "source": [
    "<img src=\"tic3151.png\" style=\"height: 70px; width: 200px\" align=left> \n",
    "<img src=\"logo-MMU.png\" style=\"height: 70px; width: 200px\" align=right> "
   ]
  },
  {
   "cell_type": "markdown",
   "id": "319a1af8",
   "metadata": {},
   "source": [
    "### Team members\n",
    "\n",
    "Ahmad Ayaan - 1191302794 \n",
    "\n",
    "Salah Fayeq y. AlHaismawi - 1201303035\n",
    "\n",
    "Aisha Sakinah Binti Saadon - 1191101867\n",
    "\n",
    "Aryssa Amanda Binti Azhar - 1191100575\n",
    "\n",
    "\n",
    "### The assignment contains following questions\n"
   ]
  },
  {
   "cell_type": "markdown",
   "id": "92e13a0d",
   "metadata": {},
   "source": [
    "# Installing Libraries\n",
    "\n",
    "##### Note: Uncomment the code the code to install the relevant libraries"
   ]
  },
  {
   "cell_type": "code",
   "execution_count": null,
   "id": "c41f5244",
   "metadata": {},
   "outputs": [],
   "source": [
    "# pip install ortools\n",
    "# pip install pulp"
   ]
  },
  {
   "cell_type": "markdown",
   "id": "3b5d1a44",
   "metadata": {},
   "source": [
    "# Importing Libraries"
   ]
  },
  {
   "cell_type": "code",
   "execution_count": 1,
   "id": "533bec51",
   "metadata": {},
   "outputs": [],
   "source": [
    "import numpy as np\n",
    "import pandas as pd\n",
    "import matplotlib.pyplot as plt\n",
    "import random\n",
    "from ortools.sat.python import cp_model\n",
    "from tabulate import tabulate\n",
    "\n",
    "from sklearn.preprocessing import LabelEncoder\n",
    "from sklearn.model_selection import train_test_split\n",
    "from sklearn.naive_bayes import GaussianNB\n",
    "from sklearn import svm\n",
    "from sklearn.linear_model import LogisticRegression\n",
    "from sklearn.metrics import accuracy_score, precision_score, recall_score, f1_score"
   ]
  },
  {
   "cell_type": "markdown",
   "id": "8b5aef07",
   "metadata": {},
   "source": [
    "# Question 1\n",
    "\n",
    "Year-end school holiday is coming soon. A kindergarten teacher would like to give each\n",
    "of the student in her class, an amazing holiday set by November 2023. There are 25\n",
    "students in her class consisting of 15 girls and 10 boys. She has approached you for\n",
    "help and provided the following details to you:\n",
    "\n",
    "• Budget for 25 holiday sets = RM 200.00\n",
    "\n",
    "• Each holiday set must be wrapped using a sheet of paper i.e. blue wrapper for\n",
    "boy’s holiday set and pink wrapper for girl’s holiday set. Each wrapper cost\n",
    "RM1.00\n",
    "\n",
    "• Each holiday set should have at least 2 items being stationery\n",
    "\n"
   ]
  },
  {
   "cell_type": "markdown",
   "id": "733dc0af",
   "metadata": {},
   "source": [
    "## Variables Declaration"
   ]
  },
  {
   "cell_type": "code",
   "execution_count": 2,
   "id": "e82136fa",
   "metadata": {},
   "outputs": [],
   "source": [
    "# Constant variables\n",
    "budget = 200.00\n",
    "minimum_stationary_item = 2\n",
    "wrapper_cost = 1.00\n",
    "\n",
    "# List of items and their prices\n",
    "items = [\n",
    "    (\"Chipsmore Biscuit\", 2.00),\n",
    "    (\"2B pencil\", 1.00),\n",
    "    (\"Color pencil\", 3.00),\n",
    "    (\"Magic pen\", 3.00),\n",
    "    (\"Potato chip\", 2.00),\n",
    "    (\"Milo packet\", 1.00),\n",
    "    (\"Mini sketch book\", 2.00),\n",
    "    (\"Milk biscuit\", 3.00)\n",
    "]\n",
    "\n",
    "mutation_rate = 0.1\n",
    "wrapper_cost = 1 * 25  # Wrapper cost for 25 sets"
   ]
  },
  {
   "cell_type": "markdown",
   "id": "f83bcd7c",
   "metadata": {},
   "source": [
    "## Population and Individuals\n",
    "\n"
   ]
  },
  {
   "cell_type": "code",
   "execution_count": 3,
   "id": "94049811",
   "metadata": {},
   "outputs": [],
   "source": [
    "def individuals():\n",
    "    return [random.randint(0, 1) for items in range(len(items))]\n",
    "\n",
    "def generate_population(population_size):\n",
    "    return [individuals() for x in range(population_size)]"
   ]
  },
  {
   "cell_type": "markdown",
   "id": "1efd853b",
   "metadata": {},
   "source": [
    "## Fitness Function\n",
    "\n",
    "The fitness function calculates the total cost of items in a chromosome, after deducting the cost of wrappers and ensuring that atleast 2 of the items are stationery."
   ]
  },
  {
   "cell_type": "code",
   "execution_count": 4,
   "id": "81b5aea4",
   "metadata": {},
   "outputs": [],
   "source": [
    "def fitness_function(chromosome):\n",
    "    total = 0\n",
    "    num_stationery_items = 0\n",
    "    num_items = 0\n",
    "    for i, j in enumerate(chromosome):\n",
    "        if j == 1:\n",
    "            # to calculate the total cost of the items present in the set\n",
    "            total += items[i][1]\n",
    "            num_items += 1\n",
    "            # to check if the current sets have stationery\n",
    "            if items[i][0] in [\"2B pencil\", \"Color pencil\", \"Magic pen\", \"Mini sketch book\"]:\n",
    "                num_stationery_items += 1\n",
    "\n",
    "    if num_stationery_items >= 2 and (total*25) + wrapper_cost <=budget:\n",
    "         # Calculate the fitness score based on the weighted sum of total cost and number of items\n",
    "        total_score = total * num_items\n",
    "        items_score = num_items * 10\n",
    "        score = total_score + items_score\n",
    "        #print(score)\n",
    "        return score\n",
    "    else:\n",
    "        return 0 if total <= 200 else -1"
   ]
  },
  {
   "cell_type": "markdown",
   "id": "02eec99a",
   "metadata": {},
   "source": [
    "## Selection Function"
   ]
  },
  {
   "cell_type": "code",
   "execution_count": 5,
   "id": "41e07ed9",
   "metadata": {},
   "outputs": [],
   "source": [
    "\"\"\"Perform selection using roulette wheel selection.\"\"\"\n",
    "def selection_roulette_wheel(population, fitness_values):\n",
    "    total_fitness = sum(fitness_values)\n",
    "    if total_fitness == 0:\n",
    "        probabilities = [1 / len(population)] * len(population)\n",
    "    else:\n",
    "        probabilities = [fitness / total_fitness for fitness in fitness_values]\n",
    "    selected = random.choices(population, weights=probabilities, k=2)\n",
    "    return selected[0], selected[1]\n",
    "\n",
    "\n",
    "\"\"\"Perform selection using rank selection.\"\"\"\n",
    "def selection_rank(population, fitness_values):\n",
    "    ranked_population = sorted(zip(population, fitness_values), key=lambda x: x[1], reverse=True)\n",
    "    selected = []\n",
    "    while len(selected) < 2:\n",
    "        for chromosome, fitness in ranked_population:\n",
    "            if fitness > 0:  # Select only individuals with positive fitness\n",
    "                selected.append(chromosome.copy())\n",
    "                if len(selected) == 2:\n",
    "                    break\n",
    "    return selected[0], selected[1]\n"
   ]
  },
  {
   "cell_type": "markdown",
   "id": "4d900d89",
   "metadata": {},
   "source": [
    "## Crossover Function"
   ]
  },
  {
   "cell_type": "code",
   "execution_count": 6,
   "id": "45b4d9c3",
   "metadata": {},
   "outputs": [],
   "source": [
    "\"\"\"Perform crossover using single point crossover.\"\"\"\n",
    "def crossover_single_point(parent1, parent2):\n",
    "    single_point = random.randint(1, len(parent1) - 1)\n",
    "    child1 = parent1[:single_point] + parent2[single_point:]\n",
    "    child2 = parent2[:single_point] + parent1[single_point:]\n",
    "    return child1, child2\n",
    "\n",
    "\"\"\"Perform crossover using two point crossover.\"\"\"\n",
    "def crossover_two_point(parent1, parent2):\n",
    "    two_point = sorted(random.sample(range(len(parent1)), 2))\n",
    "    child1 = parent1[:two_point[0]] + parent2[two_point[0]:two_point[1]] + parent1[two_point[1]:]\n",
    "    child2 = parent2[:two_point[0]] + parent1[two_point[0]:two_point[1]] + parent2[two_point[1]:]\n",
    "    return child1, child2"
   ]
  },
  {
   "cell_type": "markdown",
   "id": "1d43729b",
   "metadata": {},
   "source": [
    "## Mutation Function"
   ]
  },
  {
   "cell_type": "code",
   "execution_count": 31,
   "id": "611864b7",
   "metadata": {},
   "outputs": [],
   "source": [
    "\"\"\"Perform inversion mutation.\"\"\"\n",
    "def mutation_inversion(chromosome):\n",
    "    start = random.randint(0, len(chromosome) - 1)\n",
    "    end = random.randint(start + 1, len(chromosome))\n",
    "    mutated_chromosome = chromosome[:start] + chromosome[start:end][::-1] + chromosome[end:]\n",
    "    return mutated_chromosome\n",
    "\n",
    "\"\"\"Perform bit flipping mutation.\"\"\"\n",
    "def mutation_bit_flip(chromosome):\n",
    "    mutated_chromosome = chromosome[:]\n",
    "    for i in range(len(mutated_chromosome)):\n",
    "        if random.random() < 0.1:  # 10% chance for bit flipping\n",
    "            mutated_chromosome[i] = 1 - mutated_chromosome[i]\n",
    "    return mutated_chromosome"
   ]
  },
  {
   "cell_type": "markdown",
   "id": "832a7ef1",
   "metadata": {},
   "source": [
    "## Main Function"
   ]
  },
  {
   "cell_type": "code",
   "execution_count": 38,
   "id": "06547353",
   "metadata": {},
   "outputs": [],
   "source": [
    "def evolve(population, fitness_values, selection_method, crossover_method, mutation_method):\n",
    "    next_generation = []\n",
    "    while len(next_generation) < 25:\n",
    "        parent1, parent2 = selection_method(population, fitness_values)\n",
    "        offspring1, offspring2 = crossover_method(parent1, parent2)\n",
    "        next_generation.extend([offspring1, offspring2])\n",
    "        #print(next_generation)\n",
    "    num_mutations = int(0.05 * len(next_generation))  # 5% of the population\n",
    "    mutated_population = random.sample(next_generation, num_mutations)\n",
    "    for i in range(num_mutations):\n",
    "        mutated_chromosome = mutation_method(mutated_population[i])\n",
    "        next_generation[i] = mutated_chromosome\n",
    "    return next_generation[:25]"
   ]
  },
  {
   "cell_type": "code",
   "execution_count": 39,
   "id": "b5047dac",
   "metadata": {
    "scrolled": true
   },
   "outputs": [],
   "source": [
    "def main(population, selection_method, crossover_method, mutation_method):\n",
    "    # Calculate fitness values for each chromosome\n",
    "    avg_fitness_history = []\n",
    "    fitness_values = [fitness_function(chromosome) for chromosome in population]\n",
    "\n",
    "    best_fitness = float('inf')\n",
    "    best_combination = []\n",
    "\n",
    "    for generation in range(150):\n",
    "        # Select parents and perform crossover and mutation\n",
    "        population = evolve(population, fitness_values, selection_method, crossover_method, mutation_method)\n",
    "\n",
    "        # Calculate fitness values for each chromosome\n",
    "        fitness_values = [fitness_function(chromosome) for chromosome in population]\n",
    "        avg_fitness_history.append(sum(fitness_values) / len(fitness_values))\n",
    "\n",
    "       # Find the best fitness value and corresponding combination\n",
    "        best_fitness = max(fitness_values)\n",
    "    best_combination = population[fitness_values.index(best_fitness)].copy()\n",
    "\n",
    "    # Display the total combination and the content of the combination\n",
    "    print(\"Total Combination of Items: \")\n",
    "    total_combination = sum(best_combination)\n",
    "    print(total_combination)\n",
    "\n",
    "    print(\"Content of the Combination of Items:\")\n",
    "    selected_items = []\n",
    "    unit_price = 0\n",
    "    for i, item in enumerate(best_combination):\n",
    "        if item == 1:\n",
    "            item_name = items[i][0]\n",
    "            item_price = items[i][1]\n",
    "            unit_price += item_price\n",
    "            selected_items.append([item_name, item_price])\n",
    "            \n",
    "    selected_items.append(['Wrapper cost', '1'])\n",
    "    unit_price +=1\n",
    "    print(tabulate(selected_items, headers=[\"Item Name\", \"Price (RM)\"], tablefmt=\"grid\"))\n",
    "\n",
    "    print(\"Unit Price: \")\n",
    "    print(unit_price if best_fitness >= 0 else 0)\n",
    "    \n",
    "    print(\"Total Price: \")\n",
    "    print(unit_price * 25 if best_fitness >= 0 else 0)\n",
    "    \n",
    "    return best_combination, avg_fitness_history"
   ]
  },
  {
   "cell_type": "markdown",
   "id": "cb6ef4f5",
   "metadata": {},
   "source": [
    "## Perfomance Assessment\n",
    "\n"
   ]
  },
  {
   "cell_type": "code",
   "execution_count": 40,
   "id": "d6ec2106",
   "metadata": {},
   "outputs": [],
   "source": [
    "# Generate an initial population\n",
    "population = generate_population(50)"
   ]
  },
  {
   "cell_type": "code",
   "execution_count": 41,
   "id": "74300149",
   "metadata": {
    "scrolled": true
   },
   "outputs": [
    {
     "name": "stdout",
     "output_type": "stream",
     "text": [
      "Best holiday set (Selection Method: Ranked, Crossover Method: Single Point, Mutation Method: Inversion):\n",
      "\n",
      "Total Combination of Items: \n",
      "4\n",
      "Content of the Combination of Items:\n",
      "+------------------+--------------+\n",
      "| Item Name        |   Price (RM) |\n",
      "+==================+==============+\n",
      "| 2B pencil        |            1 |\n",
      "+------------------+--------------+\n",
      "| Magic pen        |            3 |\n",
      "+------------------+--------------+\n",
      "| Milo packet      |            1 |\n",
      "+------------------+--------------+\n",
      "| Mini sketch book |            2 |\n",
      "+------------------+--------------+\n",
      "| Wrapper cost     |            1 |\n",
      "+------------------+--------------+\n",
      "Unit Price: \n",
      "8.0\n",
      "Total Price: \n",
      "200.0\n"
     ]
    }
   ],
   "source": [
    "# Test 1\n",
    "# Selection Method: Ranked\n",
    "# Crossover Method: Single Point\n",
    "# Mutation Method: Inversion\n",
    "\n",
    "print(\"Best holiday set (Selection Method: Ranked, Crossover Method: Single Point, Mutation Method: Inversion):\")\n",
    "print()\n",
    "best_holiday_set_1, avg_fitness_history_1 = main(population, selection_roulette_wheel, crossover_two_point, mutation_inversion)"
   ]
  },
  {
   "cell_type": "code",
   "execution_count": 42,
   "id": "99a6fa46",
   "metadata": {},
   "outputs": [
    {
     "name": "stdout",
     "output_type": "stream",
     "text": [
      "Best holiday set (Selection Method: Rolette wheel, Crossover Method: Two Point, Mutation Method: Inversion):\n",
      "\n",
      "Total Combination of Items: \n",
      "4\n",
      "Content of the Combination of Items:\n",
      "+--------------+--------------+\n",
      "| Item Name    |   Price (RM) |\n",
      "+==============+==============+\n",
      "| 2B pencil    |            1 |\n",
      "+--------------+--------------+\n",
      "| Color pencil |            3 |\n",
      "+--------------+--------------+\n",
      "| Potato chip  |            2 |\n",
      "+--------------+--------------+\n",
      "| Milo packet  |            1 |\n",
      "+--------------+--------------+\n",
      "| Wrapper cost |            1 |\n",
      "+--------------+--------------+\n",
      "Unit Price: \n",
      "8.0\n",
      "Total Price: \n",
      "200.0\n"
     ]
    }
   ],
   "source": [
    "# Test 1\n",
    "# Selection Method: Rolette wheel\n",
    "# Crossover Method: Two Point\n",
    "# Mutation Method: Inversion\n",
    "\n",
    "print(\"Best holiday set (Selection Method: Rolette wheel, Crossover Method: Two Point, Mutation Method: Inversion):\")\n",
    "print()\n",
    "best_holiday_set_2, avg_fitness_history_2 = main(population, selection_roulette_wheel, crossover_two_point, mutation_bit_flip)"
   ]
  },
  {
   "cell_type": "code",
   "execution_count": 43,
   "id": "4b585569",
   "metadata": {},
   "outputs": [
    {
     "data": {
      "image/png": "[encoded data removed]",
      "text/plain": [
       "<Figure size 864x432 with 2 Axes>"
      ]
     },
     "metadata": {
      "needs_background": "light"
     },
     "output_type": "display_data"
    }
   ],
   "source": [
    "# Create a figure and two subplots\n",
    "fig, (ax1, ax2) = plt.subplots(1, 2, figsize=(12, 6))\n",
    "\n",
    "# Plot for Best holiday set (Selection Method: Ranked wheel, Crossover Method: Single Point, Mutation Method: Inversion)\n",
    "x1 = range(len(avg_fitness_history_1))\n",
    "y1 = avg_fitness_history_1\n",
    "\n",
    "ax1.plot(x1, y1)\n",
    "ax1.set_title(\"Average Fitness Values per Generation \\n(Selection: Ranked, Crossover: Single Point, Mutation: Inversion)\")\n",
    "ax1.set_xlabel(\"Generation\")\n",
    "ax1.set_ylabel(\"Average Fitness Value\")\n",
    "\n",
    "# Plot for Best holiday set (Selection Method: Roulette wheel, Crossover Method: Two Point, Mutation Method: Bit Flip)\n",
    "x2 = range(len(avg_fitness_history_2))\n",
    "y2 = avg_fitness_history_2\n",
    "\n",
    "ax2.plot(x2, y2)\n",
    "ax2.set_title(\"Average Fitness Values per Generation \\n(Selection: Roulette, Crossover: Two Point, Mutation: Bit Flip)\")\n",
    "ax2.set_xlabel(\"Generation\")\n",
    "ax2.set_ylabel(\"Average Fitness Value\")\n",
    "\n",
    "plt.tight_layout(pad=2.0)  # Add more padding between subplots\n",
    "\n",
    "plt.show()\n"
   ]
  },
  {
   "cell_type": "markdown",
   "id": "5c8d0926",
   "metadata": {},
   "source": [
    "## Summary\n"
   ]
  },
  {
   "cell_type": "code",
   "execution_count": null,
   "id": "2089ee9f",
   "metadata": {},
   "outputs": [],
   "source": []
  },
  {
   "cell_type": "markdown",
   "id": "4ae8de4b",
   "metadata": {},
   "source": [
    "# Question 2\n",
    "\n"
   ]
  },
  {
   "cell_type": "markdown",
   "id": "ff368214",
   "metadata": {},
   "source": [
    "The head of village ABC plans to hold a dodol feast for four consecutive days and have \n",
    "this feast recorded live in FB as part of promoting the village to outsiders. At the end of \n",
    "the dodol feast, the dodol will be shared with villagers and visitors to village ABC. The \n",
    "process of making the dodol, a sweet delicacy, is tedious and it requires a lot of strength \n",
    "to continuously stir the big pot of dodol to avoid it from being burnt. \n",
    "\n",
    "The villagers have been divided into seven teams to stir a pot of dodol on a rotation \n",
    "basis for the next four days. The pot of dodol will be stirred by one team at one time. \n",
    "Each team will stir the pot of dodol for four hours before another team takes over the \n",
    "task of stirring the pot of dodol. Ideally, no team will stir the pot of dodol for more than \n",
    "4 hours a day so that each team gets sufficient rest before their next turn to stir the pot \n",
    "of dodol. Each team will stir the pot of dodol for at least 8 hours during the entire dodol \n",
    "feast.\n",
    "\n",
    "Formulate the problem as Constraint Satisfaction Problem"
   ]
  },
  {
   "cell_type": "markdown",
   "id": "6c90bd18",
   "metadata": {},
   "source": [
    "## Variable declaration"
   ]
  },
  {
   "cell_type": "code",
   "execution_count": null,
   "id": "a86a0677",
   "metadata": {},
   "outputs": [],
   "source": [
    "# Define the teams, days, and slots\n",
    "slots = [1, 2, 3, 4, 5, 6]\n",
    "teams = [1, 2, 3, 4, 5, 6, 7]\n",
    "days = [1, 2, 3, 4]\n",
    "solution_limit = 100  # Number of solutions to print\n",
    "teams_labels = [\"Team 1\", \"Team 2\", \"Team 3\", \"Team 4\", \"Team 5\", \"Team 6\", \"Team 7\"]"
   ]
  },
  {
   "cell_type": "markdown",
   "id": "c799b415",
   "metadata": {},
   "source": [
    "## Solve Dodol Function"
   ]
  },
  {
   "cell_type": "code",
   "execution_count": null,
   "id": "81d79c8c",
   "metadata": {},
   "outputs": [],
   "source": [
    "def solve_dodol_feast(minimum_slot):\n",
    "     # Create the CP-SAT model\n",
    "    model = cp_model.CpModel()\n",
    "\n",
    "    # Create the decision variables\n",
    "    variables = {}\n",
    "    for day in days:\n",
    "        for slot in slots:\n",
    "            for team in teams:\n",
    "                variables[(day, slot, team)] = model.NewBoolVar(f'time_{team}_{day}_{slot}')\n",
    "\n",
    "    # Constraint 1: Each team must stir the pot for at least 3 times during the feast\n",
    "    for team in teams:\n",
    "        model.Add(sum(variables[(day, slot, team)] for day in days for slot in slots) >= minimum_slot)\n",
    "\n",
    "    # Constraint 2: No team should stir the pot for more than 4 hours a day\n",
    "    for day in days:\n",
    "        for team in teams:\n",
    "            model.Add(sum(variables[(day, slot, team)] for slot in slots) <= 1) #Sum of the slots each team is working daily should be less than or equal to 1\n",
    "\n",
    "    # Constraint 3: No team should stir the pot consecutively\n",
    "    for day in days:\n",
    "        for slot in slots[1:]:\n",
    "            for team in teams:\n",
    "                model.Add(variables[(day, slot, team)] <= sum(variables[(day, slot - 1, t)] for t in teams if t != team)) #indexing over the values to make sure the sum of the previous slot is not equal to the current slot\n",
    "\n",
    "    # Constraint 4: Only one team should stir the pot in each time slot\n",
    "    for day in days:\n",
    "        for slot in slots:\n",
    "            model.Add(sum(variables[(day, slot, team)] for team in teams) == 1) #Sum of the teams working in each slot should be equal to 1\n",
    "\n",
    "    # Create the objective variable\n",
    "    objective_var = model.NewIntVar(0, len(days) * len(slots) * len(teams), 'objective') #Objective variable is the total number of team assignments\n",
    "\n",
    "    # Constraint 5: Minimize the total number of team assignments\n",
    "    model.Add(objective_var == sum(variables[(day, slot, team)] for day in days for slot in slots for team in teams)) #Sum of the team assignments should be equal to the objective variable\n",
    "\n",
    "    # Set the objective function\n",
    "    model.Minimize(objective_var) #Use the Minimize built-in function to minimize the objective variable to achieve the minimum number of team assignments\n",
    "\n",
    "    # Create the solver\n",
    "    solver = cp_model.CpSolver()\n",
    "    solver.parameters.log_search_progress = True\n",
    "    solutions_found = 0\n",
    "    all_solutions = []\n",
    "\n",
    "    while solutions_found < solution_limit: \n",
    "        status = solver.Solve(model)\n",
    "\n",
    "        # Check if a solution is found\n",
    "        if status != cp_model.OPTIMAL:\n",
    "            print(\"No feasible solution found.\")\n",
    "            break\n",
    "\n",
    "        # Extract the solution\n",
    "        solution = {}\n",
    "        for day in days:\n",
    "            for slot in slots:\n",
    "                for team in teams:\n",
    "                    if solver.BooleanValue(variables[(day, slot, team)]):\n",
    "                        solution[(day, slot)] = team\n",
    "\n",
    "        all_solutions.append(solution)\n",
    "        solutions_found += 1\n",
    "\n",
    "        # Add a new constraint to prevent finding the same solution again\n",
    "        model.Add(sum(variables[(day, slot, team)] for day in days for slot in slots for team in teams\n",
    "                      if solution.get((day, slot)) == team) <= len(solution) - 1)\n",
    "\n",
    "    return all_solutions"
   ]
  },
  {
   "cell_type": "markdown",
   "id": "7ca10397",
   "metadata": {},
   "source": [
    "## Main Functions"
   ]
  },
  {
   "cell_type": "code",
   "execution_count": null,
   "id": "464ecaae",
   "metadata": {},
   "outputs": [],
   "source": [
    "# Solve the dodol feast problem and get all possible schedules\n",
    "all_solutions_1 = solve_dodol_feast(2)\n",
    "\n",
    "if all_solutions_1:\n",
    "    solution_idx = 0  # Index of the solution to print (99 for the first solution)\n",
    "    solution = all_solutions_1[solution_idx]\n",
    "    print(f\"Sample Schedule:\")\n",
    "    table = []\n",
    "    for day in days:\n",
    "        row = [f\"Day {day}\"]\n",
    "        for slot in slots:\n",
    "            team = solution.get((day, slot), \"-\")\n",
    "            row.append(f\"Team {team}\")\n",
    "        table.append(row)\n",
    "    headers = [\"\"] + [f\"Time Slot {slot}\" for slot in slots]\n",
    "    print(tabulate(table, headers=headers, showindex=False, tablefmt=\"grid\"))\n",
    "    print()\n",
    "else:\n",
    "    print(\"No feasible solution found.\")\n"
   ]
  },
  {
   "cell_type": "code",
   "execution_count": null,
   "id": "31351186",
   "metadata": {},
   "outputs": [],
   "source": [
    "# Solve the dodol feast problem and get all possible schedules\n",
    "all_solutions_2 = solve_dodol_feast(3)\n",
    "\n",
    "if all_solutions_2:\n",
    "    solution_idx = 0  # Index of the solution to print (0 for the first solution)\n",
    "    solution = all_solutions_2[solution_idx]\n",
    "    print(f\" Sample Schedule:\")\n",
    "    table = []\n",
    "    for day in days:\n",
    "        row = [f\"Day {day}\"]\n",
    "        for slot in slots:\n",
    "            team = solution.get((day, slot), \"-\")\n",
    "            row.append(f\"Team {team}\")\n",
    "        table.append(row)\n",
    "    headers = [\"\"] + [f\"Time Slot {slot}\" for slot in slots]\n",
    "    print(tabulate(table, headers=headers, showindex=False, tablefmt=\"grid\"))\n",
    "    print()\n",
    "else:\n",
    "    print(\"No feasible solution found.\")\n"
   ]
  },
  {
   "cell_type": "markdown",
   "id": "5615b02b",
   "metadata": {},
   "source": [
    "## Visualise to show the constrast"
   ]
  },
  {
   "cell_type": "code",
   "execution_count": null,
   "id": "75a51cf5",
   "metadata": {},
   "outputs": [],
   "source": [
    "# Calculate the average number of slots worked for each team (First Solution)\n",
    "team_slots_1 = {team: 0 for team in teams}\n",
    "for solution in all_solutions_1:\n",
    "    for team in teams:\n",
    "        team_slots_1[team] += sum(1 for day in days for slot in slots if solution.get((day, slot)) == team)\n",
    "\n",
    "average_slots_1 = {team: slots / len(all_solutions_1) for team, slots in team_slots_1.items()}\n",
    "\n",
    "# Calculate the average number of slots worked for each team (Second Solution)\n",
    "team_slots_2 = {team: 0 for team in teams}\n",
    "for solution in all_solutions_2:\n",
    "    for team in teams:\n",
    "        team_slots_2[team] += sum(1 for day in days for slot in slots if solution.get((day, slot)) == team)\n",
    "\n",
    "average_slots_2 = {team: slots / len(all_solutions_2) for team, slots in team_slots_2.items()}\n",
    "\n",
    "# Set up the subplots\n",
    "fig, axes = plt.subplots(1, 2, figsize=(12, 4))\n",
    "\n",
    "# Plot the first solution\n",
    "axes[0].bar(teams_labels, [average_slots_1[team] for team in teams])\n",
    "axes[0].set_xlabel('Team')\n",
    "axes[0].set_ylabel('Average Slots Worked')\n",
    "axes[0].set_title('Average Number of Slots Worked for Each Team (First Solution)')\n",
    "\n",
    "# Plot the second solution\n",
    "axes[1].bar(teams_labels, [average_slots_2[team] for team in teams])\n",
    "axes[1].set_xlabel('Team')\n",
    "axes[1].set_ylabel('Average Slots Worked')\n",
    "axes[1].set_title('Average Number of Slots Worked for Each Team (Second Solution)')\n",
    "\n",
    "# Adjust the spacing between subplots\n",
    "plt.tight_layout()\n",
    "\n",
    "# Display the plot\n",
    "plt.show()"
   ]
  },
  {
   "cell_type": "markdown",
   "id": "83b216a3",
   "metadata": {},
   "source": [
    "# Ranking Criteria: Inclusion\n",
    "\n",
    "In a scheduling problem, such as this one, one very important criteria to measure how well a solution is constructed is inclusvity. Where The solution is deemed a higher quality solution, if all teams are equally participating, with minimal time difference.\n",
    "\n",
    "## Conventional Method, with unoptimized paremeters\n",
    "1- By following the problem description word to word, we added the each team at least should participate for 8 hours throughout the entire feast. This as demonstrated in Figure 1, Created an unequal work distribution \n",
    "\n"
   ]
  },
  {
   "cell_type": "markdown",
   "id": "e7cce1d3",
   "metadata": {},
   "source": [
    "## Summary"
   ]
  },
  {
   "cell_type": "code",
   "execution_count": null,
   "id": "63cf8928",
   "metadata": {},
   "outputs": [],
   "source": []
  },
  {
   "cell_type": "markdown",
   "id": "ca7d9ecf",
   "metadata": {},
   "source": [
    "# Question 3\n"
   ]
  },
  {
   "cell_type": "markdown",
   "id": "65f3b789",
   "metadata": {},
   "source": [
    "As an expert in data analytics, you are hired to analyse sports data. Given the NBA \n",
    "datasets, build TWO classification and ONE cluster analysis programs in Python.\n",
    "\n",
    "You are allowed to add ONE additional and relevant data as supplementary data to assist \n",
    "you to do further analysis but the given datasets will serve as main dataset for analysis."
   ]
  },
  {
   "cell_type": "markdown",
   "id": "f837101f",
   "metadata": {},
   "source": [
    "## Part 1: Data Cleaning"
   ]
  },
  {
   "cell_type": "markdown",
   "id": "757d75d8",
   "metadata": {},
   "source": [
    "## Player List Dataset"
   ]
  },
  {
   "cell_type": "markdown",
   "id": "612eb8dc",
   "metadata": {},
   "source": [
    "### Import dataset"
   ]
  },
  {
   "cell_type": "code",
   "execution_count": null,
   "id": "0e0dd822",
   "metadata": {},
   "outputs": [],
   "source": [
    "# Load data\n",
    "playerlist = pd.read_csv(\"Question-3-Dataset/NBA-playerlist.csv\")\n",
    "playerlist "
   ]
  },
  {
   "cell_type": "code",
   "execution_count": null,
   "id": "36767170",
   "metadata": {},
   "outputs": [],
   "source": [
    "# Drop unnecessary columns\n",
    "playerlist = playerlist.drop(['Unnamed: 0', 'DISPLAY_LAST_COMMA_FIRST'], axis=1)\n",
    "playerlist = playerlist.rename(columns={'DISPLAY_FIRST_LAST': 'PLAYER_NAME'})\n",
    "\n",
    "# Rearrange the columns\n",
    "person_id_col = playerlist.pop('PERSON_ID')  # Remove 'PERSON_ID' column from DataFrame\n",
    "playerlist.insert(0, 'PERSON_ID', person_id_col)  # Insert 'PERSON_ID' column at the front\n",
    "\n",
    "# Display data\n",
    "playerlist"
   ]
  },
  {
   "cell_type": "code",
   "execution_count": null,
   "id": "0ed4c59a",
   "metadata": {},
   "outputs": [],
   "source": [
    "# Check data types\n",
    "playerlist.dtypes"
   ]
  },
  {
   "cell_type": "markdown",
   "id": "14e7111b",
   "metadata": {},
   "source": [
    "### Handle duplicates and missing values"
   ]
  },
  {
   "cell_type": "code",
   "execution_count": null,
   "id": "efdef4f4",
   "metadata": {},
   "outputs": [],
   "source": [
    "def check_duplicates(data):\n",
    "    duplicate_rows = data[data.duplicated()]\n",
    "    print(\"Duplicate Rows:\", len(duplicate_rows))\n",
    "    \n",
    "    if len(duplicate_rows) > 0:\n",
    "        data.drop_duplicates(inplace=True)\n",
    "        print(\"Duplicate rows dropped.\")\n",
    "        \n",
    "def check_missing_values(data):\n",
    "    has_missing_values = False  # Flag variable\n",
    "\n",
    "    for column in data.columns:\n",
    "        null_val = data[column].isna().sum()\n",
    "        total_data = len(data[column])\n",
    "\n",
    "        if null_val > 0:\n",
    "            print(column, \":\", null_val, \"out of\", total_data)\n",
    "            has_missing_values = True  # Set the flag to True if missing values are found\n",
    "\n",
    "    # Print \"No missing values\" if no missing values were found\n",
    "    if not has_missing_values:\n",
    "        print(\"No missing values.\")"
   ]
  },
  {
   "cell_type": "code",
   "execution_count": null,
   "id": "8132f836",
   "metadata": {},
   "outputs": [],
   "source": [
    "# Check duplicte data\n",
    "check_duplicates(playerlist)\n",
    "print()\n",
    "\n",
    "# Check missing value\n",
    "print(\"Missing values =======================\")\n",
    "check_missing_values(playerlist)\n",
    "\n",
    "# Check TEAM_ID with 0 as value:\n",
    "total_null = len(playerlist[playerlist['TEAM_ID'] == 0])\n",
    "total_data = len(playerlist['TEAM_ID'])\n",
    "print('TEAM_ID : ', total_null, \"out of\", total_data)\n",
    "\n",
    "# Replace TEAM_ID with 0 as value to \"-\"\n",
    "playerlist['TEAM_ID'] = playerlist['TEAM_ID'].replace(0, '-')"
   ]
  },
  {
   "cell_type": "markdown",
   "id": "f36eb158",
   "metadata": {},
   "source": [
    "### Explaination for team abbreviation, city, code, ID and name being null"
   ]
  },
  {
   "cell_type": "markdown",
   "id": "e740b389",
   "metadata": {},
   "source": [
    "Roster status 0 means the player is not active, therefore there no team data recorded<br>\n",
    "Roster status 1 means the player is active, therefore there team data recorded<b>"
   ]
  },
  {
   "cell_type": "code",
   "execution_count": null,
   "id": "b304bd58",
   "metadata": {},
   "outputs": [],
   "source": [
    "# Check if columns are null when ROSTERSTATUS is 0\n",
    "null_values_roster_0 = playerlist.loc[playerlist['ROSTERSTATUS'] == 0, ['TEAM_ABBREVIATION', 'TEAM_CITY', 'TEAM_CODE', 'TEAM_NAME']].isnull().sum()\n",
    "print(\"Null values when ROSTERSTATUS is 0:\")\n",
    "print(null_values_roster_0)\n",
    "print()\n",
    "\n",
    "# Check if columns have values when ROSTERSTATUS is 1\n",
    "not_null_values_roster_1 = playerlist.loc[playerlist['ROSTERSTATUS'] == 1, ['TEAM_ABBREVIATION', 'TEAM_CITY', 'TEAM_CODE', 'TEAM_NAME']].notnull().sum()\n",
    "print(\"Non-null values when ROSTERSTATUS is 1:\")\n",
    "print(not_null_values_roster_1)\n",
    "\n",
    "# Fill NaN value with \"-\"\n",
    "columns_to_fill = ['TEAM_ABBREVIATION', 'TEAM_CITY', 'TEAM_CODE', 'TEAM_NAME']\n",
    "playerlist[columns_to_fill] = playerlist[columns_to_fill].fillna('-')\n",
    "playerlist"
   ]
  },
  {
   "cell_type": "markdown",
   "id": "e6f279fb",
   "metadata": {},
   "source": [
    "### Explaination for missing playercode"
   ]
  },
  {
   "cell_type": "code",
   "execution_count": null,
   "id": "642501df",
   "metadata": {},
   "outputs": [],
   "source": [
    "playerlist['PLAYERCODE'] = playerlist['PLAYERCODE'].fillna(\"-\")"
   ]
  },
  {
   "cell_type": "code",
   "execution_count": null,
   "id": "7d3c61c0",
   "metadata": {},
   "outputs": [],
   "source": [
    "# Check inconsistency\n",
    "for column in playerlist.columns:\n",
    "    val_count = playerlist[column].value_counts()\n",
    "    print(\"value count for \", column, \":\")\n",
    "    print(val_count)\n",
    "    print()"
   ]
  },
  {
   "cell_type": "markdown",
   "id": "942fff33",
   "metadata": {},
   "source": [
    "Based on the observation:\n",
    "- TEAM_CITY has both LA and Los Angeles"
   ]
  },
  {
   "cell_type": "code",
   "execution_count": null,
   "id": "098b4ab0",
   "metadata": {},
   "outputs": [],
   "source": [
    "# Replace \"LA\" with \"Los Angeles\"\n",
    "playerlist['TEAM_CITY'] = playerlist['TEAM_CITY'].replace('LA', 'Los Angeles')\n",
    "\n",
    "# Count the occurrences of each team name again\n",
    "team_counts = playerlist['TEAM_CITY'].value_counts()\n",
    "\n",
    "# Print the updated team counts\n",
    "print(team_counts)"
   ]
  },
  {
   "cell_type": "markdown",
   "id": "9fd85e6d",
   "metadata": {},
   "source": [
    "### Finalise cleaned data"
   ]
  },
  {
   "cell_type": "code",
   "execution_count": null,
   "id": "9c26795c",
   "metadata": {},
   "outputs": [],
   "source": [
    "check_missing_values(playerlist)"
   ]
  },
  {
   "cell_type": "code",
   "execution_count": null,
   "id": "5d095781",
   "metadata": {},
   "outputs": [],
   "source": [
    "playerlist.to_csv('playerlist_cleaned.csv', index=False)"
   ]
  },
  {
   "cell_type": "markdown",
   "id": "1898f79a",
   "metadata": {},
   "source": [
    "## NBA Season Dataset"
   ]
  },
  {
   "cell_type": "markdown",
   "id": "16d04a73",
   "metadata": {},
   "source": [
    "### Import dataset"
   ]
  },
  {
   "cell_type": "code",
   "execution_count": null,
   "id": "92504c43",
   "metadata": {},
   "outputs": [],
   "source": [
    "NBA1 = pd.read_csv(\"Question-3-Dataset/NBA-Season-2016-2017.csv\")\n",
    "NBA2 = pd.read_csv(\"Question-3-Dataset/NBA-Season-2017-2018.csv\")\n",
    "NBA3 = pd.read_csv(\"Question-3-Dataset/NBA-Season-2018-2020.csv\")\n",
    "\n",
    "pd.set_option('display.max_columns', None)"
   ]
  },
  {
   "cell_type": "code",
   "execution_count": null,
   "id": "f37e6794",
   "metadata": {},
   "outputs": [],
   "source": [
    "NBA1"
   ]
  },
  {
   "cell_type": "code",
   "execution_count": null,
   "id": "faf5b828",
   "metadata": {},
   "outputs": [],
   "source": [
    "NBA2"
   ]
  },
  {
   "cell_type": "code",
   "execution_count": null,
   "id": "b6a6365b",
   "metadata": {},
   "outputs": [],
   "source": [
    "NBA3"
   ]
  },
  {
   "cell_type": "code",
   "execution_count": null,
   "id": "13a575b6",
   "metadata": {},
   "outputs": [],
   "source": [
    "# Drop unnecessary columns\n",
    "NBA1 = NBA1.drop('Unnamed: 0', axis=1)\n",
    "NBA2 = NBA2.drop('Unnamed: 0', axis=1)\n",
    "NBA3 = NBA3.drop('Unnamed: 0', axis=1)\n",
    "\n",
    "# Add a 'SEASON' column\n",
    "NBA1['SEASON'] = '2016-2017'\n",
    "NBA2['SEASON'] = '2017-2018'\n",
    "NBA3['SEASON'] = '2018-2020'\n",
    "\n",
    "# Merge data into one dataframe\n",
    "NBA_data = pd.concat([NBA1, NBA2, NBA3], axis=0)\n",
    "\n",
    "# Rearrange the column\n",
    "game_id_col = NBA_data.pop('GAME_ID')  # Remove 'PERSON_ID' column from DataFrame\n",
    "NBA_data.insert(0, 'GAME_ID', game_id_col)  # Insert 'PERSON_ID' column at the front\n",
    "\n",
    "# Display data\n",
    "NBA_data"
   ]
  },
  {
   "cell_type": "code",
   "execution_count": null,
   "id": "cbde29c8",
   "metadata": {},
   "outputs": [],
   "source": [
    "NBA_data.dtypes"
   ]
  },
  {
   "cell_type": "code",
   "execution_count": null,
   "id": "e56e2df1",
   "metadata": {},
   "outputs": [],
   "source": [
    "# Convert datatypes\n",
    "columns_to_convert = ['PLAYER1_ID','PLAYER1_TEAM_ID', \n",
    "                      'PLAYER2_ID', 'PLAYER2_TEAM_ID', \n",
    "                      'PLAYER3_ID', 'PLAYER3_TEAM_ID',\n",
    "                      'PERIOD','PERSON1TYPE','PERSON2TYPE', 'PERSON3TYPE']\n",
    "\n",
    "# Fill NaN with 0, then convert float to int, then to string\n",
    "NBA_data[columns_to_convert] = NBA_data[columns_to_convert].replace([np.inf, -np.inf], np.nan).fillna(0).astype(int).astype(str)\n",
    "NBA_data['GAME_ID'] = NBA_data['GAME_ID'].astype(str)\n",
    "\n",
    "# Fill 0 back into NaN, which will handle later on\n",
    "NBA_data[columns_to_convert] = NBA_data[columns_to_convert].replace(\"0\", np.nan)\n",
    "\n",
    "# Display datatype\n",
    "print(NBA_data.dtypes)\n",
    "\n",
    "# Display data\n",
    "NBA_data"
   ]
  },
  {
   "cell_type": "markdown",
   "id": "b39cbe18",
   "metadata": {},
   "source": [
    "### Handle duplicates and missing values"
   ]
  },
  {
   "cell_type": "code",
   "execution_count": null,
   "id": "45eb4571",
   "metadata": {},
   "outputs": [],
   "source": [
    "# Check duplicates\n",
    "check_duplicates(NBA_data)\n",
    "\n",
    "print(\"Missing values =====================\")\n",
    "\n",
    "check_missing_values(NBA_data)"
   ]
  },
  {
   "cell_type": "markdown",
   "id": "e57b0a2c",
   "metadata": {},
   "source": [
    "- SCORE AND SCOREMARGIN"
   ]
  },
  {
   "cell_type": "code",
   "execution_count": null,
   "id": "60f75ee7",
   "metadata": {},
   "outputs": [],
   "source": [
    "# Fill NaN value with \"0-0\", since theres no score was made during the event\n",
    "NBA_data['SCORE'] = NBA_data['SCORE'].fillna('0 - 0')\n",
    "\n",
    "# If score is \"0-0\", then score margin is 0\n",
    "NBA_data.loc[NBA_data['SCORE'] == '0 - 0', 'SCOREMARGIN'] = 0\n",
    "NBA_data[['GAME_ID', 'SCORE', 'SCOREMARGIN']]"
   ]
  },
  {
   "cell_type": "markdown",
   "id": "a5cc30be",
   "metadata": {},
   "source": [
    "- OTHERS"
   ]
  },
  {
   "cell_type": "code",
   "execution_count": null,
   "id": "6cf033ae",
   "metadata": {},
   "outputs": [],
   "source": [
    "# Convert datatypes\n",
    "columns_to_convert = ['PERSON1TYPE', 'PERSON2TYPE', 'PERSON3TYPE', 'PLAYER1_ID',\n",
    "       'PLAYER1_NAME', 'PLAYER1_TEAM_ABBREVIATION', 'PLAYER1_TEAM_CITY',\n",
    "       'PLAYER1_TEAM_ID', 'PLAYER1_TEAM_NICKNAME', 'PLAYER2_ID',\n",
    "       'PLAYER2_NAME', 'PLAYER2_TEAM_ABBREVIATION', 'PLAYER2_TEAM_CITY',\n",
    "       'PLAYER2_TEAM_ID', 'PLAYER2_TEAM_NICKNAME', 'PLAYER3_ID',\n",
    "       'PLAYER3_NAME', 'PLAYER3_TEAM_ABBREVIATION', 'PLAYER3_TEAM_CITY',\n",
    "       'PLAYER3_TEAM_ID', 'PLAYER3_TEAM_NICKNAME', 'VISITORDESCRIPTION', 'HOMEDESCRIPTION']\n",
    "\n",
    "# Fill NaN with \"-\", since we can't simply replace it with other value\n",
    "NBA_data[columns_to_convert] = NBA_data[columns_to_convert].fillna(\"-\")\n",
    "\n",
    "# Apply forward fill bcs the EVENTTYPE is during period end, so the WCTime probably follow the previous event\n",
    "NBA_data['WCTIMESTRING'] = NBA_data['WCTIMESTRING'].ffill()\n",
    "NBA_data['PERIOD'] = NBA_data['PERIOD'].ffill()\n",
    "\n",
    "# Drop the this column bcs there only NaN value for every row\n",
    "NBA_data = NBA_data.drop('NEUTRALDESCRIPTION', axis=1)\n",
    "NBA_data"
   ]
  },
  {
   "cell_type": "code",
   "execution_count": null,
   "id": "520d9627",
   "metadata": {},
   "outputs": [],
   "source": [
    "EVENTMSGTYPE_mapping = {\n",
    "    1: 'FIELD_GOAL_MADE',\n",
    "    2: 'FIELD_GOAL_MISSED',\n",
    "    3: 'FREE_THROW_ATTEMPT',\n",
    "    4: 'REBOUND',\n",
    "    5: 'TURNOVER',\n",
    "    6: 'FOUL',\n",
    "    7: 'VIOLATION',\n",
    "    8: 'SUBSTITUTION',\n",
    "    9: 'TIMEOUT',\n",
    "    10: 'JUMP_BALL',\n",
    "    11: 'EJECTION',\n",
    "    12: 'PERIOD_BEGIN',\n",
    "    13: 'PERIOD_END'\n",
    "}\n",
    "\n",
    "EVENTMSGACTIONTYPE_mapping = {\n",
    "    1: '3PT_JUMP_SHOT',\n",
    "    79: '3PT_PULLUP_JUMP_SHOT',\n",
    "    80: '3PT_STEP_BACK_JUMP_SHOT',\n",
    "    52: 'ALLEY_OOP_DUNK',\n",
    "    108: 'CUTTING_DUNK_SHOT',\n",
    "    99: 'CUTTING_FINGER_ROLL_LAYUP_SHOT',\n",
    "    98: 'CUTTING_LAYUP_SHOT',\n",
    "    75: 'DRIVING_FINGER_ROLL_LAYUP',\n",
    "    6: 'DRIVING_LAYUP',\n",
    "    73: 'DRIVING_REVERSE_LAYUP',\n",
    "    7: 'DUNK',\n",
    "    71: 'FINGER_ROLL_LAYUP',\n",
    "    78: 'FLOATING_JUMP_SHOT',\n",
    "    3: 'HOOK_SHOT',\n",
    "    66: 'JUMP_BANK_SHOT',\n",
    "    5: 'LAYUP',\n",
    "    79: 'PULLUP_JUMP_SHOT',\n",
    "    72: 'PUTBACK_LAYUP',\n",
    "    44: 'REVERSE_LAYUP',\n",
    "    50: 'RUNNING_DUNK',\n",
    "    76: 'RUNNING_FINGER_ROLL_LAYUP',\n",
    "    41: 'RUNNING_LAYUP',\n",
    "    80: 'STEP_BACK_JUMP_SHOT',\n",
    "    97: 'TIP_LAYUP_SHOT',\n",
    "    86: 'TURNAROUND_FADEAWAY',\n",
    "    58: 'TURNAROUND_HOOK_SHOT',\n",
    "    47: 'TURNAROUND_JUMP_SHOT'\n",
    "}\n",
    "\n",
    "NBA_data['EVENTMSGTYPE_DESCRIPTION'] = NBA_data['EVENTMSGTYPE'].map(EVENTMSGTYPE_mapping).fillna('-')\n",
    "NBA_data['EVENTMSGACTIONTYPE_DESCRIPTION'] = NBA_data['EVENTMSGACTIONTYPE'].map(EVENTMSGACTIONTYPE_mapping).fillna('-')\n",
    "\n",
    "# Rearrange the column\n",
    "NBA_data = NBA_data.reindex(columns=['GAME_ID', 'EVENTNUM', 'EVENTMSGTYPE', 'EVENTMSGTYPE_DESCRIPTION', 'EVENTMSGACTIONTYPE', 'EVENTMSGACTIONTYPE_DESCRIPTION', \n",
    "                                     'HOMEDESCRIPTION', 'PCTIMESTRING', 'PERIOD', 'PERSON1TYPE',\n",
    "                                       'PERSON2TYPE', 'PERSON3TYPE', 'PLAYER1_ID', 'PLAYER1_NAME',\n",
    "                                       'PLAYER1_TEAM_ID', 'PLAYER2_ID', 'PLAYER2_NAME', 'PLAYER2_TEAM_ID',\n",
    "                                       'PLAYER3_ID', 'PLAYER3_NAME', 'PLAYER3_TEAM_ID', 'SCORE', 'SCOREMARGIN',\n",
    "                                       'VISITORDESCRIPTION', 'WCTIMESTRING', 'SEASON'])\n",
    "NBA_data"
   ]
  },
  {
   "cell_type": "markdown",
   "id": "30157938",
   "metadata": {},
   "source": [
    "### Finalized cleaned data"
   ]
  },
  {
   "cell_type": "code",
   "execution_count": null,
   "id": "291efd68",
   "metadata": {},
   "outputs": [],
   "source": [
    "check_missing_values(NBA_data)"
   ]
  },
  {
   "cell_type": "code",
   "execution_count": null,
   "id": "93895994",
   "metadata": {},
   "outputs": [],
   "source": [
    "NBA_data.to_csv('nba_cleaned.csv', index=False)"
   ]
  },
  {
   "cell_type": "markdown",
   "id": "d8d946de",
   "metadata": {},
   "source": [
    "## Part 2: Classification"
   ]
  },
  {
   "cell_type": "markdown",
   "id": "8100f2b4",
   "metadata": {},
   "source": [
    "## Classification Problem 1:\n",
    "#### Based on PERSON_ID, FROM_YEAR, GAMES_PLAYED_FLAG, OTHERLEAGUE_EXPERIENCE_CH and TO_YEAR columns, predict whether the player's ROSTERSTATUS is Active(1) or Inactive(0)"
   ]
  },
  {
   "cell_type": "markdown",
   "id": "53ea036c",
   "metadata": {},
   "source": [
    "### Prepare dataset"
   ]
  },
  {
   "cell_type": "code",
   "execution_count": null,
   "id": "0327b61e",
   "metadata": {},
   "outputs": [],
   "source": [
    "# Use Playerlist dataset\n",
    "playerlist_data = playerlist"
   ]
  },
  {
   "cell_type": "code",
   "execution_count": null,
   "id": "4d1e85f9",
   "metadata": {},
   "outputs": [],
   "source": [
    "# Drop unnecessary columns\n",
    "drop_list = ['PLAYERCODE', 'PLAYER_NAME', 'ROSTERSTATUS', 'TEAM_ABBREVIATION', 'TEAM_CITY', 'TEAM_CODE', 'TEAM_ID', 'TEAM_NAME']\n",
    "playerlist_data_final = playerlist_data.drop(playerlist_data[drop_list], axis=1)\n",
    "\n",
    "playerlist_data_final.head()"
   ]
  },
  {
   "cell_type": "markdown",
   "id": "f8e80ff5",
   "metadata": {},
   "source": [
    "### Label Encoding"
   ]
  },
  {
   "cell_type": "code",
   "execution_count": null,
   "id": "568d4d1b",
   "metadata": {},
   "outputs": [],
   "source": [
    "# Apply Label Encoding to convert to numerical data\n",
    "\n",
    "# Extract columns with object datatype\n",
    "col_list = playerlist_data_final.select_dtypes(include=[\"object\",\"bool\"]).columns.to_list()\n",
    "\n",
    "# Initialize a LabelEncoder for each object column\n",
    "encoders = {}\n",
    "for col in col_list:\n",
    "    encoders[col] = LabelEncoder()\n",
    "    \n",
    "# Encode the object columns in the DataFrame\n",
    "for col in col_list:\n",
    "    playerlist_data_final[col] = encoders[col].fit_transform(playerlist_data_final[col])\n",
    "\n",
    "playerlist_data_final.head()"
   ]
  },
  {
   "cell_type": "markdown",
   "id": "5e464631",
   "metadata": {},
   "source": [
    "### Final check all column datatypes"
   ]
  },
  {
   "cell_type": "code",
   "execution_count": null,
   "id": "53c36c61",
   "metadata": {},
   "outputs": [],
   "source": [
    "# Make sure all columns are numerical\n",
    "playerlist_data_final.dtypes"
   ]
  },
  {
   "cell_type": "markdown",
   "id": "8bc1fc10",
   "metadata": {},
   "source": [
    "## Model 1: Naive Bayes"
   ]
  },
  {
   "cell_type": "code",
   "execution_count": null,
   "id": "67ecb083",
   "metadata": {},
   "outputs": [],
   "source": [
    "# Use Naive Bayes classifier to predict ROSTERSTATUS\n",
    "\n",
    "# Train test split\n",
    "X = playerlist_data_final\n",
    "y = playerlist_data['ROSTERSTATUS']\n",
    "X_train, X_test, y_train, y_test = train_test_split(X, y, test_size=0.2, random_state=0)\n",
    "\n",
    "# Construct the NB model\n",
    "nb = GaussianNB()\n",
    "\n",
    "# Train the model using the training sets\n",
    "nb.fit(X_train, y_train) \n",
    "\n",
    "# Predict y based on X test set\n",
    "y_pred = nb.predict(X_test)\n",
    "\n",
    "# Evaluate the model\n",
    "nb_accuracy = accuracy_score(y_test, y_pred)\n",
    "nb_precision = precision_score(y_test, y_pred)\n",
    "nb_recall = recall_score(y_test, y_pred)\n",
    "nb_f1 = f1_score(y_test, y_pred)\n",
    "\n",
    "# Print model results\n",
    "nb_result = pd.DataFrame({'Metrics': ['Accuracy', 'Precision', 'Recall', 'F1 Score'], 'Results': [nb_accuracy, nb_precision, nb_recall, nb_f1]})\n",
    "nb_result.set_index('Metrics', inplace=True)\n",
    "\n",
    "nb_result"
   ]
  },
  {
   "cell_type": "markdown",
   "id": "bf01b9e1",
   "metadata": {},
   "source": [
    "### Compare actual and predicted values"
   ]
  },
  {
   "cell_type": "code",
   "execution_count": null,
   "id": "61988e80",
   "metadata": {},
   "outputs": [],
   "source": [
    "# Plot a Grouped Bar Chart to compare between actual and predicted values\n",
    "actual_value_count = y_test.value_counts() \n",
    "y_pred_df = pd.DataFrame({'y_pred': y_pred})\n",
    "pred_value_count = y_pred_df.value_counts() \n",
    "\n",
    "x_labels = ['True', 'False']\n",
    "y_values_1 = [actual_value_count[1], actual_value_count[0]]  # Values for the first group\n",
    "y_values_2 = [pred_value_count[1], pred_value_count[0]]  # Values for the second group\n",
    "\n",
    "bar_width = 0.35\n",
    "\n",
    "x_pos = np.arange(len(x_labels))\n",
    "\n",
    "plt.bar(x_pos, y_values_1, width=bar_width, label='Actual values')\n",
    "plt.bar(x_pos + bar_width, y_values_2, width=bar_width, label='Predicted values')\n",
    "\n",
    "plt.xticks(x_pos + bar_width / 2, x_labels)\n",
    "\n",
    "plt.xlabel('Values')\n",
    "plt.ylabel('Count')\n",
    "plt.title('Naive Bayes: Actual vs Predicted comparison')\n",
    "\n",
    "plt.legend()\n",
    "plt.show()"
   ]
  },
  {
   "cell_type": "markdown",
   "id": "19426eac",
   "metadata": {},
   "source": [
    "## Model 2: Support Vector Machine (SVM)"
   ]
  },
  {
   "cell_type": "code",
   "execution_count": null,
   "id": "21ee6a7a",
   "metadata": {},
   "outputs": [],
   "source": [
    "# Use SVM classifier to predict ROSTERSTATUS\n",
    "\n",
    "# Train test split\n",
    "X = playerlist_data_final\n",
    "y = playerlist_data['ROSTERSTATUS']\n",
    "X_train, X_test, y_train, y_test = train_test_split(X, y, test_size=0.2, random_state=0)\n",
    "\n",
    "# Construct the NB model\n",
    "svm_clf = svm.SVC(kernel='rbf', gamma='auto') \n",
    "\n",
    "# Train the model using the training sets\n",
    "svm_clf.fit(X_train, y_train) \n",
    "\n",
    "# Predict y based on X test set\n",
    "y_pred = svm_clf.predict(X_test)\n",
    "\n",
    "# Evaluate the model\n",
    "svm_accuracy = accuracy_score(y_test, y_pred)\n",
    "svm_precision = precision_score(y_test, y_pred)\n",
    "svm_recall = recall_score(y_test, y_pred)\n",
    "svm_f1 = f1_score(y_test, y_pred)\n",
    "\n",
    "# Print model results\n",
    "svm_result = pd.DataFrame({'Metrics': ['Accuracy', 'Precision', 'Recall', 'F1 Score'], 'Results': [svm_accuracy, svm_precision, svm_recall, svm_f1]})\n",
    "svm_result.set_index('Metrics', inplace=True)\n",
    "\n",
    "svm_result"
   ]
  },
  {
   "cell_type": "markdown",
   "id": "10fa7439",
   "metadata": {},
   "source": [
    "### Compare actual and predicted values"
   ]
  },
  {
   "cell_type": "code",
   "execution_count": null,
   "id": "547cb015",
   "metadata": {},
   "outputs": [],
   "source": [
    "# Plot a Grouped Bar Chart to compare between actual and predicted values\n",
    "actual_value_count = y_test.value_counts() \n",
    "y_pred_df = pd.DataFrame({'y_pred': y_pred})\n",
    "pred_value_count = y_pred_df.value_counts() \n",
    "\n",
    "x_labels = ['True', 'False']\n",
    "y_values_1 = [actual_value_count[1], actual_value_count[0]]  # Values for the first group\n",
    "y_values_2 = [pred_value_count[1], pred_value_count[0]]  # Values for the second group\n",
    "\n",
    "bar_width = 0.35\n",
    "\n",
    "x_pos = np.arange(len(x_labels))\n",
    "\n",
    "plt.bar(x_pos, y_values_1, width=bar_width, label='Actual values')\n",
    "plt.bar(x_pos + bar_width, y_values_2, width=bar_width, label='Predicted values')\n",
    "\n",
    "plt.xticks(x_pos + bar_width / 2, x_labels)\n",
    "\n",
    "plt.xlabel('Values')\n",
    "plt.ylabel('Count')\n",
    "plt.title('SVM: Actual vs Predicted comparison')\n",
    "\n",
    "plt.legend()\n",
    "plt.show()"
   ]
  },
  {
   "cell_type": "markdown",
   "id": "cfbf0850",
   "metadata": {},
   "source": [
    "## Classification Problem 2:\n",
    "#### Predict the possibility of EVENTMSGTYPE based on the NBA data"
   ]
  },
  {
   "cell_type": "markdown",
   "id": "dcbdf62f",
   "metadata": {},
   "source": [
    "### Prepare dataset"
   ]
  },
  {
   "cell_type": "code",
   "execution_count": null,
   "id": "4a59db03",
   "metadata": {},
   "outputs": [],
   "source": [
    "# Use NBA Season dataset\n",
    "nba_data = NBA_data"
   ]
  },
  {
   "cell_type": "code",
   "execution_count": null,
   "id": "416610df",
   "metadata": {},
   "outputs": [],
   "source": [
    "# Drop unnecessary columns\n",
    "drop_list = ['EVENTMSGTYPE', 'EVENTMSGTYPE_DESCRIPTION', 'EVENTMSGACTIONTYPE_DESCRIPTION', 'HOMEDESCRIPTION', 'PLAYER1_ID', 'PLAYER1_NAME', 'PLAYER1_TEAM_ID', 'PLAYER2_ID', 'PLAYER2_NAME', 'PLAYER2_TEAM_ID', 'PLAYER3_ID', 'PLAYER3_NAME', 'PLAYER3_TEAM_ID', 'SCORE', 'VISITORDESCRIPTION']\n",
    "nba_data_final = nba_data.drop(nba_data[drop_list], axis=1)\n",
    "\n",
    "nba_data_final.head()"
   ]
  },
  {
   "cell_type": "markdown",
   "id": "edb35bc7",
   "metadata": {},
   "source": [
    "### Convert columns datatype to numerical"
   ]
  },
  {
   "cell_type": "code",
   "execution_count": null,
   "id": "8f94edc1",
   "metadata": {},
   "outputs": [],
   "source": [
    "# Convert WCTIMESTRING column datatype\n",
    "nba_data_final['WCTIMESTRING'] = pd.to_datetime(nba_data_final['WCTIMESTRING'])\n",
    "nba_data_final['WCTIME_Hour'] = nba_data_final['WCTIMESTRING'].dt.hour\n",
    "nba_data_final['WCTIME_Minute'] = nba_data_final['WCTIMESTRING'].dt.minute\n",
    "\n",
    "# Drop original WCTIMESTRING column\n",
    "nba_data_final = nba_data_final.drop('WCTIMESTRING', axis=1)\n",
    "nba_data_final.head()"
   ]
  },
  {
   "cell_type": "code",
   "execution_count": null,
   "id": "be654a10",
   "metadata": {},
   "outputs": [],
   "source": [
    "# Convert PCTIMESTRING column datatype\n",
    "temp_df = pd.DataFrame(columns=['Minutes', 'Seconds'])\n",
    "temp_df = nba_data_final['PCTIMESTRING'].str.split(':', expand=True)\n",
    "\n",
    "# Convert minutes and seconds to numeric values\n",
    "nba_data_final['PCTIME_Minute'] = temp_df[0].astype(int)\n",
    "nba_data_final['PCTIME_Second'] = temp_df[1].astype(int)\n",
    "\n",
    "# Drop original PCTIMESTRING column\n",
    "nba_data_final = nba_data_final.drop('PCTIMESTRING', axis=1)\n",
    "nba_data_final.head()"
   ]
  },
  {
   "cell_type": "code",
   "execution_count": null,
   "id": "ebb01832",
   "metadata": {},
   "outputs": [],
   "source": [
    "# Replace \"-\" with 0\n",
    "nba_data_final = nba_data_final.replace('-', 0)\n",
    "\n",
    "# Replace \"TIE\" value in SCOREMARGIN column\n",
    "nba_data_final['SCOREMARGIN'] = nba_data_final['SCOREMARGIN'].replace('TIE', 0)\n",
    "\n",
    "nba_data_final.head()"
   ]
  },
  {
   "cell_type": "markdown",
   "id": "cb8f6c28",
   "metadata": {},
   "source": [
    "### Label Encoding"
   ]
  },
  {
   "cell_type": "code",
   "execution_count": null,
   "id": "1833970d",
   "metadata": {},
   "outputs": [],
   "source": [
    "# Apply Label Encoding to convert to numerical data\n",
    "\n",
    "# Create a LabelEncoder object\n",
    "label_encoder = LabelEncoder()\n",
    "\n",
    "# Fit and transform the 'SEASON' column\n",
    "nba_data_final['SEASON_ENCODED'] = label_encoder.fit_transform(nba_data_final['SEASON'])\n",
    "\n",
    "# Drop original SEASON column\n",
    "nba_data_final = nba_data_final.drop('SEASON', axis=1)\n",
    "nba_data_final.head()"
   ]
  },
  {
   "cell_type": "code",
   "execution_count": null,
   "id": "f8a9a372",
   "metadata": {},
   "outputs": [],
   "source": [
    "# Convert object datatype columns to int datatype\n",
    "object_columns = nba_data_final.select_dtypes(include='object').columns\n",
    "nba_data_final[object_columns] = nba_data_final[object_columns].astype(int)\n",
    "nba_data_final.head()"
   ]
  },
  {
   "cell_type": "markdown",
   "id": "c8343d3f",
   "metadata": {},
   "source": [
    "### Final check all column datatypes"
   ]
  },
  {
   "cell_type": "code",
   "execution_count": null,
   "id": "55935d9d",
   "metadata": {},
   "outputs": [],
   "source": [
    "# Make sure all columns are numerical\n",
    "nba_data_final.dtypes"
   ]
  },
  {
   "cell_type": "markdown",
   "id": "d919c04a",
   "metadata": {},
   "source": [
    "## Model 1: Naive Bayes"
   ]
  },
  {
   "cell_type": "code",
   "execution_count": null,
   "id": "300d7dc6",
   "metadata": {},
   "outputs": [],
   "source": [
    "# Use Naive Bayes classifier to predict EVENTMSGTYPE\n",
    "\n",
    "# Train test split\n",
    "X = nba_data_final\n",
    "y = nba_data['EVENTMSGTYPE']\n",
    "X_train, X_test, y_train, y_test = train_test_split(X, y, test_size=0.2, random_state=0)\n",
    "\n",
    "# Construct the NB model\n",
    "nb = GaussianNB()\n",
    "\n",
    "# Train the model using the training sets\n",
    "nb.fit(X_train, y_train) \n",
    "\n",
    "# Predict y based on X test set\n",
    "y_pred = nb.predict(X_test)\n",
    "\n",
    "# Evaluate the model\n",
    "nb_accuracy = accuracy_score(y_test, y_pred)\n",
    "nb_precision = precision_score(y_test, y_pred, average='macro')\n",
    "nb_recall = recall_score(y_test, y_pred, average='macro')\n",
    "nb_f1 = f1_score(y_test, y_pred, average='macro')\n",
    "\n",
    "# Print model results\n",
    "nb_result = pd.DataFrame({'Metrics': ['Accuracy', 'Precision', 'Recall', 'F1 Score'], 'Results': [nb_accuracy, nb_precision, nb_recall, nb_f1]})\n",
    "nb_result.set_index('Metrics', inplace=True)\n",
    "\n",
    "nb_result"
   ]
  },
  {
   "cell_type": "markdown",
   "id": "c2c38040",
   "metadata": {},
   "source": [
    "### Compare actual and predicted values"
   ]
  },
  {
   "cell_type": "code",
   "execution_count": null,
   "id": "942ac477",
   "metadata": {},
   "outputs": [],
   "source": [
    "# Compare y_test and y_pred values\n",
    "compare_df = pd.DataFrame({'y_test': y_test, 'y_pred': y_pred})\n",
    "\n",
    "# Add a new column to check if the values are the same\n",
    "compare_df['Match'] = compare_df['y_test'] == compare_df['y_pred']\n",
    "\n",
    "compare_df"
   ]
  },
  {
   "cell_type": "code",
   "execution_count": null,
   "id": "1d69f40b",
   "metadata": {},
   "outputs": [],
   "source": [
    "# Print number of Matches\n",
    "compare_df['Match'].value_counts()"
   ]
  },
  {
   "cell_type": "markdown",
   "id": "f608f6a4",
   "metadata": {},
   "source": [
    "## Model 2: Logistic Regression"
   ]
  },
  {
   "cell_type": "code",
   "execution_count": null,
   "id": "b9bcc0bf",
   "metadata": {},
   "outputs": [],
   "source": [
    "# Use Logistic Regression classifier to predict EVENTMSGTYPE\n",
    "\n",
    "# Split the data into training and test sets\n",
    "X = nba_data_final\n",
    "y = nba_data['EVENTMSGTYPE']\n",
    "X_train, X_test, y_train, y_test = train_test_split(X,  y, test_size=0.2, random_state=2) # 20% test set, 80% training set\n",
    "\n",
    "# Create the linear regression model\n",
    "logisticReg = LogisticRegression()\n",
    "\n",
    "# Train the model on the training data\n",
    "logisticReg.fit(X_train, y_train)\n",
    "\n",
    "# Evaluate the model\n",
    "lg_accuracy = accuracy_score(y_test, y_pred)\n",
    "lg_precision = precision_score(y_test, y_pred, average='macro')\n",
    "lg_recall = recall_score(y_test, y_pred, average='macro')\n",
    "lg_f1 = f1_score(y_test, y_pred, average='macro')\n",
    "\n",
    "# Print model results\n",
    "lg_result = pd.DataFrame({'Metrics': ['Accuracy', 'Precision', 'Recall', 'F1 Score'], 'Results': [nb_accuracy, nb_precision, nb_recall, nb_f1]})\n",
    "lg_result.set_index('Metrics', inplace=True)\n",
    "\n",
    "lg_result"
   ]
  },
  {
   "cell_type": "markdown",
   "id": "79cf2601",
   "metadata": {},
   "source": [
    "### Compare actual and predicted values"
   ]
  },
  {
   "cell_type": "code",
   "execution_count": null,
   "id": "7548cf12",
   "metadata": {},
   "outputs": [],
   "source": [
    "# Compare y_test and y_pred values\n",
    "compare_df = pd.DataFrame({'y_test': y_test, 'y_pred': y_pred})\n",
    "\n",
    "# Add a new column to check if the values are the same\n",
    "compare_df['Match'] = compare_df['y_test'] == compare_df['y_pred']\n",
    "\n",
    "compare_df"
   ]
  },
  {
   "cell_type": "code",
   "execution_count": null,
   "id": "76e6bf79",
   "metadata": {},
   "outputs": [],
   "source": [
    "# Print number of Matches\n",
    "compare_df['Match'].value_counts()"
   ]
  },
  {
   "cell_type": "markdown",
   "id": "02c00938",
   "metadata": {},
   "source": [
    "## Part 3: Cluster Analysis"
   ]
  },
  {
   "cell_type": "markdown",
   "id": "252ea5e3",
   "metadata": {},
   "source": [
    "## Clustering Problem:\n",
    "#### Insert problem here"
   ]
  },
  {
   "cell_type": "code",
   "execution_count": null,
   "id": "a0bb263b",
   "metadata": {},
   "outputs": [],
   "source": []
  },
  {
   "cell_type": "markdown",
   "id": "cb74b18b",
   "metadata": {},
   "source": [
    "## Summary"
   ]
  },
  {
   "cell_type": "code",
   "execution_count": null,
   "id": "9cacca1f",
   "metadata": {},
   "outputs": [],
   "source": []
  }
 ],
 "metadata": {
  "kernelspec": {
   "display_name": "Python 3",
   "language": "python",
   "name": "python3"
  },
  "language_info": {
   "codemirror_mode": {
    "name": "ipython",
    "version": 3
   },
   "file_extension": ".py",
   "mimetype": "text/x-python",
   "name": "python",
   "nbconvert_exporter": "python",
   "pygments_lexer": "ipython3",
   "version": "3.8.8"
  }
 },
 "nbformat": 4,
 "nbformat_minor": 5
}
